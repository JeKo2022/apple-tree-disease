{
  "nbformat": 4,
  "nbformat_minor": 0,
  "metadata": {
    "colab": {
      "name": "MLP.ipynb",
      "provenance": [],
      "collapsed_sections": [],
      "include_colab_link": true
    },
    "kernelspec": {
      "name": "python3",
      "display_name": "Python 3"
    },
    "language_info": {
      "name": "python"
    },
    "accelerator": "GPU"
  },
  "cells": [
    {
      "cell_type": "markdown",
      "metadata": {
        "id": "view-in-github",
        "colab_type": "text"
      },
      "source": [
        "<a href=\"https://colab.research.google.com/github/JeLaKo/apple-tree-disease/blob/main/adjustedsamples_MLP(1).ipynb\" target=\"_parent\"><img src=\"https://colab.research.google.com/assets/colab-badge.svg\" alt=\"Open In Colab\"/></a>"
      ]
    },
    {
      "cell_type": "markdown",
      "source": [
        "Loading the data directly through Kaggle's API"
      ],
      "metadata": {
        "id": "TqzOGBFWtYKn"
      }
    },
    {
      "cell_type": "code",
      "execution_count": 2,
      "metadata": {
        "id": "NF6qQ5qUmQI_",
        "colab": {
          "base_uri": "https://localhost:8080/"
        },
        "outputId": "c40a6deb-0fe3-45c5-fbbb-8306330e6204"
      },
      "outputs": [
        {
          "output_type": "stream",
          "name": "stdout",
          "text": [
            "Mounted at /content/gdrive\n"
          ]
        }
      ],
      "source": [
        "from google.colab import drive\n",
        "drive.mount(\"/content/gdrive\", force_remount=True)"
      ]
    },
    {
      "cell_type": "code",
      "source": [
        "!pip install -U -q kaggle==1.5.8"
      ],
      "metadata": {
        "id": "ciuScTfXr0VL",
        "colab": {
          "base_uri": "https://localhost:8080/"
        },
        "outputId": "6dd42cd2-61c1-4563-cd2f-c5c551d5cfd2"
      },
      "execution_count": null,
      "outputs": [
        {
          "output_type": "stream",
          "name": "stdout",
          "text": [
            "\u001b[?25l\r\u001b[K     |█████▌                          | 10 kB 32.0 MB/s eta 0:00:01\r\u001b[K     |███████████                     | 20 kB 27.8 MB/s eta 0:00:01\r\u001b[K     |████████████████▋               | 30 kB 19.0 MB/s eta 0:00:01\r\u001b[K     |██████████████████████▏         | 40 kB 15.9 MB/s eta 0:00:01\r\u001b[K     |███████████████████████████▊    | 51 kB 12.0 MB/s eta 0:00:01\r\u001b[K     |████████████████████████████████| 59 kB 4.5 MB/s \n",
            "\u001b[?25h  Building wheel for kaggle (setup.py) ... \u001b[?25l\u001b[?25hdone\n",
            "  Building wheel for slugify (setup.py) ... \u001b[?25l\u001b[?25hdone\n"
          ]
        }
      ]
    },
    {
      "cell_type": "code",
      "source": [
        "%cd /content/gdrive/MyDrive/MLP/"
      ],
      "metadata": {
        "colab": {
          "base_uri": "https://localhost:8080/"
        },
        "id": "Lm1ktmfxsmpm",
        "outputId": "5c725f6a-d11a-437f-b58d-d97c544c96f5"
      },
      "execution_count": 3,
      "outputs": [
        {
          "output_type": "stream",
          "name": "stdout",
          "text": [
            "/content/gdrive/MyDrive/MLP\n"
          ]
        }
      ]
    },
    {
      "cell_type": "code",
      "source": [
        "import os"
      ],
      "metadata": {
        "id": "O-H80pCbsuzS"
      },
      "execution_count": 4,
      "outputs": []
    },
    {
      "cell_type": "code",
      "source": [
        "os.environ['KAGGLE_CONFIG_DIR'] = \"/content/gdrive/MyDrive/MLP/\"\n",
        "! kaggle competitions download -c plant-pathology-2021-fgvc8"
      ],
      "metadata": {
        "id": "XIrQYT90uv5m",
        "colab": {
          "base_uri": "https://localhost:8080/"
        },
        "outputId": "e08e0e39-29fb-4a73-e31e-b88a11f04f8d"
      },
      "execution_count": null,
      "outputs": [
        {
          "output_type": "stream",
          "name": "stdout",
          "text": [
            "Downloading plant-pathology-2021-fgvc8.zip to /content/gdrive/MyDrive/MLP\n",
            "100% 14.9G/14.9G [05:37<00:00, 24.4MB/s]\n",
            "100% 14.9G/14.9G [05:37<00:00, 47.4MB/s]\n"
          ]
        }
      ]
    },
    {
      "cell_type": "code",
      "source": [
        "! unzip plant-pathology-2021-fgvc8.zip -d train"
      ],
      "metadata": {
        "colab": {
          "base_uri": "https://localhost:8080/"
        },
        "id": "4w4s3qRQ3Z6X",
        "outputId": "34a8ca05-3f30-417c-82b3-18ad020a8e4e"
      },
      "execution_count": null,
      "outputs": [
        {
          "output_type": "stream",
          "name": "stdout",
          "text": [
            "Archive:  plant-pathology-2021-fgvc8.zip\n",
            "replace train/sample_submission.csv? [y]es, [n]o, [A]ll, [N]one, [r]ename: "
          ]
        }
      ]
    },
    {
      "cell_type": "markdown",
      "source": [
        "Data processing\n"
      ],
      "metadata": {
        "id": "v192m162tVHj"
      }
    },
    {
      "cell_type": "code",
      "source": [
        "import pandas as pd\n",
        "import cv2\n",
        "import numpy as np\n",
        "import tensorflow as tf\n",
        "from tensorflow import keras\n",
        "from tensorflow.keras import layers\n",
        "from sklearn.model_selection import train_test_split\n",
        "\n",
        "%cd /content/gdrive/MyDrive/MLP/train/"
      ],
      "metadata": {
        "id": "ibOekLk5tlko",
        "colab": {
          "base_uri": "https://localhost:8080/"
        },
        "outputId": "0022364a-99d7-443f-af1d-0a60033235d5"
      },
      "execution_count": 5,
      "outputs": [
        {
          "output_type": "stream",
          "name": "stdout",
          "text": [
            "/content/gdrive/MyDrive/MLP/train\n"
          ]
        }
      ]
    },
    {
      "cell_type": "code",
      "source": [
        "df = pd.read_csv('train.csv')\n",
        "#print(df.head())\n",
        "\n",
        "# df_test = pd.read_csv('sample_submission.csv')\n",
        "# print(df_test.head())"
      ],
      "metadata": {
        "id": "4oGL6rPetoLs"
      },
      "execution_count": 6,
      "outputs": []
    },
    {
      "cell_type": "code",
      "source": [
        "new_labels = df['labels'].to_list()\n",
        "\n",
        "for i in range(len(new_labels)):\n",
        "  if new_labels[i] == 'scab frog_eye_leaf_spot complex' or new_labels[i] == 'scab frog_eye_leaf_spot':\n",
        "    new_labels[i] = 'scab'\n",
        "  elif new_labels[i] == 'frog_eye_leaf_spot complex':\n",
        "    new_labels[i] = 'frog_eye_leaf_spot'\n",
        "  elif new_labels[i] == 'powdery_mildew complex':\n",
        "    new_labels[i] = 'powdery_mildew'\n",
        "  elif new_labels[i] == 'rust complex' or new_labels[i] == 'rust frog_eye_leaf_spot':\n",
        "    new_labels[i] = 'rust'\n"
      ],
      "metadata": {
        "id": "MKIFbUN5mLzA"
      },
      "execution_count": 7,
      "outputs": []
    },
    {
      "cell_type": "code",
      "source": [
        "df['adjusted labels'] = np.array(new_labels)\n",
        "df = df.drop('labels', axis = 1)\n",
        "\n",
        "#print(df)"
      ],
      "metadata": {
        "id": "vHb0J7dOqTMM"
      },
      "execution_count": 8,
      "outputs": []
    },
    {
      "cell_type": "code",
      "source": [
        "def sample(df, sample_size):\n",
        "  \"\"\"\n",
        "  This function gets an equal sample inclusive of all classes from the input dataframe\n",
        "  \"\"\"\n",
        "  df_sampled = []\n",
        "  classes = df['adjusted labels'].unique()\n",
        "\n",
        "  for i in classes:\n",
        "      g = df[df['adjusted labels'] == i].sample(sample_size)\n",
        "      df_sampled.append(g)\n",
        "\n",
        "  df_sampled = pd.concat(df_sampled)\n",
        "  return df_sampled\n",
        "\n",
        "df_sampled = sample(df, 1184)\n",
        "print(df_sampled)"
      ],
      "metadata": {
        "colab": {
          "base_uri": "https://localhost:8080/"
        },
        "id": "Zh7Rr6dNzlMN",
        "outputId": "ff18aaac-7a47-42a3-ef66-c77d45823e0e"
      },
      "execution_count": 9,
      "outputs": [
        {
          "output_type": "stream",
          "name": "stdout",
          "text": [
            "                      image adjusted labels\n",
            "3233   998945fcd68885bd.jpg         healthy\n",
            "8101   b8fcdeb458998095.jpg         healthy\n",
            "8644   bda9a5decc242c94.jpg         healthy\n",
            "17290  f8b8d97c1a1c12f1.jpg         healthy\n",
            "9705   c332cb3a8f720d27.jpg         healthy\n",
            "...                     ...             ...\n",
            "11860  d2ad07897e60c9bc.jpg  powdery_mildew\n",
            "3318   9a8967ca9bddc144.jpg  powdery_mildew\n",
            "2727   958e186f17977261.jpg  powdery_mildew\n",
            "3743   9f1061a618f3fcc9.jpg  powdery_mildew\n",
            "14212  e32938df4d780ea4.jpg  powdery_mildew\n",
            "\n",
            "[7104 rows x 2 columns]\n"
          ]
        }
      ]
    },
    {
      "cell_type": "code",
      "source": [
        "def one_hot(df):\n",
        "  \"\"\"\n",
        "  This function returns all classes and combination of classes found in the input-dataframe, and returns\n",
        "  the one-hot encoded version\n",
        "  \"\"\"\n",
        "  one_hot = pd.get_dummies(df['adjusted labels'])\n",
        "  df = df.drop('adjusted labels', axis = 1)\n",
        "  df = df.join(one_hot)\n",
        "  return df\n",
        "\n",
        "df_onehot = one_hot(df_sampled)\n",
        "#print(df_onehot)\n",
        "\n",
        "# df_test = one_hot(df_test)\n",
        "# print(df_test.head())"
      ],
      "metadata": {
        "id": "GdWniTfft-GO"
      },
      "execution_count": 10,
      "outputs": []
    },
    {
      "cell_type": "code",
      "source": [
        "import matplotlib.pyplot as plt\n",
        "\n",
        "from tensorflow.keras import layers, models, preprocessing\n",
        "\n",
        "def train_and_evaluate(model, train_x, train_y, val_x, val_y, preprocess={}, epochs=20, augment={}):\n",
        "\n",
        "    model.compile(loss='categorical_crossentropy', optimizer='adam', metrics=['accuracy'])\n",
        "\n",
        "    train_gen = preprocessing.image.ImageDataGenerator(**preprocess, **augment)\n",
        "    train_gen.fit(train_x) \n",
        "\n",
        "    val_gen = preprocessing.image.ImageDataGenerator(**preprocess)\n",
        "    val_gen.fit(train_x)\n",
        "\n",
        "    history = model.fit(train_gen.flow(train_x, train_y), epochs=epochs, \n",
        "                        validation_data=val_gen.flow(val_x, val_y))\n",
        "\n",
        "    fig, axs = plt.subplots(1,2,figsize=(20,5)) \n",
        "\n",
        "    for i, metric in enumerate(['loss', 'accuracy']):\n",
        "        axs[i].plot(history.history[metric])\n",
        "        axs[i].plot(history.history['val_'+metric])\n",
        "        axs[i].legend(['training', 'validation'], loc='best')\n",
        "\n",
        "        axs[i].set_title('Model '+metric)\n",
        "        axs[i].set_ylabel(metric)\n",
        "        axs[i].set_xlabel('epoch')\n",
        "\n",
        "    plt.show()\n",
        "\n",
        "    print(f\"Validation Accuracy: {model.evaluate(val_gen.flow(val_x, val_y))[1]}\")"
      ],
      "metadata": {
        "id": "2uvdJ8Yh3W7g"
      },
      "execution_count": 11,
      "outputs": []
    },
    {
      "cell_type": "code",
      "source": [
        "# convert dictionary into a hashable type\n",
        "df_dict = df_onehot.set_index('image').T.to_dict('list')\n",
        "\n",
        "# gather names of all images in the image-directory\n",
        "train_images = os.listdir('train_images/')\n",
        "\n",
        "# # empty column for the actual images\n",
        "# df_onehot[\"image_pixels\"] = 0\n",
        "\n",
        "images = []\n",
        "# find corresponding key to image from directory, and add that image to a list\n",
        "for image in df_dict.keys():\n",
        "  if image in train_images:\n",
        "    img = cv2.imread('train_images/' + image)\n",
        "    img = cv2.resize(img, (96, 96)) \n",
        "    images.append(img)\n",
        "\n",
        "labels = list(df_dict.values())"
      ],
      "metadata": {
        "id": "4jts4lwY0YS9"
      },
      "execution_count": null,
      "outputs": []
    },
    {
      "cell_type": "code",
      "source": [
        "images = np.array(images)\n",
        "labels = np.array(labels)"
      ],
      "metadata": {
        "id": "o4A7xjIFAwyb"
      },
      "execution_count": null,
      "outputs": []
    },
    {
      "cell_type": "code",
      "source": [
        "x_train, x_val, y_train, y_val = train_test_split(images, labels, test_size = 0.3, random_state=42)"
      ],
      "metadata": {
        "id": "_LAtB1dQnt0e"
      },
      "execution_count": null,
      "outputs": []
    },
    {
      "cell_type": "code",
      "source": [
        "\n",
        "# Define Sequential model\n",
        "model = models.Sequential()\n",
        "\n",
        "# create convolutional layer and max pooling layer\n",
        "model.add(layers.Conv2D(32, (3, 3), activation='relu', padding='same', input_shape=(96, 96, 3)))\n",
        "model.add(layers.MaxPooling2D((2, 2)))\n",
        "\n",
        "# create convolutional layer (larger) and max pooling layer\n",
        "model.add(layers.Conv2D(64, (3, 3), activation='relu', padding='same'))\n",
        "model.add(layers.MaxPooling2D((2, 2)))\n",
        "\n",
        "# flatten layers\n",
        "model.add(layers.Flatten())\n",
        "model.add(layers.Dense(256, activation='relu'))\n",
        "\n",
        "# apply softmax activation for final layer classification\n",
        "model.add(layers.Dense(12, activation='softmax'))\n",
        "\n",
        "# normalize input data: set preprocesing dictionary\n",
        "preprocess = {'featurewise_center': True, 'featurewise_std_normalization' : True}\n",
        "\n",
        "# run training and evaluation function\n",
        "train_and_evaluate(model, x_train, y_train, x_val, y_val, preprocess)"
      ],
      "metadata": {
        "colab": {
          "base_uri": "https://localhost:8080/",
          "height": 1000
        },
        "id": "ULlZim8l2zKg",
        "outputId": "39269d80-f3f7-44e3-c79e-e829133b8555"
      },
      "execution_count": null,
      "outputs": [
        {
          "output_type": "stream",
          "name": "stdout",
          "text": [
            "288\n",
            "288\n",
            "Epoch 1/20\n",
            "21/21 [==============================] - 35s 43ms/step - loss: 4.0614 - accuracy: 0.1012 - val_loss: 2.4842 - val_accuracy: 0.1111\n",
            "Epoch 2/20\n",
            "21/21 [==============================] - 1s 24ms/step - loss: 2.4577 - accuracy: 0.1369 - val_loss: 2.4572 - val_accuracy: 0.0938\n",
            "Epoch 3/20\n",
            "21/21 [==============================] - 1s 25ms/step - loss: 2.3468 - accuracy: 0.1696 - val_loss: 2.4378 - val_accuracy: 0.1389\n",
            "Epoch 4/20\n",
            "21/21 [==============================] - 1s 24ms/step - loss: 2.1777 - accuracy: 0.2336 - val_loss: 2.4549 - val_accuracy: 0.1354\n",
            "Epoch 5/20\n",
            "21/21 [==============================] - 1s 24ms/step - loss: 1.8466 - accuracy: 0.3914 - val_loss: 2.4729 - val_accuracy: 0.2014\n",
            "Epoch 6/20\n",
            "21/21 [==============================] - 1s 24ms/step - loss: 1.3291 - accuracy: 0.5833 - val_loss: 2.5677 - val_accuracy: 0.2188\n",
            "Epoch 7/20\n",
            "21/21 [==============================] - 0s 22ms/step - loss: 0.6985 - accuracy: 0.8065 - val_loss: 2.9617 - val_accuracy: 0.2431\n",
            "Epoch 8/20\n",
            "21/21 [==============================] - 0s 23ms/step - loss: 0.2024 - accuracy: 0.9688 - val_loss: 3.6599 - val_accuracy: 0.2014\n",
            "Epoch 9/20\n",
            "21/21 [==============================] - 1s 24ms/step - loss: 0.0714 - accuracy: 0.9896 - val_loss: 4.0037 - val_accuracy: 0.1701\n",
            "Epoch 10/20\n",
            "21/21 [==============================] - 0s 22ms/step - loss: 0.0558 - accuracy: 0.9896 - val_loss: 4.0630 - val_accuracy: 0.1806\n",
            "Epoch 11/20\n",
            "21/21 [==============================] - 0s 23ms/step - loss: 0.0102 - accuracy: 1.0000 - val_loss: 4.1509 - val_accuracy: 0.2396\n",
            "Epoch 12/20\n",
            "21/21 [==============================] - 0s 21ms/step - loss: 0.0034 - accuracy: 1.0000 - val_loss: 4.1339 - val_accuracy: 0.2153\n",
            "Epoch 13/20\n",
            "21/21 [==============================] - 1s 24ms/step - loss: 0.0016 - accuracy: 1.0000 - val_loss: 4.1858 - val_accuracy: 0.2153\n",
            "Epoch 14/20\n",
            "21/21 [==============================] - 0s 23ms/step - loss: 0.0011 - accuracy: 1.0000 - val_loss: 4.2743 - val_accuracy: 0.2153\n",
            "Epoch 15/20\n",
            "21/21 [==============================] - 0s 22ms/step - loss: 8.6252e-04 - accuracy: 1.0000 - val_loss: 4.3372 - val_accuracy: 0.2222\n",
            "Epoch 16/20\n",
            "21/21 [==============================] - 0s 23ms/step - loss: 7.0002e-04 - accuracy: 1.0000 - val_loss: 4.3780 - val_accuracy: 0.2222\n",
            "Epoch 17/20\n",
            "21/21 [==============================] - 0s 22ms/step - loss: 5.8635e-04 - accuracy: 1.0000 - val_loss: 4.4209 - val_accuracy: 0.2188\n",
            "Epoch 18/20\n",
            "21/21 [==============================] - 1s 24ms/step - loss: 4.9898e-04 - accuracy: 1.0000 - val_loss: 4.4653 - val_accuracy: 0.2153\n",
            "Epoch 19/20\n",
            "21/21 [==============================] - 0s 23ms/step - loss: 4.2878e-04 - accuracy: 1.0000 - val_loss: 4.4996 - val_accuracy: 0.2153\n",
            "Epoch 20/20\n",
            "21/21 [==============================] - 1s 24ms/step - loss: 3.6886e-04 - accuracy: 1.0000 - val_loss: 4.5340 - val_accuracy: 0.2222\n"
          ]
        },
        {
          "output_type": "display_data",
          "data": {
            "image/png": "[encoded data removed]",
            "text/plain": [
              "<Figure size 1440x360 with 2 Axes>"
            ]
          },
          "metadata": {
            "needs_background": "light"
          }
        },
        {
          "output_type": "stream",
          "name": "stdout",
          "text": [
            "9/9 [==============================] - 0s 16ms/step - loss: 4.5340 - accuracy: 0.2222\n",
            "Validation Accuracy: 0.2222222238779068\n"
          ]
        }
      ]
    },
    {
      "cell_type": "code",
      "source": [
        "model.summary()"
      ],
      "metadata": {
        "id": "aEjUnYrJ6u2O"
      },
      "execution_count": null,
      "outputs": []
    },
    {
      "cell_type": "code",
      "source": [
        "import seaborn as sns\n",
        "import tensorflow as tf\n",
        "from tensorflow import math as tfmath\n",
        "\n",
        "classes = df['adjusted labels'].unique()\n",
        "x_test_flat = x_train.reshape(x_val.shape[0], (96, 96, 3))\n",
        "\n",
        "y_true = tf.argmax(y_val, axis=1)\n",
        "y_pred = tf.argmax(model(x_test_flat), axis=1)\n",
        "\n",
        "conf_matrix = tfmath.confusion_matrix(y_true, y_pred, num_classes=6)\n",
        "\n",
        "ax = sns.heatmap(conf_matrix, xticklabels=classes, yticklabels=classes)\n",
        "ax.set(xlabel='Predicted Class', ylabel='Actual Class')\n",
        "plt.show()\n",
        "\n",
        "print(conf_matrix)"
      ],
      "metadata": {
        "id": "jcwt60b_Jtc_"
      },
      "execution_count": null,
      "outputs": []
    }
  ]
}