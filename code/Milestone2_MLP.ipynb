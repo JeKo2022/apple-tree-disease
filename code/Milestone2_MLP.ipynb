{
  "nbformat": 4,
  "nbformat_minor": 0,
  "metadata": {
    "colab": {
      "name": "Milestone2_MLP.ipynb",
      "provenance": [],
      "collapsed_sections": []
    },
    "kernelspec": {
      "name": "python3",
      "display_name": "Python 3"
    },
    "language_info": {
      "name": "python"
    },
    "accelerator": "GPU"
  },
  "cells": [
    {
      "cell_type": "markdown",
      "source": [
        "Loading the data directly through Kaggle's API"
      ],
      "metadata": {
        "id": "TqzOGBFWtYKn"
      }
    },
    {
      "cell_type": "code",
      "execution_count": 1,
      "metadata": {
        "id": "NF6qQ5qUmQI_",
        "colab": {
          "base_uri": "https://localhost:8080/"
        },
        "outputId": "070d8491-b17d-44d7-bea7-db22df756cea"
      },
      "outputs": [
        {
          "output_type": "stream",
          "name": "stdout",
          "text": [
            "Mounted at /content/gdrive\n"
          ]
        }
      ],
      "source": [
        "from google.colab import drive\n",
        "drive.mount(\"/content/gdrive\", force_remount=True)"
      ]
    },
    {
      "cell_type": "code",
      "source": [
        "!pip install -U -q kaggle==1.5.8"
      ],
      "metadata": {
        "id": "ciuScTfXr0VL",
        "colab": {
          "base_uri": "https://localhost:8080/"
        },
        "outputId": "053a9c23-2b22-463a-e538-1139df6d9ee2"
      },
      "execution_count": 2,
      "outputs": [
        {
          "output_type": "stream",
          "name": "stdout",
          "text": [
            "\u001b[?25l\r\u001b[K     |█████▌                          | 10 kB 35.9 MB/s eta 0:00:01\r\u001b[K     |███████████                     | 20 kB 31.3 MB/s eta 0:00:01\r\u001b[K     |████████████████▋               | 30 kB 19.2 MB/s eta 0:00:01\r\u001b[K     |██████████████████████▏         | 40 kB 16.2 MB/s eta 0:00:01\r\u001b[K     |███████████████████████████▊    | 51 kB 15.0 MB/s eta 0:00:01\r\u001b[K     |████████████████████████████████| 59 kB 4.9 MB/s \n",
            "\u001b[?25h  Building wheel for kaggle (setup.py) ... \u001b[?25l\u001b[?25hdone\n",
            "  Building wheel for slugify (setup.py) ... \u001b[?25l\u001b[?25hdone\n"
          ]
        }
      ]
    },
    {
      "cell_type": "code",
      "source": [
        "%cd /content/gdrive/MyDrive/MLP/"
      ],
      "metadata": {
        "colab": {
          "base_uri": "https://localhost:8080/"
        },
        "id": "Lm1ktmfxsmpm",
        "outputId": "631033be-68fb-4126-e5ff-88ab30baea89"
      },
      "execution_count": 3,
      "outputs": [
        {
          "output_type": "stream",
          "name": "stdout",
          "text": [
            "/content/gdrive/MyDrive/MLP\n"
          ]
        }
      ]
    },
    {
      "cell_type": "code",
      "source": [
        "import os"
      ],
      "metadata": {
        "id": "O-H80pCbsuzS"
      },
      "execution_count": 4,
      "outputs": []
    },
    {
      "cell_type": "code",
      "source": [
        "os.environ['KAGGLE_CONFIG_DIR'] = \"/content/gdrive/MyDrive/MLP/\"\n",
        "! kaggle competitions download -c plant-pathology-2021-fgvc8"
      ],
      "metadata": {
        "id": "XIrQYT90uv5m",
        "colab": {
          "base_uri": "https://localhost:8080/"
        },
        "outputId": "36bd5676-a31f-47d7-a19b-215577e274f1"
      },
      "execution_count": 5,
      "outputs": [
        {
          "output_type": "stream",
          "name": "stdout",
          "text": [
            "Downloading plant-pathology-2021-fgvc8.zip to /content/gdrive/MyDrive/MLP\n",
            "100% 14.9G/14.9G [05:29<00:00, 70.8MB/s]\n",
            "100% 14.9G/14.9G [05:32<00:00, 48.0MB/s]\n"
          ]
        }
      ]
    },
    {
      "cell_type": "code",
      "source": [
        "! unzip -q plant-pathology-2021-fgvc8.zip -d train"
      ],
      "metadata": {
        "id": "4w4s3qRQ3Z6X"
      },
      "execution_count": 6,
      "outputs": []
    },
    {
      "cell_type": "markdown",
      "source": [
        "Data processing\n"
      ],
      "metadata": {
        "id": "v192m162tVHj"
      }
    },
    {
      "cell_type": "code",
      "source": [
        "import pandas as pd\n",
        "import cv2\n",
        "import numpy as np\n",
        "import tensorflow as tf\n",
        "from tensorflow import keras\n",
        "from tensorflow.keras import layers\n",
        "from sklearn.model_selection import train_test_split\n",
        "\n",
        "%cd /content/gdrive/MyDrive/MLP/train/"
      ],
      "metadata": {
        "id": "ibOekLk5tlko",
        "colab": {
          "base_uri": "https://localhost:8080/"
        },
        "outputId": "7448b0fc-859c-404b-e2f6-04aa8cc8e421"
      },
      "execution_count": 7,
      "outputs": [
        {
          "output_type": "stream",
          "name": "stdout",
          "text": [
            "/content/gdrive/MyDrive/MLP/train\n"
          ]
        }
      ]
    },
    {
      "cell_type": "code",
      "source": [
        "df = pd.read_csv('train.csv')\n",
        "#print(df.head())\n",
        "\n",
        "# df_test = pd.read_csv('sample_submission.csv')\n",
        "# print(df_test.head())"
      ],
      "metadata": {
        "id": "4oGL6rPetoLs"
      },
      "execution_count": 8,
      "outputs": []
    },
    {
      "cell_type": "code",
      "source": [
        "new_labels = df['labels'].to_list()\n",
        "\n",
        "for i in range(len(new_labels)):\n",
        "  if new_labels[i] == 'scab frog_eye_leaf_spot complex' or new_labels[i] == 'scab frog_eye_leaf_spot':\n",
        "    new_labels[i] = 'scab'\n",
        "  elif new_labels[i] == 'frog_eye_leaf_spot complex':\n",
        "    new_labels[i] = 'frog_eye_leaf_spot'\n",
        "  elif new_labels[i] == 'powdery_mildew complex':\n",
        "    new_labels[i] = 'powdery_mildew'\n",
        "  elif new_labels[i] == 'rust complex' or new_labels[i] == 'rust frog_eye_leaf_spot':\n",
        "    new_labels[i] = 'rust'\n"
      ],
      "metadata": {
        "id": "MKIFbUN5mLzA"
      },
      "execution_count": 9,
      "outputs": []
    },
    {
      "cell_type": "code",
      "source": [
        "df['adjusted labels'] = np.array(new_labels)\n",
        "df = df.drop('labels', axis = 1)\n",
        "\n",
        "#print(df)"
      ],
      "metadata": {
        "id": "vHb0J7dOqTMM"
      },
      "execution_count": 10,
      "outputs": []
    },
    {
      "cell_type": "code",
      "source": [
        "def sample(df, sample_size):\n",
        "  \"\"\"\n",
        "  This function gets an equal sample inclusive of all classes from the input dataframe\n",
        "  \"\"\"\n",
        "  df_sampled = []\n",
        "  classes = df['adjusted labels'].unique()\n",
        "\n",
        "  for i in classes:\n",
        "      g = df[df['adjusted labels'] == i].sample(sample_size)\n",
        "      df_sampled.append(g)\n",
        "\n",
        "  df_sampled = pd.concat(df_sampled)\n",
        "  return df_sampled\n",
        "\n",
        "df_sampled = sample(df, 1184)\n",
        "print(df_sampled)"
      ],
      "metadata": {
        "colab": {
          "base_uri": "https://localhost:8080/"
        },
        "id": "Zh7Rr6dNzlMN",
        "outputId": "72fb7939-e01e-4c3e-d273-9e003c2b1a6e"
      },
      "execution_count": 11,
      "outputs": [
        {
          "output_type": "stream",
          "name": "stdout",
          "text": [
            "                      image adjusted labels\n",
            "16939  f5ec9eb058923293.jpg         healthy\n",
            "16649  f4d4e9d1a1a0b536.jpg         healthy\n",
            "4424   a3ecc1d5de9a5848.jpg         healthy\n",
            "4893   a5dec1984966f331.jpg         healthy\n",
            "8813   bee099878e1c6674.jpg         healthy\n",
            "...                     ...             ...\n",
            "12548  d7649b9ce0c06739.jpg  powdery_mildew\n",
            "11186  ce4874c8e7aaaf42.jpg  powdery_mildew\n",
            "13078  dbc06443d7c966b2.jpg  powdery_mildew\n",
            "13198  dcce49e42723e09b.jpg  powdery_mildew\n",
            "1642   8cec462ef8f07b28.jpg  powdery_mildew\n",
            "\n",
            "[7104 rows x 2 columns]\n"
          ]
        }
      ]
    },
    {
      "cell_type": "code",
      "source": [
        "def one_hot(df):\n",
        "  \"\"\"\n",
        "  This function returns all classes and combination of classes found in the input-dataframe, and returns\n",
        "  the one-hot encoded version\n",
        "  \"\"\"\n",
        "  one_hot = pd.get_dummies(df['adjusted labels'])\n",
        "  df = df.drop('adjusted labels', axis = 1)\n",
        "  df = df.join(one_hot)\n",
        "  return df\n",
        "\n",
        "df_onehot = one_hot(df_sampled)\n",
        "#print(df_onehot)\n",
        "\n",
        "# df_test = one_hot(df_test)\n",
        "# print(df_test.head())"
      ],
      "metadata": {
        "id": "GdWniTfft-GO"
      },
      "execution_count": 12,
      "outputs": []
    },
    {
      "cell_type": "code",
      "source": [
        "import matplotlib.pyplot as plt\n",
        "\n",
        "from tensorflow.keras import layers, models, preprocessing\n",
        "\n",
        "def train_and_evaluate(model, train_x, train_y, val_x, val_y, preprocess={}, epochs=20, augment={}):\n",
        "\n",
        "    model.compile(loss='categorical_crossentropy', optimizer='adam', metrics=['accuracy'])\n",
        "\n",
        "    train_gen = preprocessing.image.ImageDataGenerator(**preprocess, **augment)\n",
        "    train_gen.fit(train_x) \n",
        "\n",
        "    val_gen = preprocessing.image.ImageDataGenerator(**preprocess)\n",
        "    val_gen.fit(train_x)\n",
        "\n",
        "    history = model.fit(train_gen.flow(train_x, train_y), epochs=epochs, \n",
        "                        validation_data=val_gen.flow(val_x, val_y))\n",
        "\n",
        "    fig, axs = plt.subplots(1,2,figsize=(20,5)) \n",
        "\n",
        "    for i, metric in enumerate(['loss', 'accuracy']):\n",
        "        axs[i].plot(history.history[metric])\n",
        "        axs[i].plot(history.history['val_'+metric])\n",
        "        axs[i].legend(['training', 'validation'], loc='best')\n",
        "\n",
        "        axs[i].set_title('Model '+metric)\n",
        "        axs[i].set_ylabel(metric)\n",
        "        axs[i].set_xlabel('epoch')\n",
        "\n",
        "    plt.show()\n",
        "\n",
        "    print(f\"Validation Accuracy: {model.evaluate(val_gen.flow(val_x, val_y))[1]}\")"
      ],
      "metadata": {
        "id": "2uvdJ8Yh3W7g"
      },
      "execution_count": 13,
      "outputs": []
    },
    {
      "cell_type": "code",
      "source": [
        "# convert dictionary into a hashable type\n",
        "df_dict = df_onehot.set_index('image').T.to_dict('list')\n",
        "\n",
        "# gather names of all images in the image-directory\n",
        "train_images = os.listdir('train_images/')\n",
        "\n",
        "# # empty column for the actual images\n",
        "# df_onehot[\"image_pixels\"] = 0\n",
        "\n",
        "images = []\n",
        "# find corresponding key to image from directory, and add that image to a list\n",
        "for image in df_dict.keys():\n",
        "  if image in train_images:\n",
        "    img = cv2.imread('train_images/' + image)\n",
        "    img = cv2.resize(img, (96, 96)) \n",
        "    images.append(img)\n",
        "\n",
        "labels = list(df_dict.values())"
      ],
      "metadata": {
        "id": "4jts4lwY0YS9"
      },
      "execution_count": 14,
      "outputs": []
    },
    {
      "cell_type": "code",
      "source": [
        "images = np.array(images)\n",
        "labels = np.array(labels)"
      ],
      "metadata": {
        "id": "o4A7xjIFAwyb"
      },
      "execution_count": 15,
      "outputs": []
    },
    {
      "cell_type": "code",
      "source": [
        "x_train, x_val, y_train, y_val = train_test_split(images, labels, test_size = 0.3, random_state=42)"
      ],
      "metadata": {
        "id": "_LAtB1dQnt0e"
      },
      "execution_count": 16,
      "outputs": []
    },
    {
      "cell_type": "code",
      "source": [
        "\n",
        "# Define Sequential model\n",
        "model = models.Sequential()\n",
        "\n",
        "# create convolutional layer and max pooling layer\n",
        "\n",
        "model.add(layers.Conv2D(32, (3, 3), activation=tf.keras.layers.LeakyReLU(alpha=0.5), padding='same', input_shape=(96, 96, 3)))\n",
        "model.add(layers.MaxPooling2D((2, 2)))\n",
        "\n",
        "# create convolutional layer (larger) and max pooling layer\n",
        "model.add(tf.keras.layers.Dropout(0.5))\n",
        "model.add(layers.Conv2D(64, (3, 3), activation=tf.keras.layers.LeakyReLU(alpha=0.5), padding='same'))\n",
        "model.add(layers.MaxPooling2D((2, 2)))\n",
        "model.add(tf.keras.layers.BatchNormalization())\n",
        "\n",
        "# flatten layers\n",
        "model.add(layers.Flatten())\n",
        "model.add(tf.keras.layers.Dropout(0.2))\n",
        "model.add(layers.Dense(256, activation=tf.keras.layers.LeakyReLU(alpha=0.5)))\n",
        "\n",
        "# apply softmax activation for final layer classification\n",
        "model.add(tf.keras.layers.Dropout(0.2))\n",
        "model.add(layers.Dense(6, activation='softmax'))\n",
        "\n",
        "# normalize input data: set preprocesing dictionary\n",
        "preprocess = {'featurewise_center': True, 'featurewise_std_normalization' : True}\n",
        "\n",
        "# run training and evaluation function\n",
        "train_and_evaluate(model, x_train, y_train, x_val, y_val, preprocess)"
      ],
      "metadata": {
        "colab": {
          "base_uri": "https://localhost:8080/",
          "height": 1000
        },
        "id": "ULlZim8l2zKg",
        "outputId": "8bcb2c3f-397d-428f-8a68-b16d167c7430"
      },
      "execution_count": 17,
      "outputs": [
        {
          "output_type": "stream",
          "name": "stdout",
          "text": [
            "Epoch 1/20\n",
            "156/156 [==============================] - 73s 30ms/step - loss: 7.0342 - accuracy: 0.3413 - val_loss: 12.3243 - val_accuracy: 0.2702\n",
            "Epoch 2/20\n",
            "156/156 [==============================] - 4s 26ms/step - loss: 3.0217 - accuracy: 0.4222 - val_loss: 8.0746 - val_accuracy: 0.2017\n",
            "Epoch 3/20\n",
            "156/156 [==============================] - 4s 26ms/step - loss: 1.5122 - accuracy: 0.4813 - val_loss: 5.3038 - val_accuracy: 0.1881\n",
            "Epoch 4/20\n",
            "156/156 [==============================] - 4s 25ms/step - loss: 1.2045 - accuracy: 0.5553 - val_loss: 4.3409 - val_accuracy: 0.2008\n",
            "Epoch 5/20\n",
            "156/156 [==============================] - 4s 25ms/step - loss: 1.1069 - accuracy: 0.5917 - val_loss: 3.4054 - val_accuracy: 0.3236\n",
            "Epoch 6/20\n",
            "156/156 [==============================] - 4s 26ms/step - loss: 1.0135 - accuracy: 0.6219 - val_loss: 3.0375 - val_accuracy: 0.2505\n",
            "Epoch 7/20\n",
            "156/156 [==============================] - 4s 25ms/step - loss: 0.9220 - accuracy: 0.6615 - val_loss: 2.3379 - val_accuracy: 0.3462\n",
            "Epoch 8/20\n",
            "156/156 [==============================] - 4s 25ms/step - loss: 0.8283 - accuracy: 0.6957 - val_loss: 2.2059 - val_accuracy: 0.4296\n",
            "Epoch 9/20\n",
            "156/156 [==============================] - 4s 25ms/step - loss: 0.7061 - accuracy: 0.7407 - val_loss: 2.8768 - val_accuracy: 0.3424\n",
            "Epoch 10/20\n",
            "156/156 [==============================] - 4s 26ms/step - loss: 0.6307 - accuracy: 0.7731 - val_loss: 2.1831 - val_accuracy: 0.4470\n",
            "Epoch 11/20\n",
            "156/156 [==============================] - 4s 26ms/step - loss: 0.5620 - accuracy: 0.8013 - val_loss: 2.5249 - val_accuracy: 0.4489\n",
            "Epoch 12/20\n",
            "156/156 [==============================] - 4s 25ms/step - loss: 0.5136 - accuracy: 0.8232 - val_loss: 2.4756 - val_accuracy: 0.4451\n",
            "Epoch 13/20\n",
            "156/156 [==============================] - 4s 26ms/step - loss: 0.4529 - accuracy: 0.8399 - val_loss: 2.6630 - val_accuracy: 0.4620\n",
            "Epoch 14/20\n",
            "156/156 [==============================] - 4s 26ms/step - loss: 0.4012 - accuracy: 0.8530 - val_loss: 3.7424 - val_accuracy: 0.4043\n",
            "Epoch 15/20\n",
            "156/156 [==============================] - 4s 26ms/step - loss: 0.3862 - accuracy: 0.8709 - val_loss: 3.0279 - val_accuracy: 0.4540\n",
            "Epoch 16/20\n",
            "156/156 [==============================] - 4s 26ms/step - loss: 0.3506 - accuracy: 0.8821 - val_loss: 3.6772 - val_accuracy: 0.4024\n",
            "Epoch 17/20\n",
            "156/156 [==============================] - 4s 26ms/step - loss: 0.3491 - accuracy: 0.8803 - val_loss: 4.0147 - val_accuracy: 0.3917\n",
            "Epoch 18/20\n",
            "156/156 [==============================] - 4s 23ms/step - loss: 0.2723 - accuracy: 0.9085 - val_loss: 4.1108 - val_accuracy: 0.4522\n",
            "Epoch 19/20\n",
            "156/156 [==============================] - 3s 20ms/step - loss: 0.2849 - accuracy: 0.9077 - val_loss: 4.9168 - val_accuracy: 0.4404\n",
            "Epoch 20/20\n",
            "156/156 [==============================] - 3s 20ms/step - loss: 0.2918 - accuracy: 0.9087 - val_loss: 3.7411 - val_accuracy: 0.4526\n"
          ]
        },
        {
          "output_type": "display_data",
          "data": {
            "image/png": "[encoded data removed]",
            "text/plain": [
              "<Figure size 1440x360 with 2 Axes>"
            ]
          },
          "metadata": {
            "needs_background": "light"
          }
        },
        {
          "output_type": "stream",
          "name": "stdout",
          "text": [
            "67/67 [==============================] - 1s 13ms/step - loss: 3.7411 - accuracy: 0.4526\n",
            "Validation Accuracy: 0.45262664556503296\n"
          ]
        }
      ]
    },
    {
      "cell_type": "code",
      "source": [
        "model.summary()"
      ],
      "metadata": {
        "id": "aEjUnYrJ6u2O",
        "outputId": "4c57e16f-8535-4bdd-b430-aea3c20cb145",
        "colab": {
          "base_uri": "https://localhost:8080/"
        }
      },
      "execution_count": 18,
      "outputs": [
        {
          "output_type": "stream",
          "name": "stdout",
          "text": [
            "Model: \"sequential\"\n",
            "_________________________________________________________________\n",
            " Layer (type)                Output Shape              Param #   \n",
            "=================================================================\n",
            " conv2d (Conv2D)             (None, 96, 96, 32)        896       \n",
            "                                                                 \n",
            " max_pooling2d (MaxPooling2D  (None, 48, 48, 32)       0         \n",
            " )                                                               \n",
            "                                                                 \n",
            " dropout (Dropout)           (None, 48, 48, 32)        0         \n",
            "                                                                 \n",
            " conv2d_1 (Conv2D)           (None, 48, 48, 64)        18496     \n",
            "                                                                 \n",
            " max_pooling2d_1 (MaxPooling  (None, 24, 24, 64)       0         \n",
            " 2D)                                                             \n",
            "                                                                 \n",
            " batch_normalization (BatchN  (None, 24, 24, 64)       256       \n",
            " ormalization)                                                   \n",
            "                                                                 \n",
            " flatten (Flatten)           (None, 36864)             0         \n",
            "                                                                 \n",
            " dropout_1 (Dropout)         (None, 36864)             0         \n",
            "                                                                 \n",
            " dense (Dense)               (None, 256)               9437440   \n",
            "                                                                 \n",
            " dropout_2 (Dropout)         (None, 256)               0         \n",
            "                                                                 \n",
            " dense_1 (Dense)             (None, 6)                 1542      \n",
            "                                                                 \n",
            "=================================================================\n",
            "Total params: 9,458,630\n",
            "Trainable params: 9,458,502\n",
            "Non-trainable params: 128\n",
            "_________________________________________________________________\n"
          ]
        }
      ]
    },
    {
      "cell_type": "code",
      "source": [
        "import seaborn as sns\n",
        "import tensorflow as tf\n",
        "from tensorflow import math as tfmath\n",
        "\n",
        "classes = df['adjusted labels'].unique()\n",
        "#x_test_flat = x_train.reshape(x_val.shape[0], (96, 96, 3))\n",
        "\n",
        "y_true = tf.argmax(y_val, axis=1)\n",
        "y_pred = tf.argmax(model(x_val), axis=1)\n",
        "\n",
        "conf_matrix = tfmath.confusion_matrix(y_true, y_pred, num_classes=6)\n",
        "\n",
        "ax = sns.heatmap(conf_matrix, xticklabels=classes, yticklabels=classes)\n",
        "ax.set(xlabel='Predicted Class', ylabel='Actual Class')\n",
        "plt.show()\n",
        "\n",
        "print(conf_matrix)"
      ],
      "metadata": {
        "id": "jcwt60b_Jtc_",
        "outputId": "a3955e02-7392-4493-d444-3b71c2eeaa26",
        "colab": {
          "base_uri": "https://localhost:8080/",
          "height": 483
        }
      },
      "execution_count": 22,
      "outputs": [
        {
          "output_type": "display_data",
          "data": {
            "image/png": "[encoded data removed]",
            "text/plain": [
              "<Figure size 432x288 with 2 Axes>"
            ]
          },
          "metadata": {
            "needs_background": "light"
          }
        },
        {
          "output_type": "stream",
          "name": "stdout",
          "text": [
            "tf.Tensor(\n",
            "[[  0 331   2  30   0   0]\n",
            " [  0 308   0  10   0   0]\n",
            " [  0 333  20  17   0   0]\n",
            " [  0 171   0 192   0   0]\n",
            " [  0 308  10  35   0   0]\n",
            " [  0 348   4  13   0   0]], shape=(6, 6), dtype=int32)\n"
          ]
        }
      ]
    },
    {
      "cell_type": "code",
      "source": [
        "# count occurence of specific labels:\n",
        "df = df_dict.labels.value_counts()"
      ],
      "metadata": {
        "id": "DMDHNCSmzZ2s",
        "outputId": "e65d4421-564d-4815-b6ac-6599dbe4613e",
        "colab": {
          "base_uri": "https://localhost:8080/",
          "height": 183
        }
      },
      "execution_count": 20,
      "outputs": [
        {
          "output_type": "error",
          "ename": "AttributeError",
          "evalue": "ignored",
          "traceback": [
            "\u001b[0;31m---------------------------------------------------------------------------\u001b[0m",
            "\u001b[0;31mAttributeError\u001b[0m                            Traceback (most recent call last)",
            "\u001b[0;32m<ipython-input-20-221915f349a9>\u001b[0m in \u001b[0;36m<module>\u001b[0;34m()\u001b[0m\n\u001b[1;32m      1\u001b[0m \u001b[0;31m# count occurence of specific labels:\u001b[0m\u001b[0;34m\u001b[0m\u001b[0;34m\u001b[0m\u001b[0;34m\u001b[0m\u001b[0m\n\u001b[0;32m----> 2\u001b[0;31m \u001b[0mdf\u001b[0m \u001b[0;34m=\u001b[0m \u001b[0mdf_dict\u001b[0m\u001b[0;34m.\u001b[0m\u001b[0mlabels\u001b[0m\u001b[0;34m.\u001b[0m\u001b[0mvalue_counts\u001b[0m\u001b[0;34m(\u001b[0m\u001b[0;34m)\u001b[0m\u001b[0;34m\u001b[0m\u001b[0;34m\u001b[0m\u001b[0m\n\u001b[0m",
            "\u001b[0;31mAttributeError\u001b[0m: 'dict' object has no attribute 'labels'"
          ]
        }
      ]
    }
  ]
}