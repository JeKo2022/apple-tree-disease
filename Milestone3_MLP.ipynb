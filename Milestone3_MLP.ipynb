{
  "nbformat": 4,
  "nbformat_minor": 0,
  "metadata": {
    "colab": {
      "name": "Milestone3_MLP.ipynb",
      "provenance": [],
      "collapsed_sections": [],
      "include_colab_link": true
    },
    "kernelspec": {
      "name": "python3",
      "display_name": "Python 3"
    },
    "language_info": {
      "name": "python"
    },
    "accelerator": "GPU"
  },
  "cells": [
    {
      "cell_type": "markdown",
      "metadata": {
        "id": "view-in-github",
        "colab_type": "text"
      },
      "source": [
        "<a href=\"https://colab.research.google.com/github/JeLaKo/apple-tree-disease/blob/main/Milestone3_MLP.ipynb\" target=\"_parent\"><img src=\"https://colab.research.google.com/assets/colab-badge.svg\" alt=\"Open In Colab\"/></a>"
      ]
    },
    {
      "cell_type": "markdown",
      "source": [
        "Loading the data directly through Kaggle's API"
      ],
      "metadata": {
        "id": "TqzOGBFWtYKn"
      }
    },
    {
      "cell_type": "code",
      "execution_count": 1,
      "metadata": {
        "id": "NF6qQ5qUmQI_",
        "colab": {
          "base_uri": "https://localhost:8080/"
        },
        "outputId": "11ea5d81-56fe-466a-937d-5bdbbf9a892d"
      },
      "outputs": [
        {
          "output_type": "stream",
          "name": "stdout",
          "text": [
            "Mounted at /content/gdrive\n"
          ]
        }
      ],
      "source": [
        "from google.colab import drive\n",
        "drive.mount(\"/content/gdrive\", force_remount=True)"
      ]
    },
    {
      "cell_type": "code",
      "source": [
        "# !pip install -U -q kaggle==1.5.8"
      ],
      "metadata": {
        "id": "ciuScTfXr0VL"
      },
      "execution_count": null,
      "outputs": []
    },
    {
      "cell_type": "code",
      "source": [
        "%cd /content/gdrive/MyDrive/MLP/"
      ],
      "metadata": {
        "colab": {
          "base_uri": "https://localhost:8080/"
        },
        "id": "Lm1ktmfxsmpm",
        "outputId": "759ef0d4-a1ac-4614-a123-fc4f17fa3f2f"
      },
      "execution_count": 2,
      "outputs": [
        {
          "output_type": "stream",
          "name": "stdout",
          "text": [
            "/content/gdrive/MyDrive/MLP\n"
          ]
        }
      ]
    },
    {
      "cell_type": "code",
      "source": [
        "import os"
      ],
      "metadata": {
        "id": "O-H80pCbsuzS"
      },
      "execution_count": 3,
      "outputs": []
    },
    {
      "cell_type": "code",
      "source": [
        "# os.environ['KAGGLE_CONFIG_DIR'] = \"/content/gdrive/MyDrive/MLP/\"\n",
        "# ! kaggle competitions download -c plant-pathology-2021-fgvc8"
      ],
      "metadata": {
        "id": "XIrQYT90uv5m"
      },
      "execution_count": null,
      "outputs": []
    },
    {
      "cell_type": "code",
      "source": [
        "# ! unzip -q plant-pathology-2021-fgvc8.zip -d train"
      ],
      "metadata": {
        "id": "4w4s3qRQ3Z6X"
      },
      "execution_count": null,
      "outputs": []
    },
    {
      "cell_type": "markdown",
      "source": [
        "Data processing\n"
      ],
      "metadata": {
        "id": "v192m162tVHj"
      }
    },
    {
      "cell_type": "code",
      "source": [
        "import pandas as pd\n",
        "import cv2\n",
        "import numpy as np\n",
        "import tensorflow as tf\n",
        "from tensorflow import keras\n",
        "from tensorflow.keras import layers\n",
        "from sklearn.model_selection import train_test_split\n",
        "\n",
        "%cd /content/gdrive/MyDrive/MLP/train/"
      ],
      "metadata": {
        "id": "ibOekLk5tlko",
        "colab": {
          "base_uri": "https://localhost:8080/"
        },
        "outputId": "59f2c94c-8eb9-4dfe-8db4-8af33b9cca35"
      },
      "execution_count": 4,
      "outputs": [
        {
          "output_type": "stream",
          "name": "stdout",
          "text": [
            "/content/gdrive/MyDrive/MLP/train\n"
          ]
        }
      ]
    },
    {
      "cell_type": "code",
      "source": [
        "# import mlxtend package for confusion matrix\n",
        "import mlxtend\n",
        "                                                          \n",
        "print(mlxtend.__version__) \n",
        "\n",
        "! pip install mlxtend --upgrade --no-deps\n",
        "\n",
        "print(mlxtend.__version__) \n",
        "\n",
        "from mlxtend.plotting import plot_confusion_matrix\n",
        "from sklearn.metrics import confusion_matrix\n"
      ],
      "metadata": {
        "colab": {
          "base_uri": "https://localhost:8080/"
        },
        "id": "_dHkG28jM9N9",
        "outputId": "540bf8ca-d75f-4991-cc9f-4ed802fcdb84"
      },
      "execution_count": 5,
      "outputs": [
        {
          "output_type": "stream",
          "name": "stdout",
          "text": [
            "0.19.0\n",
            "Requirement already satisfied: mlxtend in /usr/local/lib/python3.7/dist-packages (0.19.0)\n",
            "0.19.0\n"
          ]
        }
      ]
    },
    {
      "cell_type": "code",
      "source": [
        "df = pd.read_csv('train.csv')"
      ],
      "metadata": {
        "id": "4oGL6rPetoLs"
      },
      "execution_count": 6,
      "outputs": []
    },
    {
      "cell_type": "code",
      "source": [
        "new_labels = df['labels'].to_list()\n",
        "\n",
        "for i in range(len(new_labels)):\n",
        "  if new_labels[i] == 'scab frog_eye_leaf_spot complex' or new_labels[i] == 'scab frog_eye_leaf_spot':\n",
        "    new_labels[i] = 'scab'\n",
        "  elif new_labels[i] == 'frog_eye_leaf_spot complex':\n",
        "    new_labels[i] = 'frog_eye_leaf_spot'\n",
        "  elif new_labels[i] == 'powdery_mildew complex':\n",
        "    new_labels[i] = 'powdery_mildew'\n",
        "  elif new_labels[i] == 'rust complex' or new_labels[i] == 'rust frog_eye_leaf_spot':\n",
        "    new_labels[i] = 'rust'\n"
      ],
      "metadata": {
        "id": "MKIFbUN5mLzA"
      },
      "execution_count": 7,
      "outputs": []
    },
    {
      "cell_type": "code",
      "source": [
        "df['adjusted labels'] = np.array(new_labels)\n",
        "df = df.drop('labels', axis = 1)\n"
      ],
      "metadata": {
        "id": "vHb0J7dOqTMM"
      },
      "execution_count": 8,
      "outputs": []
    },
    {
      "cell_type": "code",
      "source": [
        "def sample(df, sample_size):\n",
        "  \"\"\"\n",
        "  This function gets an equal sample inclusive of all classes from the input dataframe\n",
        "  \"\"\"\n",
        "  df_sampled = []\n",
        "  classes = df['adjusted labels'].unique()\n",
        "\n",
        "  for i in classes:\n",
        "      g = df[df['adjusted labels'] == i].sample(sample_size)\n",
        "      df_sampled.append(g)\n",
        "\n",
        "  df_sampled = pd.concat(df_sampled)\n",
        "  return df_sampled\n",
        "\n",
        "df_sampled = sample(df, 1184)\n",
        "print(df_sampled)"
      ],
      "metadata": {
        "colab": {
          "base_uri": "https://localhost:8080/"
        },
        "id": "Zh7Rr6dNzlMN",
        "outputId": "8547ecb5-54bf-46fd-9789-6ca54bc182e4"
      },
      "execution_count": 9,
      "outputs": [
        {
          "output_type": "stream",
          "name": "stdout",
          "text": [
            "                      image adjusted labels\n",
            "2845   95ec69d324a95aac.jpg         healthy\n",
            "3850   a0304ff9fc1f4b60.jpg         healthy\n",
            "5932   abbbe05b1028dcdc.jpg         healthy\n",
            "8384   bc2482f08df32dcb.jpg         healthy\n",
            "14557  e5d91756a2aa5a45.jpg         healthy\n",
            "...                     ...             ...\n",
            "3406   9b9832ecbd60702f.jpg  powdery_mildew\n",
            "1334   89f63639b00fdb03.jpg  powdery_mildew\n",
            "4996   a6e6c6742e14e19d.jpg  powdery_mildew\n",
            "13698  e062c0b63cd36f1b.jpg  powdery_mildew\n",
            "2919   96943ee158c32e3e.jpg  powdery_mildew\n",
            "\n",
            "[7104 rows x 2 columns]\n"
          ]
        }
      ]
    },
    {
      "cell_type": "code",
      "source": [
        "def one_hot(df):\n",
        "  \"\"\"\n",
        "  This function returns all classes and combination of classes found in the input-dataframe, and returns\n",
        "  the one-hot encoded version\n",
        "  \"\"\"\n",
        "  one_hot = pd.get_dummies(df['adjusted labels'])\n",
        "  df = df.drop('adjusted labels', axis = 1)\n",
        "  df = df.join(one_hot)\n",
        "  return df\n",
        "\n",
        "df_onehot = one_hot(df_sampled)\n"
      ],
      "metadata": {
        "id": "GdWniTfft-GO"
      },
      "execution_count": 10,
      "outputs": []
    },
    {
      "cell_type": "code",
      "source": [
        "import matplotlib.pyplot as plt\n",
        "\n",
        "from tensorflow.keras import layers, models, preprocessing\n",
        "\n",
        "def train_and_evaluate(model, train_x, train_y, val_x, val_y, preprocess={}, epochs=20, augment={}):\n",
        "\n",
        "    # optimizer = keras.optimizers.Adam(lr = 0.01)\n",
        "    model.compile(loss='categorical_crossentropy', optimizer= 'adam', metrics=['accuracy'])\n",
        "\n",
        "    train_gen = preprocessing.image.ImageDataGenerator(**preprocess, **augment)\n",
        "    train_gen.fit(train_x) \n",
        "\n",
        "    val_gen = preprocessing.image.ImageDataGenerator(**preprocess)\n",
        "    val_gen.fit(train_x)\n",
        "\n",
        "    history = model.fit(train_gen.flow(train_x, train_y), epochs=epochs, \n",
        "                        validation_data=val_gen.flow(val_x, val_y))\n",
        "\n",
        "    fig, axs = plt.subplots(1,2,figsize=(20,5)) \n",
        "\n",
        "    for i, metric in enumerate(['loss', 'accuracy']):\n",
        "        axs[i].plot(history.history[metric])\n",
        "        axs[i].plot(history.history['val_'+metric])\n",
        "        axs[i].legend(['training', 'validation'], loc='best')\n",
        "\n",
        "        axs[i].set_title('Model '+metric)\n",
        "        axs[i].set_ylabel(metric)\n",
        "        axs[i].set_xlabel('epoch')\n",
        "\n",
        "    plt.show()\n",
        "\n",
        "    print(f\"Validation Accuracy: {model.evaluate(val_gen.flow(val_x, val_y))[1]}\")"
      ],
      "metadata": {
        "id": "2uvdJ8Yh3W7g"
      },
      "execution_count": 44,
      "outputs": []
    },
    {
      "cell_type": "code",
      "source": [
        "# convert dictionary into a hashable type\n",
        "df_dict = df_onehot.set_index('image').T.to_dict('list')\n",
        "\n",
        "# gather names of all images in the image-directory\n",
        "train_images = os.listdir('train_images/')\n",
        "\n",
        "# find corresponding key to image from directory\n",
        "# resized the image and add that to a different directory for later use\n",
        "for image in df_dict.keys():\n",
        "  if image in train_images:\n",
        "    img = cv2.imread('train_images/' + image)\n",
        "    resized_img = cv2.resize(img, (96, 96)) \n",
        "    cv2.imwrite('resized_train_images/' + image, resized_img)\n",
        "\n",
        "labels = list(df_dict.values())"
      ],
      "metadata": {
        "id": "4jts4lwY0YS9"
      },
      "execution_count": 12,
      "outputs": []
    },
    {
      "cell_type": "code",
      "source": [
        "# find corresponding image from the resized directory and add that to a list\n",
        "images = []\n",
        "for image in df_dict.keys():\n",
        "  if image in train_images:\n",
        "    img_resized = cv2.imread('resized_train_images/' + image) \n",
        "    images.append(img_resized)"
      ],
      "metadata": {
        "id": "ksV1F9z-I7xn"
      },
      "execution_count": null,
      "outputs": []
    },
    {
      "cell_type": "code",
      "source": [
        "images = np.array(images)\n",
        "labels = np.array(labels)"
      ],
      "metadata": {
        "id": "o4A7xjIFAwyb"
      },
      "execution_count": 13,
      "outputs": []
    },
    {
      "cell_type": "code",
      "source": [
        "x_train, x_val, y_train, y_val = train_test_split(images, labels, test_size = 0.3, random_state=42)"
      ],
      "metadata": {
        "id": "_LAtB1dQnt0e"
      },
      "execution_count": 14,
      "outputs": []
    },
    {
      "cell_type": "code",
      "source": [
        "# ML MODEL ARCHITECTURE\n",
        "# Define Sequential model\n",
        "model = models.Sequential()\n",
        "\n",
        "# create convolutional layer and max pooling layer\n",
        "model.add(layers.Conv2D(32, (3, 3), activation=tf.keras.layers.LeakyReLU(alpha=0.5), padding='same', input_shape=(96, 96, 3)))\n",
        "model.add(layers.MaxPooling2D((2, 2)))\n",
        "\n",
        "# create convolutional layer (larger) and max pooling layer\n",
        "model.add(tf.keras.layers.Dropout(0.5))\n",
        "model.add(layers.Conv2D(64, (3, 3), activation=tf.keras.layers.LeakyReLU(alpha=0.5), padding='same'))\n",
        "model.add(layers.MaxPooling2D((2, 2)))\n",
        "model.add(tf.keras.layers.BatchNormalization())\n",
        "\n",
        "# add Conv2D layer with 128 filters and max pooling layer\n",
        "model.add(tf.keras.layers.Dropout(0.5))\n",
        "model.add(layers.Conv2D(128, (3, 3), activation=tf.keras.layers.LeakyReLU(alpha=0.5), padding='same'))\n",
        "model.add(layers.MaxPooling2D((2, 2)))\n",
        "model.add(tf.keras.layers.BatchNormalization())\n",
        "\n",
        "# add Conv2D layer with 256 filters and max pooling layer\n",
        "model.add(tf.keras.layers.Dropout(0.5))\n",
        "model.add(layers.Conv2D(256, (3, 3), activation=tf.keras.layers.LeakyReLU(alpha=0.5), padding='same'))\n",
        "model.add(layers.MaxPooling2D((2, 2)))\n",
        "\n",
        "# add Conv2D layer with 32 filters and max pooling layer\n",
        "model.add(tf.keras.layers.Dropout(0.5))\n",
        "model.add(layers.Conv2D(32, (3, 3), activation=tf.keras.layers.LeakyReLU(alpha=0.5), padding='same'))\n",
        "model.add(layers.MaxPooling2D((2, 2)))\n",
        "\n",
        "# flatten layers\n",
        "model.add(layers.Flatten())\n",
        "model.add(tf.keras.layers.Dropout(0.2))\n",
        "model.add(layers.Dense(256, activation=tf.keras.layers.LeakyReLU(alpha=0.5)))\n",
        "\n",
        "# apply softmax activation for final layer classification\n",
        "model.add(tf.keras.layers.Dropout(0.2))\n",
        "model.add(layers.Dense(6, activation='softmax'))\n",
        "\n",
        "# normalize input data: set preprocesing dictionary\n",
        "preprocess = {'featurewise_center': True, 'featurewise_std_normalization' : True}\n",
        "\n",
        "# augment data: set augmentation dictionary\n",
        "augment = {'horizontal_flip': True, \n",
        "           'vertical_flip': True, \n",
        "           'rotation_range': 20, \n",
        "           'width_shift_range': 0.1, \n",
        "           'height_shift_range': 0.1, \n",
        "           'zoom_range': [0.3,1.0], \n",
        "           'brightness_range': [0.2,1.2],\n",
        "           'channel_shift_range' : 0.7}\n",
        "\n",
        "# run training and evaluation function\n",
        "train_and_evaluate(model, x_train, y_train, x_val, y_val, preprocess, epochs = 80, augment = augment)\n"
      ],
      "metadata": {
        "id": "ULlZim8l2zKg",
        "outputId": "338d74e8-2db0-423e-e080-3eef626a45c4",
        "colab": {
          "base_uri": "https://localhost:8080/",
          "height": 1000
        }
      },
      "execution_count": 48,
      "outputs": [
        {
          "output_type": "stream",
          "name": "stdout",
          "text": [
            "Epoch 1/80\n",
            "156/156 [==============================] - 21s 129ms/step - loss: 2.3285 - accuracy: 0.2228 - val_loss: 1.7149 - val_accuracy: 0.2308\n",
            "Epoch 2/80\n",
            "156/156 [==============================] - 20s 128ms/step - loss: 1.9333 - accuracy: 0.2494 - val_loss: 1.7718 - val_accuracy: 0.2345\n",
            "Epoch 3/80\n",
            "156/156 [==============================] - 19s 124ms/step - loss: 1.8444 - accuracy: 0.2603 - val_loss: 1.6709 - val_accuracy: 0.2875\n",
            "Epoch 4/80\n",
            "156/156 [==============================] - 20s 126ms/step - loss: 1.7894 - accuracy: 0.2651 - val_loss: 1.9391 - val_accuracy: 0.2533\n",
            "Epoch 5/80\n",
            "156/156 [==============================] - 20s 125ms/step - loss: 1.7330 - accuracy: 0.2892 - val_loss: 1.7242 - val_accuracy: 0.2528\n",
            "Epoch 6/80\n",
            "156/156 [==============================] - 19s 123ms/step - loss: 1.6873 - accuracy: 0.3113 - val_loss: 1.7971 - val_accuracy: 0.2641\n",
            "Epoch 7/80\n",
            "156/156 [==============================] - 20s 128ms/step - loss: 1.6347 - accuracy: 0.3262 - val_loss: 1.7306 - val_accuracy: 0.2631\n",
            "Epoch 8/80\n",
            "156/156 [==============================] - 20s 126ms/step - loss: 1.6100 - accuracy: 0.3377 - val_loss: 1.9083 - val_accuracy: 0.3100\n",
            "Epoch 9/80\n",
            "156/156 [==============================] - 20s 125ms/step - loss: 1.5516 - accuracy: 0.3656 - val_loss: 1.8885 - val_accuracy: 0.3232\n",
            "Epoch 10/80\n",
            "156/156 [==============================] - 19s 125ms/step - loss: 1.5287 - accuracy: 0.3946 - val_loss: 2.0693 - val_accuracy: 0.2533\n",
            "Epoch 11/80\n",
            "156/156 [==============================] - 20s 127ms/step - loss: 1.4764 - accuracy: 0.4035 - val_loss: 1.7688 - val_accuracy: 0.3565\n",
            "Epoch 12/80\n",
            "156/156 [==============================] - 19s 124ms/step - loss: 1.4551 - accuracy: 0.4171 - val_loss: 1.9687 - val_accuracy: 0.3311\n",
            "Epoch 13/80\n",
            "156/156 [==============================] - 20s 125ms/step - loss: 1.4248 - accuracy: 0.4362 - val_loss: 1.5802 - val_accuracy: 0.3832\n",
            "Epoch 14/80\n",
            "156/156 [==============================] - 20s 129ms/step - loss: 1.3778 - accuracy: 0.4628 - val_loss: 1.7060 - val_accuracy: 0.4193\n",
            "Epoch 15/80\n",
            "156/156 [==============================] - 19s 125ms/step - loss: 1.3857 - accuracy: 0.4562 - val_loss: 1.2939 - val_accuracy: 0.5009\n",
            "Epoch 16/80\n",
            "156/156 [==============================] - 20s 128ms/step - loss: 1.3679 - accuracy: 0.4642 - val_loss: 1.4618 - val_accuracy: 0.4371\n",
            "Epoch 17/80\n",
            "156/156 [==============================] - 20s 126ms/step - loss: 1.3422 - accuracy: 0.4863 - val_loss: 1.4873 - val_accuracy: 0.4991\n",
            "Epoch 18/80\n",
            "156/156 [==============================] - 19s 125ms/step - loss: 1.3069 - accuracy: 0.4968 - val_loss: 1.1697 - val_accuracy: 0.5253\n",
            "Epoch 19/80\n",
            "156/156 [==============================] - 19s 123ms/step - loss: 1.3158 - accuracy: 0.4893 - val_loss: 1.2862 - val_accuracy: 0.5206\n",
            "Epoch 20/80\n",
            "156/156 [==============================] - 20s 126ms/step - loss: 1.2941 - accuracy: 0.5044 - val_loss: 1.2074 - val_accuracy: 0.5417\n",
            "Epoch 21/80\n",
            "156/156 [==============================] - 20s 128ms/step - loss: 1.2878 - accuracy: 0.5016 - val_loss: 1.4374 - val_accuracy: 0.5174\n",
            "Epoch 22/80\n",
            "156/156 [==============================] - 19s 124ms/step - loss: 1.2761 - accuracy: 0.5060 - val_loss: 1.2033 - val_accuracy: 0.5685\n",
            "Epoch 23/80\n",
            "156/156 [==============================] - 20s 129ms/step - loss: 1.2883 - accuracy: 0.4970 - val_loss: 1.2675 - val_accuracy: 0.5596\n",
            "Epoch 24/80\n",
            "156/156 [==============================] - 19s 123ms/step - loss: 1.2497 - accuracy: 0.5127 - val_loss: 1.2983 - val_accuracy: 0.5408\n",
            "Epoch 25/80\n",
            "156/156 [==============================] - 19s 125ms/step - loss: 1.2508 - accuracy: 0.5177 - val_loss: 1.2237 - val_accuracy: 0.5464\n",
            "Epoch 26/80\n",
            "156/156 [==============================] - 20s 129ms/step - loss: 1.2464 - accuracy: 0.5181 - val_loss: 1.2287 - val_accuracy: 0.5267\n",
            "Epoch 27/80\n",
            "156/156 [==============================] - 20s 126ms/step - loss: 1.2066 - accuracy: 0.5364 - val_loss: 1.1879 - val_accuracy: 0.5624\n",
            "Epoch 28/80\n",
            "156/156 [==============================] - 19s 125ms/step - loss: 1.2300 - accuracy: 0.5326 - val_loss: 1.2341 - val_accuracy: 0.5403\n",
            "Epoch 29/80\n",
            "156/156 [==============================] - 20s 126ms/step - loss: 1.2128 - accuracy: 0.5280 - val_loss: 1.2185 - val_accuracy: 0.5225\n",
            "Epoch 30/80\n",
            "156/156 [==============================] - 20s 126ms/step - loss: 1.1928 - accuracy: 0.5362 - val_loss: 1.2646 - val_accuracy: 0.5352\n",
            "Epoch 31/80\n",
            "156/156 [==============================] - 19s 123ms/step - loss: 1.1904 - accuracy: 0.5408 - val_loss: 1.1002 - val_accuracy: 0.5492\n",
            "Epoch 32/80\n",
            "156/156 [==============================] - 20s 125ms/step - loss: 1.1854 - accuracy: 0.5473 - val_loss: 1.1321 - val_accuracy: 0.5919\n",
            "Epoch 33/80\n",
            "156/156 [==============================] - 20s 129ms/step - loss: 1.1806 - accuracy: 0.5440 - val_loss: 1.1240 - val_accuracy: 0.6130\n",
            "Epoch 34/80\n",
            "156/156 [==============================] - 19s 123ms/step - loss: 1.2025 - accuracy: 0.5378 - val_loss: 1.1584 - val_accuracy: 0.5732\n",
            "Epoch 35/80\n",
            "156/156 [==============================] - 20s 127ms/step - loss: 1.1672 - accuracy: 0.5535 - val_loss: 1.1632 - val_accuracy: 0.5811\n",
            "Epoch 36/80\n",
            "156/156 [==============================] - 19s 124ms/step - loss: 1.1679 - accuracy: 0.5533 - val_loss: 1.4198 - val_accuracy: 0.5169\n",
            "Epoch 37/80\n",
            "156/156 [==============================] - 20s 125ms/step - loss: 1.1690 - accuracy: 0.5547 - val_loss: 1.0834 - val_accuracy: 0.5929\n",
            "Epoch 38/80\n",
            "156/156 [==============================] - 20s 127ms/step - loss: 1.1568 - accuracy: 0.5623 - val_loss: 1.1396 - val_accuracy: 0.5999\n",
            "Epoch 39/80\n",
            "156/156 [==============================] - 20s 126ms/step - loss: 1.1507 - accuracy: 0.5670 - val_loss: 1.3486 - val_accuracy: 0.5403\n",
            "Epoch 40/80\n",
            "156/156 [==============================] - 20s 128ms/step - loss: 1.1579 - accuracy: 0.5615 - val_loss: 1.2216 - val_accuracy: 0.6004\n",
            "Epoch 41/80\n",
            "156/156 [==============================] - 19s 125ms/step - loss: 1.1229 - accuracy: 0.5708 - val_loss: 1.0705 - val_accuracy: 0.5905\n",
            "Epoch 42/80\n",
            "156/156 [==============================] - 20s 128ms/step - loss: 1.1472 - accuracy: 0.5589 - val_loss: 1.1220 - val_accuracy: 0.5830\n",
            "Epoch 43/80\n",
            "156/156 [==============================] - 19s 125ms/step - loss: 1.1289 - accuracy: 0.5708 - val_loss: 1.2095 - val_accuracy: 0.5854\n",
            "Epoch 44/80\n",
            "156/156 [==============================] - 20s 128ms/step - loss: 1.1349 - accuracy: 0.5694 - val_loss: 1.4736 - val_accuracy: 0.5403\n",
            "Epoch 45/80\n",
            "156/156 [==============================] - 20s 129ms/step - loss: 1.1393 - accuracy: 0.5668 - val_loss: 1.1391 - val_accuracy: 0.6140\n",
            "Epoch 46/80\n",
            "156/156 [==============================] - 20s 125ms/step - loss: 1.1016 - accuracy: 0.5897 - val_loss: 1.1499 - val_accuracy: 0.6027\n",
            "Epoch 47/80\n",
            "156/156 [==============================] - 20s 129ms/step - loss: 1.0928 - accuracy: 0.5823 - val_loss: 1.1482 - val_accuracy: 0.6313\n",
            "Epoch 48/80\n",
            "156/156 [==============================] - 19s 124ms/step - loss: 1.0969 - accuracy: 0.5883 - val_loss: 0.9859 - val_accuracy: 0.6388\n",
            "Epoch 49/80\n",
            "156/156 [==============================] - 20s 125ms/step - loss: 1.1034 - accuracy: 0.5851 - val_loss: 1.0309 - val_accuracy: 0.6182\n",
            "Epoch 50/80\n",
            "156/156 [==============================] - 19s 124ms/step - loss: 1.0990 - accuracy: 0.5855 - val_loss: 1.0673 - val_accuracy: 0.6112\n",
            "Epoch 51/80\n",
            "156/156 [==============================] - 19s 124ms/step - loss: 1.0828 - accuracy: 0.5825 - val_loss: 1.1652 - val_accuracy: 0.6079\n",
            "Epoch 52/80\n",
            "156/156 [==============================] - 19s 125ms/step - loss: 1.1001 - accuracy: 0.5907 - val_loss: 1.2360 - val_accuracy: 0.6126\n",
            "Epoch 53/80\n",
            "156/156 [==============================] - 20s 126ms/step - loss: 1.0616 - accuracy: 0.6032 - val_loss: 1.1699 - val_accuracy: 0.6252\n",
            "Epoch 54/80\n",
            "156/156 [==============================] - 21s 132ms/step - loss: 1.0895 - accuracy: 0.6006 - val_loss: 1.1734 - val_accuracy: 0.5886\n",
            "Epoch 55/80\n",
            "156/156 [==============================] - 20s 125ms/step - loss: 1.0691 - accuracy: 0.5937 - val_loss: 1.0369 - val_accuracy: 0.6459\n",
            "Epoch 56/80\n",
            "156/156 [==============================] - 20s 128ms/step - loss: 1.0666 - accuracy: 0.6004 - val_loss: 1.0311 - val_accuracy: 0.6252\n",
            "Epoch 57/80\n",
            "156/156 [==============================] - 20s 125ms/step - loss: 1.0519 - accuracy: 0.6060 - val_loss: 1.3627 - val_accuracy: 0.5962\n",
            "Epoch 58/80\n",
            "156/156 [==============================] - 20s 125ms/step - loss: 1.0777 - accuracy: 0.6002 - val_loss: 1.0614 - val_accuracy: 0.6374\n",
            "Epoch 59/80\n",
            "156/156 [==============================] - 19s 125ms/step - loss: 1.0503 - accuracy: 0.6106 - val_loss: 1.0954 - val_accuracy: 0.6398\n",
            "Epoch 60/80\n",
            "156/156 [==============================] - 20s 128ms/step - loss: 1.0643 - accuracy: 0.6066 - val_loss: 0.9366 - val_accuracy: 0.6374\n",
            "Epoch 61/80\n",
            "156/156 [==============================] - 20s 126ms/step - loss: 1.0476 - accuracy: 0.6062 - val_loss: 1.1690 - val_accuracy: 0.5572\n",
            "Epoch 62/80\n",
            "156/156 [==============================] - 20s 127ms/step - loss: 1.0487 - accuracy: 0.6076 - val_loss: 1.1252 - val_accuracy: 0.6412\n",
            "Epoch 63/80\n",
            "156/156 [==============================] - 20s 129ms/step - loss: 1.0524 - accuracy: 0.6060 - val_loss: 1.1044 - val_accuracy: 0.5994\n",
            "Epoch 64/80\n",
            "156/156 [==============================] - 19s 124ms/step - loss: 1.0436 - accuracy: 0.6171 - val_loss: 1.1570 - val_accuracy: 0.6046\n",
            "Epoch 65/80\n",
            "156/156 [==============================] - 20s 126ms/step - loss: 1.0537 - accuracy: 0.6044 - val_loss: 1.0753 - val_accuracy: 0.6276\n",
            "Epoch 66/80\n",
            "156/156 [==============================] - 20s 125ms/step - loss: 1.0224 - accuracy: 0.6201 - val_loss: 0.9209 - val_accuracy: 0.6759\n",
            "Epoch 67/80\n",
            "156/156 [==============================] - 20s 126ms/step - loss: 1.0570 - accuracy: 0.5971 - val_loss: 1.2162 - val_accuracy: 0.6135\n",
            "Epoch 68/80\n",
            "156/156 [==============================] - 19s 123ms/step - loss: 1.0322 - accuracy: 0.6108 - val_loss: 1.1259 - val_accuracy: 0.6356\n",
            "Epoch 69/80\n",
            "156/156 [==============================] - 20s 125ms/step - loss: 1.0291 - accuracy: 0.6144 - val_loss: 1.1503 - val_accuracy: 0.6332\n",
            "Epoch 70/80\n",
            "156/156 [==============================] - 20s 129ms/step - loss: 1.0257 - accuracy: 0.6191 - val_loss: 1.2974 - val_accuracy: 0.5868\n",
            "Epoch 71/80\n",
            "156/156 [==============================] - 20s 128ms/step - loss: 1.0138 - accuracy: 0.6217 - val_loss: 1.1181 - val_accuracy: 0.6492\n",
            "Epoch 72/80\n",
            "156/156 [==============================] - 21s 131ms/step - loss: 1.0098 - accuracy: 0.6261 - val_loss: 1.1252 - val_accuracy: 0.6576\n",
            "Epoch 73/80\n",
            "156/156 [==============================] - 20s 128ms/step - loss: 1.0419 - accuracy: 0.6078 - val_loss: 1.0033 - val_accuracy: 0.6553\n",
            "Epoch 74/80\n",
            "156/156 [==============================] - 20s 129ms/step - loss: 1.0239 - accuracy: 0.6183 - val_loss: 0.9578 - val_accuracy: 0.6768\n",
            "Epoch 75/80\n",
            "156/156 [==============================] - 20s 128ms/step - loss: 1.0139 - accuracy: 0.6259 - val_loss: 1.1056 - val_accuracy: 0.6646\n",
            "Epoch 76/80\n",
            "156/156 [==============================] - 19s 125ms/step - loss: 1.0111 - accuracy: 0.6297 - val_loss: 1.0567 - val_accuracy: 0.6543\n",
            "Epoch 77/80\n",
            "156/156 [==============================] - 20s 130ms/step - loss: 0.9875 - accuracy: 0.6317 - val_loss: 1.0955 - val_accuracy: 0.6299\n",
            "Epoch 78/80\n",
            "156/156 [==============================] - 20s 127ms/step - loss: 0.9962 - accuracy: 0.6279 - val_loss: 1.0416 - val_accuracy: 0.6764\n",
            "Epoch 79/80\n",
            "156/156 [==============================] - 20s 128ms/step - loss: 1.0173 - accuracy: 0.6205 - val_loss: 1.1667 - val_accuracy: 0.6083\n",
            "Epoch 80/80\n",
            "156/156 [==============================] - 20s 125ms/step - loss: 0.9900 - accuracy: 0.6291 - val_loss: 1.0761 - val_accuracy: 0.6445\n"
          ]
        },
        {
          "output_type": "display_data",
          "data": {
            "image/png": "[encoded data removed]",
            "text/plain": [
              "<Figure size 1440x360 with 2 Axes>"
            ]
          },
          "metadata": {
            "needs_background": "light"
          }
        },
        {
          "output_type": "stream",
          "name": "stdout",
          "text": [
            "67/67 [==============================] - 1s 15ms/step - loss: 1.0761 - accuracy: 0.6445\n",
            "Validation Accuracy: 0.6444652676582336\n"
          ]
        }
      ]
    },
    {
      "cell_type": "code",
      "source": [
        "model.summary()"
      ],
      "metadata": {
        "id": "aEjUnYrJ6u2O",
        "colab": {
          "base_uri": "https://localhost:8080/"
        },
        "outputId": "93545f60-38a4-40d7-8160-113d3afc4562"
      },
      "execution_count": 33,
      "outputs": [
        {
          "output_type": "stream",
          "name": "stdout",
          "text": [
            "Model: \"sequential_2\"\n",
            "_________________________________________________________________\n",
            " Layer (type)                Output Shape              Param #   \n",
            "=================================================================\n",
            " conv2d_10 (Conv2D)          (None, 96, 96, 32)        896       \n",
            "                                                                 \n",
            " max_pooling2d_10 (MaxPoolin  (None, 48, 48, 32)       0         \n",
            " g2D)                                                            \n",
            "                                                                 \n",
            " dropout_12 (Dropout)        (None, 48, 48, 32)        0         \n",
            "                                                                 \n",
            " conv2d_11 (Conv2D)          (None, 48, 48, 64)        18496     \n",
            "                                                                 \n",
            " max_pooling2d_11 (MaxPoolin  (None, 24, 24, 64)       0         \n",
            " g2D)                                                            \n",
            "                                                                 \n",
            " batch_normalization_4 (Batc  (None, 24, 24, 64)       256       \n",
            " hNormalization)                                                 \n",
            "                                                                 \n",
            " dropout_13 (Dropout)        (None, 24, 24, 64)        0         \n",
            "                                                                 \n",
            " conv2d_12 (Conv2D)          (None, 24, 24, 128)       73856     \n",
            "                                                                 \n",
            " max_pooling2d_12 (MaxPoolin  (None, 12, 12, 128)      0         \n",
            " g2D)                                                            \n",
            "                                                                 \n",
            " batch_normalization_5 (Batc  (None, 12, 12, 128)      512       \n",
            " hNormalization)                                                 \n",
            "                                                                 \n",
            " dropout_14 (Dropout)        (None, 12, 12, 128)       0         \n",
            "                                                                 \n",
            " conv2d_13 (Conv2D)          (None, 12, 12, 256)       295168    \n",
            "                                                                 \n",
            " max_pooling2d_13 (MaxPoolin  (None, 6, 6, 256)        0         \n",
            " g2D)                                                            \n",
            "                                                                 \n",
            " dropout_15 (Dropout)        (None, 6, 6, 256)         0         \n",
            "                                                                 \n",
            " conv2d_14 (Conv2D)          (None, 6, 6, 32)          73760     \n",
            "                                                                 \n",
            " max_pooling2d_14 (MaxPoolin  (None, 3, 3, 32)         0         \n",
            " g2D)                                                            \n",
            "                                                                 \n",
            " flatten_2 (Flatten)         (None, 288)               0         \n",
            "                                                                 \n",
            " dropout_16 (Dropout)        (None, 288)               0         \n",
            "                                                                 \n",
            " dense_4 (Dense)             (None, 256)               73984     \n",
            "                                                                 \n",
            " dropout_17 (Dropout)        (None, 256)               0         \n",
            "                                                                 \n",
            " dense_5 (Dense)             (None, 6)                 1542      \n",
            "                                                                 \n",
            "=================================================================\n",
            "Total params: 538,470\n",
            "Trainable params: 538,086\n",
            "Non-trainable params: 384\n",
            "_________________________________________________________________\n"
          ]
        }
      ]
    },
    {
      "cell_type": "code",
      "source": [
        "import seaborn as sns\n",
        "import tensorflow as tf\n",
        "from tensorflow import math as tfmath\n",
        "\n",
        "classes = df['adjusted labels'].unique()\n",
        "display(classes)\n",
        "\n",
        "y_true = tf.argmax(y_val, axis=1)\n",
        "\n",
        "y_pred = model.predict(x_val)\n",
        "# y_pred = tf.keras.utils.to_categorical(y_pred, num_classes = 6)\n",
        "y_pred = tf.argmax(y_pred, axis = 1)\n",
        "\n",
        "conf_matrix = tfmath.confusion_matrix(y_true, y_pred, num_classes=6)\n",
        "\n",
        "ax = sns.heatmap(conf_matrix, xticklabels=classes, yticklabels=classes)\n",
        "ax.set(xlabel='Predicted Class', ylabel='Actual Class')\n",
        "plt.show()\n",
        "\n",
        "print(conf_matrix)"
      ],
      "metadata": {
        "id": "jcwt60b_Jtc_",
        "colab": {
          "base_uri": "https://localhost:8080/",
          "height": 518
        },
        "outputId": "e818d88c-12dd-4141-c385-0ef47e50b25e"
      },
      "execution_count": 46,
      "outputs": [
        {
          "output_type": "display_data",
          "data": {
            "text/plain": [
              "array(['healthy', 'scab', 'complex', 'rust', 'frog_eye_leaf_spot',\n",
              "       'powdery_mildew'], dtype=object)"
            ]
          },
          "metadata": {}
        },
        {
          "output_type": "display_data",
          "data": {
            "image/png": "[encoded data removed]",
            "text/plain": [
              "<Figure size 432x288 with 2 Axes>"
            ]
          },
          "metadata": {
            "needs_background": "light"
          }
        },
        {
          "output_type": "stream",
          "name": "stdout",
          "text": [
            "tf.Tensor(\n",
            "[[  0 363   0   0   0   0]\n",
            " [  0 318   0   0   0   0]\n",
            " [  0 370   0   0   0   0]\n",
            " [  0 358   0   5   0   0]\n",
            " [  1 314   0   0  38   0]\n",
            " [  0 365   0   0   0   0]], shape=(6, 6), dtype=int32)\n"
          ]
        }
      ]
    },
    {
      "cell_type": "code",
      "source": [
        "! pip install mlxtend"
      ],
      "metadata": {
        "id": "DMDHNCSmzZ2s",
        "colab": {
          "base_uri": "https://localhost:8080/"
        },
        "outputId": "dabe4b81-9950-466e-9ddc-64e2300fc261"
      },
      "execution_count": null,
      "outputs": [
        {
          "output_type": "stream",
          "name": "stdout",
          "text": [
            "Requirement already satisfied: mlxtend in /usr/local/lib/python3.7/dist-packages (0.19.0)\n",
            "Requirement already satisfied: scipy>=1.2.1 in /usr/local/lib/python3.7/dist-packages (from mlxtend) (1.4.1)\n",
            "Requirement already satisfied: matplotlib>=3.0.0 in /usr/local/lib/python3.7/dist-packages (from mlxtend) (3.2.2)\n",
            "Requirement already satisfied: numpy>=1.16.2 in /usr/local/lib/python3.7/dist-packages (from mlxtend) (1.19.5)\n",
            "Requirement already satisfied: pandas>=0.24.2 in /usr/local/lib/python3.7/dist-packages (from mlxtend) (1.1.5)\n",
            "Requirement already satisfied: joblib>=0.13.2 in /usr/local/lib/python3.7/dist-packages (from mlxtend) (1.1.0)\n",
            "Requirement already satisfied: setuptools in /usr/local/lib/python3.7/dist-packages (from mlxtend) (57.4.0)\n",
            "Requirement already satisfied: scikit-learn>=0.20.3 in /usr/local/lib/python3.7/dist-packages (from mlxtend) (1.0.2)\n",
            "Requirement already satisfied: cycler>=0.10 in /usr/local/lib/python3.7/dist-packages (from matplotlib>=3.0.0->mlxtend) (0.11.0)\n",
            "Requirement already satisfied: python-dateutil>=2.1 in /usr/local/lib/python3.7/dist-packages (from matplotlib>=3.0.0->mlxtend) (2.8.2)\n",
            "Requirement already satisfied: pyparsing!=2.0.4,!=2.1.2,!=2.1.6,>=2.0.1 in /usr/local/lib/python3.7/dist-packages (from matplotlib>=3.0.0->mlxtend) (3.0.6)\n",
            "Requirement already satisfied: kiwisolver>=1.0.1 in /usr/local/lib/python3.7/dist-packages (from matplotlib>=3.0.0->mlxtend) (1.3.2)\n",
            "Requirement already satisfied: pytz>=2017.2 in /usr/local/lib/python3.7/dist-packages (from pandas>=0.24.2->mlxtend) (2018.9)\n",
            "Requirement already satisfied: six>=1.5 in /usr/local/lib/python3.7/dist-packages (from python-dateutil>=2.1->matplotlib>=3.0.0->mlxtend) (1.15.0)\n",
            "Requirement already satisfied: threadpoolctl>=2.0.0 in /usr/local/lib/python3.7/dist-packages (from scikit-learn>=0.20.3->mlxtend) (3.0.0)\n"
          ]
        }
      ]
    },
    {
      "cell_type": "code",
      "source": [
        "# define data for in confusion matrix\n",
        "# y_true = tf.argmax(y_val, axis=1)\n",
        "# y_pred = tf.argmax(model(x_val), axis=1)\n",
        "\n",
        "# set labels for confusion matrix\n",
        "labels =  df['adjusted labels'].unique()\n",
        "display(labels)\n",
        "\n",
        "# create and plot matrix\n",
        "mtrx = confusion_matrix(y_true, y_pred)\n",
        "plot_confusion_matrix(conf_mat = mtrx, figsize=(8, 8), class_names=labels, colorbar=True, show_normed = True) # class_names=labels,"
      ],
      "metadata": {
        "id": "wRrn2C6vNU6q",
        "colab": {
          "base_uri": "https://localhost:8080/",
          "height": 594
        },
        "outputId": "4e10ef8a-c03e-4712-a21c-9526ddf7bbd3"
      },
      "execution_count": 47,
      "outputs": [
        {
          "output_type": "display_data",
          "data": {
            "text/plain": [
              "array(['healthy', 'scab', 'complex', 'rust', 'frog_eye_leaf_spot',\n",
              "       'powdery_mildew'], dtype=object)"
            ]
          },
          "metadata": {}
        },
        {
          "output_type": "execute_result",
          "data": {
            "text/plain": [
              "(<Figure size 576x576 with 2 Axes>,\n",
              " <matplotlib.axes._subplots.AxesSubplot at 0x7f63ab81f390>)"
            ]
          },
          "metadata": {},
          "execution_count": 47
        },
        {
          "output_type": "display_data",
          "data": {
            "image/png": "[encoded data removed]",
            "text/plain": [
              "<Figure size 576x576 with 2 Axes>"
            ]
          },
          "metadata": {
            "needs_background": "light"
          }
        }
      ]
    }
  ]
}