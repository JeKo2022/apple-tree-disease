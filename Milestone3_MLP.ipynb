{
  "nbformat": 4,
  "nbformat_minor": 0,
  "metadata": {
    "colab": {
      "name": "Milestone3_MLP.ipynb",
      "provenance": [],
      "collapsed_sections": [],
      "include_colab_link": true
    },
    "kernelspec": {
      "name": "python3",
      "display_name": "Python 3"
    },
    "language_info": {
      "name": "python"
    },
    "accelerator": "GPU"
  },
  "cells": [
    {
      "cell_type": "markdown",
      "metadata": {
        "id": "view-in-github",
        "colab_type": "text"
      },
      "source": [
        "<a href=\"https://colab.research.google.com/github/JeLaKo/apple-tree-disease/blob/main/Milestone3_MLP.ipynb\" target=\"_parent\"><img src=\"https://colab.research.google.com/assets/colab-badge.svg\" alt=\"Open In Colab\"/></a>"
      ]
    },
    {
      "cell_type": "code",
      "source": [
        "# import mlxtend package for confusion matrix\n",
        "import mlxtend\n",
        "                                                          \n",
        "print(mlxtend.__version__) \n",
        "\n",
        "! pip install mlxtend --upgrade --no-deps\n",
        "\n",
        "print(mlxtend.__version__) \n",
        "\n",
        "from mlxtend.plotting import plot_confusion_matrix\n",
        "from sklearn.metrics import confusion_matrix\n"
      ],
      "metadata": {
        "colab": {
          "base_uri": "https://localhost:8080/"
        },
        "id": "_dHkG28jM9N9",
        "outputId": "3e7b7855-a0f1-4d29-ba68-389e56835978"
      },
      "execution_count": 1,
      "outputs": [
        {
          "output_type": "stream",
          "name": "stdout",
          "text": [
            "0.19.0\n",
            "Requirement already satisfied: mlxtend in /usr/local/lib/python3.7/dist-packages (0.19.0)\n",
            "0.19.0\n"
          ]
        }
      ]
    },
    {
      "cell_type": "markdown",
      "source": [
        "Loading the data directly through Kaggle's API"
      ],
      "metadata": {
        "id": "TqzOGBFWtYKn"
      }
    },
    {
      "cell_type": "code",
      "execution_count": 3,
      "metadata": {
        "id": "NF6qQ5qUmQI_",
        "colab": {
          "base_uri": "https://localhost:8080/"
        },
        "outputId": "307799dc-f93f-4472-d91a-1316f6f66b6b"
      },
      "outputs": [
        {
          "output_type": "stream",
          "name": "stdout",
          "text": [
            "Mounted at /content/gdrive\n"
          ]
        }
      ],
      "source": [
        "# connect to google drive\n",
        "from google.colab import drive\n",
        "drive.mount(\"/content/gdrive\", force_remount=True)"
      ]
    },
    {
      "cell_type": "code",
      "source": [
        "# install kaggle\n",
        "!pip install -U -q kaggle==1.5.8"
      ],
      "metadata": {
        "id": "ciuScTfXr0VL",
        "colab": {
          "base_uri": "https://localhost:8080/"
        },
        "outputId": "dde0e92e-b290-4e67-a9f2-f4ad9ddd4a0f"
      },
      "execution_count": null,
      "outputs": [
        {
          "output_type": "stream",
          "name": "stdout",
          "text": [
            "\u001b[?25l\r\u001b[K     |█████▌                          | 10 kB 31.1 MB/s eta 0:00:01\r\u001b[K     |███████████                     | 20 kB 15.2 MB/s eta 0:00:01\r\u001b[K     |████████████████▋               | 30 kB 9.9 MB/s eta 0:00:01\r\u001b[K     |██████████████████████▏         | 40 kB 8.0 MB/s eta 0:00:01\r\u001b[K     |███████████████████████████▊    | 51 kB 5.1 MB/s eta 0:00:01\r\u001b[K     |████████████████████████████████| 59 kB 3.4 MB/s \n",
            "\u001b[?25h  Building wheel for kaggle (setup.py) ... \u001b[?25l\u001b[?25hdone\n",
            "  Building wheel for slugify (setup.py) ... \u001b[?25l\u001b[?25hdone\n"
          ]
        }
      ]
    },
    {
      "cell_type": "code",
      "source": [
        "#change to appropriate directory in google drive\n",
        "%cd /content/gdrive/MyDrive/MLP/"
      ],
      "metadata": {
        "colab": {
          "base_uri": "https://localhost:8080/"
        },
        "id": "Lm1ktmfxsmpm",
        "outputId": "65ed2bb6-c0ac-421e-e0be-4881499f14fa"
      },
      "execution_count": 4,
      "outputs": [
        {
          "output_type": "stream",
          "name": "stdout",
          "text": [
            "/content/gdrive/MyDrive/MLP\n"
          ]
        }
      ]
    },
    {
      "cell_type": "code",
      "source": [
        "# import os for kaggle\n",
        "import os"
      ],
      "metadata": {
        "id": "O-H80pCbsuzS"
      },
      "execution_count": 5,
      "outputs": []
    },
    {
      "cell_type": "code",
      "source": [
        "os.environ['KAGGLE_CONFIG_DIR'] = \"/content/gdrive/MyDrive/MLP/\"\n",
        "! kaggle competitions download -c plant-pathology-2021-fgvc8"
      ],
      "metadata": {
        "id": "XIrQYT90uv5m",
        "colab": {
          "base_uri": "https://localhost:8080/"
        },
        "outputId": "39c5c591-ba86-4ccd-a9a6-f7e605b0c69b"
      },
      "execution_count": null,
      "outputs": [
        {
          "output_type": "stream",
          "name": "stdout",
          "text": [
            "Downloading plant-pathology-2021-fgvc8.zip to /content/gdrive/MyDrive/MLP\n",
            "  7% 1.11G/14.9G [00:10<02:07, 116MB/s]\n",
            "User cancelled operation\n"
          ]
        }
      ]
    },
    {
      "cell_type": "code",
      "source": [
        "# quietly unzip plant pathology data\n",
        "! unzip -q plant-pathology-2021-fgvc8.zip -d train"
      ],
      "metadata": {
        "id": "4w4s3qRQ3Z6X"
      },
      "execution_count": null,
      "outputs": []
    },
    {
      "cell_type": "markdown",
      "source": [
        "Data processing\n"
      ],
      "metadata": {
        "id": "v192m162tVHj"
      }
    },
    {
      "cell_type": "code",
      "source": [
        "# relevant imports for data processing\n",
        "import pandas as pd\n",
        "import cv2\n",
        "import numpy as np\n",
        "import tensorflow as tf\n",
        "from tensorflow import keras\n",
        "from tensorflow.keras import layers\n",
        "from sklearn.model_selection import train_test_split\n",
        "\n",
        "#change to appropriate directory in google drive\n",
        "%cd /content/gdrive/MyDrive/MLP/train/"
      ],
      "metadata": {
        "id": "ibOekLk5tlko",
        "colab": {
          "base_uri": "https://localhost:8080/"
        },
        "outputId": "82563a8d-cbc2-4c1a-ebc1-53d82fc30b9a"
      },
      "execution_count": 6,
      "outputs": [
        {
          "output_type": "stream",
          "name": "stdout",
          "text": [
            "/content/gdrive/MyDrive/MLP/train\n"
          ]
        }
      ]
    },
    {
      "cell_type": "code",
      "source": [
        "# create dataframe of relevant data\n",
        "df = pd.read_csv('train.csv')\n"
      ],
      "metadata": {
        "id": "4oGL6rPetoLs"
      },
      "execution_count": 7,
      "outputs": []
    },
    {
      "cell_type": "code",
      "source": [
        "# deadling with combined data: set new labels for relevant classes after merge\n",
        "new_labels = df['labels'].to_list()\n",
        "\n",
        "# merge combined classes to main classes\n",
        "for i in range(len(new_labels)):\n",
        "  if new_labels[i] == 'scab frog_eye_leaf_spot complex' or new_labels[i] == 'scab frog_eye_leaf_spot':\n",
        "    new_labels[i] = 'scab'\n",
        "  elif new_labels[i] == 'frog_eye_leaf_spot complex':\n",
        "    new_labels[i] = 'frog_eye_leaf_spot'\n",
        "  elif new_labels[i] == 'powdery_mildew complex':\n",
        "    new_labels[i] = 'powdery_mildew'\n",
        "  elif new_labels[i] == 'rust complex' or new_labels[i] == 'rust frog_eye_leaf_spot':\n",
        "    new_labels[i] = 'rust'\n"
      ],
      "metadata": {
        "id": "MKIFbUN5mLzA"
      },
      "execution_count": 8,
      "outputs": []
    },
    {
      "cell_type": "code",
      "source": [
        "# adjust labels to labels merged with combined classes\n",
        "df['adjusted labels'] = np.array(new_labels)\n",
        "df = df.drop('labels', axis = 1)\n"
      ],
      "metadata": {
        "id": "vHb0J7dOqTMM"
      },
      "execution_count": 9,
      "outputs": []
    },
    {
      "cell_type": "code",
      "source": [
        "def sample(df, sample_size):\n",
        "  \"\"\"\n",
        "  This function gets an equal sample inclusive of all classes from the input dataframe\n",
        "  \"\"\"\n",
        "\n",
        "  df_sampled = []\n",
        "  classes = df['adjusted labels'].unique()\n",
        "\n",
        "  for i in classes:\n",
        "      g = df[df['adjusted labels'] == i].sample(sample_size)\n",
        "      df_sampled.append(g)\n",
        "\n",
        "  df_sampled = pd.concat(df_sampled)\n",
        "  return df_sampled\n",
        "\n",
        "df_sampled = sample(df, 1184)"
      ],
      "metadata": {
        "id": "Zh7Rr6dNzlMN"
      },
      "execution_count": 10,
      "outputs": []
    },
    {
      "cell_type": "code",
      "source": [
        "def one_hot(df):\n",
        "  \"\"\"\n",
        "  This function returns all classes and combination of classes found in the input-dataframe, and returns\n",
        "  the one-hot encoded version\n",
        "  \"\"\"\n",
        "\n",
        "  one_hot = pd.get_dummies(df['adjusted labels'])\n",
        "  df = df.drop('adjusted labels', axis = 1)\n",
        "  df = df.join(one_hot)\n",
        "  return df\n",
        "\n",
        "df_onehot = one_hot(df_sampled)"
      ],
      "metadata": {
        "id": "GdWniTfft-GO"
      },
      "execution_count": 11,
      "outputs": []
    },
    {
      "cell_type": "code",
      "source": [
        "# imports for training and evaluation\n",
        "import matplotlib.pyplot as plt\n",
        "from tensorflow.keras import layers, models, preprocessing"
      ],
      "metadata": {
        "id": "B-W-xZvGLrek"
      },
      "execution_count": 12,
      "outputs": []
    },
    {
      "cell_type": "code",
      "source": [
        "\n",
        "def train_and_evaluate(model, train_x, train_y, val_x, val_y, preprocess={}, epochs=80, augment={}):\n",
        "    ''' Function trains and evaluates the model using training and validation data. \n",
        "        preprocessing and data augmentation possible as input. \n",
        "        outputs model loss and (avg.) model accuracy\n",
        "    '''\n",
        "\n",
        "    model.compile(loss='categorical_crossentropy', optimizer='adam', metrics=['accuracy'])\n",
        "\n",
        "    train_gen = preprocessing.image.ImageDataGenerator(**preprocess, **augment)\n",
        "    train_gen.fit(train_x) \n",
        "\n",
        "    val_gen = preprocessing.image.ImageDataGenerator(**preprocess)\n",
        "    val_gen.fit(train_x)\n",
        "\n",
        "    history = model.fit(train_gen.flow(train_x, train_y), epochs=epochs, \n",
        "                        validation_data=val_gen.flow(val_x, val_y))\n",
        "\n",
        "    fig, axs = plt.subplots(1,2,figsize=(20,5)) \n",
        "\n",
        "    for i, metric in enumerate(['loss', 'accuracy']):\n",
        "        axs[i].plot(history.history[metric])\n",
        "        axs[i].plot(history.history['val_'+metric])\n",
        "        axs[i].legend(['training', 'validation'], loc='best')\n",
        "\n",
        "        axs[i].set_title('Model '+metric)\n",
        "        axs[i].set_ylabel(metric)\n",
        "        axs[i].set_xlabel('epoch')\n",
        "\n",
        "    plt.show()\n",
        "\n",
        "    print(f\"Validation Accuracy: {model.evaluate(val_gen.flow(val_x, val_y))[1]}\")"
      ],
      "metadata": {
        "id": "2uvdJ8Yh3W7g"
      },
      "execution_count": 13,
      "outputs": []
    },
    {
      "cell_type": "code",
      "source": [
        "# convert dictionary into a hashable type\n",
        "df_dict = df_onehot.set_index('image').T.to_dict('list')\n",
        "\n",
        "# gather names of all images in the image-directory\n",
        "train_images = os.listdir('train_images/')\n",
        "\n",
        "# # empty column for the actual images\n",
        "# df_onehot[\"image_pixels\"] = 0\n",
        "\n",
        "#images = []\n",
        "\n",
        "# find corresponding key to image from directory, and add that image to a list\n",
        "for image in df_dict.keys():\n",
        "  if image in train_images:\n",
        "    img = cv2.imread('train_images/' + image)\n",
        "    resized_img = cv2.resize(img, (96, 96)) \n",
        "    cv2.imwrite('resized_train_images/' + image, resized_img)\n",
        "    # images.append(img)\n",
        "\n",
        "labels = list(df_dict.values())"
      ],
      "metadata": {
        "id": "4jts4lwY0YS9"
      },
      "execution_count": 15,
      "outputs": []
    },
    {
      "cell_type": "code",
      "source": [
        "labels = list(df_dict.values())"
      ],
      "metadata": {
        "id": "-hagOhu-rk5C"
      },
      "execution_count": 52,
      "outputs": []
    },
    {
      "cell_type": "code",
      "source": [
        "images = []\n",
        "\n",
        "for image in df_dict.keys():\n",
        "  if image in train_images:\n",
        "    img_resized = cv2.imread('resized_train_images/' + image) \n",
        "    images.append(img_resized)"
      ],
      "metadata": {
        "id": "cmevmo97bWGu"
      },
      "execution_count": 16,
      "outputs": []
    },
    {
      "cell_type": "code",
      "source": [
        "# create array for images and labels, used in train/test split function\n",
        "images = np.array(images)\n",
        "labels = np.array(labels)"
      ],
      "metadata": {
        "id": "o4A7xjIFAwyb"
      },
      "execution_count": 53,
      "outputs": []
    },
    {
      "cell_type": "code",
      "source": [
        ""
      ],
      "metadata": {
        "id": "cimGpERorNyc"
      },
      "execution_count": 46,
      "outputs": []
    },
    {
      "cell_type": "code",
      "source": [
        "# apply train/test split function\n",
        "x_train, x_val, y_train, y_val = train_test_split(images, labels, test_size = 0.3, random_state=42)"
      ],
      "metadata": {
        "id": "_LAtB1dQnt0e"
      },
      "execution_count": 54,
      "outputs": []
    },
    {
      "cell_type": "code",
      "source": [
        "# ML MODEL ARCHITECTURE\n",
        "\n",
        "# Define Sequential model\n",
        "model = models.Sequential()\n",
        "\n",
        "# create convolutional layer and max pooling layer\n",
        "model.add(layers.Conv2D(32, (3, 3), activation=tf.keras.layers.LeakyReLU(alpha=0.5), padding='same', input_shape=(96, 96, 3)))\n",
        "model.add(layers.MaxPooling2D((2, 2)))\n",
        "\n",
        "# create convolutional layer (larger) and max pooling layer\n",
        "model.add(tf.keras.layers.Dropout(0.5))\n",
        "model.add(layers.Conv2D(64, (3, 3), activation=tf.keras.layers.LeakyReLU(alpha=0.5), padding='same'))\n",
        "model.add(layers.MaxPooling2D((2, 2)))\n",
        "model.add(tf.keras.layers.BatchNormalization())\n",
        "\n",
        "# add Conv2D layer with 128 filters and max pooling layer\n",
        "model.add(tf.keras.layers.Dropout(0.5))\n",
        "model.add(layers.Conv2D(128, (3, 3), activation=tf.keras.layers.LeakyReLU(alpha=0.5), padding='same'))\n",
        "model.add(layers.MaxPooling2D((2, 2)))\n",
        "model.add(tf.keras.layers.BatchNormalization())\n",
        "\n",
        "# add Conv2D layer with 256 filters and max pooling layer\n",
        "model.add(tf.keras.layers.Dropout(0.5))\n",
        "model.add(layers.Conv2D(256, (3, 3), activation=tf.keras.layers.LeakyReLU(alpha=0.5), padding='same'))\n",
        "model.add(layers.MaxPooling2D((2, 2)))\n",
        "\n",
        "# # create convolutional layer (larger) and max pooling layer\n",
        "# model.add(tf.keras.layers.Dropout(0.5))\n",
        "# model.add(layers.Conv2D(64, (3, 3), activation=tf.keras.layers.LeakyReLU(alpha=0.5), padding='same'))\n",
        "#model.add(layers.MaxPooling2D((2, 2)))\n",
        "\n",
        "# add Conv2D layer with 32 filters and max pooling layer\n",
        "model.add(tf.keras.layers.Dropout(0.5))\n",
        "model.add(layers.Conv2D(32, (3, 3), activation=tf.keras.layers.LeakyReLU(alpha=0.5), padding='same'))\n",
        "model.add(layers.MaxPooling2D((2, 2)))\n",
        "\n",
        "# flatten layers\n",
        "model.add(layers.Flatten())\n",
        "model.add(tf.keras.layers.Dropout(0.2))\n",
        "model.add(layers.Dense(256, activation=tf.keras.layers.LeakyReLU(alpha=0.5)))\n",
        "\n",
        "# apply softmax activation for final layer classification\n",
        "model.add(tf.keras.layers.Dropout(0.2))\n",
        "model.add(layers.Dense(6, activation='softmax'))\n",
        "\n"
      ],
      "metadata": {
        "id": "ULlZim8l2zKg"
      },
      "execution_count": 63,
      "outputs": []
    },
    {
      "cell_type": "code",
      "source": [
        "# normalize input data: set preprocesing dictionary\n",
        "preprocess = {'featurewise_center': True, 'featurewise_std_normalization' : True}\n",
        "\n",
        "# augment data: set augmentation dictionary\n",
        "#augment = {'horizontal_flip': True, 'vertical_flip': True, 'rotation_range': 20, 'width_shift_range': 0.1, 'height_shift_range': 0.1}\n",
        "# augment = {'horizontal_flip': True, 'zoom_range': 0.1}\n",
        "# augment = {'zoom_range': 0.3}\n",
        "augment = {'zca_whitening': True}\n",
        "\n",
        "# run training and evaluation function\n",
        "train_and_evaluate(model, x_train, y_train, x_val, y_val, preprocess, epochs = 80)"
      ],
      "metadata": {
        "id": "kcESTL0gZEpy",
        "colab": {
          "base_uri": "https://localhost:8080/",
          "height": 1000
        },
        "outputId": "ee054d53-9886-4e2a-af35-3b956167ead3"
      },
      "execution_count": 80,
      "outputs": [
        {
          "output_type": "stream",
          "name": "stdout",
          "text": [
            "Epoch 1/80\n",
            "156/156 [==============================] - 4s 23ms/step - loss: 0.3462 - accuracy: 0.8749 - val_loss: 1.1605 - val_accuracy: 0.6961\n",
            "Epoch 2/80\n",
            "156/156 [==============================] - 3s 22ms/step - loss: 0.3439 - accuracy: 0.8785 - val_loss: 1.1189 - val_accuracy: 0.6970\n",
            "Epoch 3/80\n",
            "156/156 [==============================] - 3s 21ms/step - loss: 0.3364 - accuracy: 0.8741 - val_loss: 1.1616 - val_accuracy: 0.6900\n",
            "Epoch 4/80\n",
            "156/156 [==============================] - 3s 21ms/step - loss: 0.3510 - accuracy: 0.8713 - val_loss: 1.2060 - val_accuracy: 0.6937\n",
            "Epoch 5/80\n",
            "156/156 [==============================] - 3s 21ms/step - loss: 0.3634 - accuracy: 0.8667 - val_loss: 1.1530 - val_accuracy: 0.6918\n",
            "Epoch 6/80\n",
            "156/156 [==============================] - 3s 21ms/step - loss: 0.3479 - accuracy: 0.8767 - val_loss: 1.1815 - val_accuracy: 0.6881\n",
            "Epoch 7/80\n",
            "156/156 [==============================] - 3s 22ms/step - loss: 0.3393 - accuracy: 0.8745 - val_loss: 1.1143 - val_accuracy: 0.6975\n",
            "Epoch 8/80\n",
            "156/156 [==============================] - 3s 21ms/step - loss: 0.3438 - accuracy: 0.8773 - val_loss: 1.0564 - val_accuracy: 0.6947\n",
            "Epoch 9/80\n",
            "156/156 [==============================] - 3s 21ms/step - loss: 0.3477 - accuracy: 0.8717 - val_loss: 1.1930 - val_accuracy: 0.6801\n",
            "Epoch 10/80\n",
            "156/156 [==============================] - 3s 21ms/step - loss: 0.3443 - accuracy: 0.8723 - val_loss: 1.2409 - val_accuracy: 0.6937\n",
            "Epoch 11/80\n",
            "156/156 [==============================] - 3s 21ms/step - loss: 0.3460 - accuracy: 0.8815 - val_loss: 1.1767 - val_accuracy: 0.6909\n",
            "Epoch 12/80\n",
            "156/156 [==============================] - 3s 21ms/step - loss: 0.3679 - accuracy: 0.8663 - val_loss: 1.0816 - val_accuracy: 0.6914\n",
            "Epoch 13/80\n",
            "156/156 [==============================] - 3s 22ms/step - loss: 0.3164 - accuracy: 0.8848 - val_loss: 1.2274 - val_accuracy: 0.6553\n",
            "Epoch 14/80\n",
            "156/156 [==============================] - 3s 21ms/step - loss: 0.3248 - accuracy: 0.8872 - val_loss: 1.2114 - val_accuracy: 0.6867\n",
            "Epoch 15/80\n",
            "156/156 [==============================] - 3s 21ms/step - loss: 0.3547 - accuracy: 0.8733 - val_loss: 1.1389 - val_accuracy: 0.7050\n",
            "Epoch 16/80\n",
            "156/156 [==============================] - 3s 21ms/step - loss: 0.3544 - accuracy: 0.8713 - val_loss: 1.0503 - val_accuracy: 0.6993\n",
            "Epoch 17/80\n",
            "156/156 [==============================] - 3s 22ms/step - loss: 0.3602 - accuracy: 0.8719 - val_loss: 1.0896 - val_accuracy: 0.7087\n",
            "Epoch 18/80\n",
            "156/156 [==============================] - 3s 22ms/step - loss: 0.3464 - accuracy: 0.8813 - val_loss: 1.1152 - val_accuracy: 0.6857\n",
            "Epoch 19/80\n",
            "156/156 [==============================] - 3s 22ms/step - loss: 0.3247 - accuracy: 0.8811 - val_loss: 1.1687 - val_accuracy: 0.7054\n",
            "Epoch 20/80\n",
            "156/156 [==============================] - 3s 21ms/step - loss: 0.3450 - accuracy: 0.8852 - val_loss: 1.0688 - val_accuracy: 0.7139\n",
            "Epoch 21/80\n",
            "156/156 [==============================] - 3s 21ms/step - loss: 0.3246 - accuracy: 0.8775 - val_loss: 1.2612 - val_accuracy: 0.6881\n",
            "Epoch 22/80\n",
            "156/156 [==============================] - 3s 21ms/step - loss: 0.3331 - accuracy: 0.8809 - val_loss: 1.1605 - val_accuracy: 0.6881\n",
            "Epoch 23/80\n",
            "156/156 [==============================] - 3s 21ms/step - loss: 0.3174 - accuracy: 0.8870 - val_loss: 1.0761 - val_accuracy: 0.6984\n",
            "Epoch 24/80\n",
            "156/156 [==============================] - 3s 21ms/step - loss: 0.3133 - accuracy: 0.8878 - val_loss: 1.2615 - val_accuracy: 0.6609\n",
            "Epoch 25/80\n",
            "156/156 [==============================] - 3s 21ms/step - loss: 0.3436 - accuracy: 0.8809 - val_loss: 1.2109 - val_accuracy: 0.6900\n",
            "Epoch 26/80\n",
            "156/156 [==============================] - 3s 22ms/step - loss: 0.3279 - accuracy: 0.8837 - val_loss: 1.1438 - val_accuracy: 0.6811\n",
            "Epoch 27/80\n",
            "156/156 [==============================] - 3s 21ms/step - loss: 0.3384 - accuracy: 0.8781 - val_loss: 1.2437 - val_accuracy: 0.6740\n",
            "Epoch 28/80\n",
            "156/156 [==============================] - 3s 22ms/step - loss: 0.3435 - accuracy: 0.8819 - val_loss: 1.1556 - val_accuracy: 0.6881\n",
            "Epoch 29/80\n",
            "156/156 [==============================] - 3s 21ms/step - loss: 0.3101 - accuracy: 0.8854 - val_loss: 1.2040 - val_accuracy: 0.6909\n",
            "Epoch 30/80\n",
            "156/156 [==============================] - 3s 21ms/step - loss: 0.3348 - accuracy: 0.8852 - val_loss: 1.0921 - val_accuracy: 0.6918\n",
            "Epoch 31/80\n",
            "156/156 [==============================] - 3s 22ms/step - loss: 0.3000 - accuracy: 0.8932 - val_loss: 1.1422 - val_accuracy: 0.7120\n",
            "Epoch 32/80\n",
            "156/156 [==============================] - 3s 22ms/step - loss: 0.3390 - accuracy: 0.8817 - val_loss: 1.1572 - val_accuracy: 0.6998\n",
            "Epoch 33/80\n",
            "156/156 [==============================] - 3s 21ms/step - loss: 0.3044 - accuracy: 0.8864 - val_loss: 1.1919 - val_accuracy: 0.6984\n",
            "Epoch 34/80\n",
            "156/156 [==============================] - 3s 22ms/step - loss: 0.3219 - accuracy: 0.8910 - val_loss: 1.0968 - val_accuracy: 0.7036\n",
            "Epoch 35/80\n",
            "156/156 [==============================] - 3s 22ms/step - loss: 0.3186 - accuracy: 0.8856 - val_loss: 1.2006 - val_accuracy: 0.7045\n",
            "Epoch 36/80\n",
            "156/156 [==============================] - 3s 22ms/step - loss: 0.3321 - accuracy: 0.8813 - val_loss: 1.1324 - val_accuracy: 0.7045\n",
            "Epoch 37/80\n",
            "156/156 [==============================] - 3s 21ms/step - loss: 0.3174 - accuracy: 0.8868 - val_loss: 1.2655 - val_accuracy: 0.6904\n",
            "Epoch 38/80\n",
            "156/156 [==============================] - 3s 22ms/step - loss: 0.3096 - accuracy: 0.8942 - val_loss: 1.2508 - val_accuracy: 0.6857\n",
            "Epoch 39/80\n",
            "156/156 [==============================] - 3s 22ms/step - loss: 0.3454 - accuracy: 0.8797 - val_loss: 1.1126 - val_accuracy: 0.7017\n",
            "Epoch 40/80\n",
            "156/156 [==============================] - 3s 22ms/step - loss: 0.3396 - accuracy: 0.8825 - val_loss: 1.1258 - val_accuracy: 0.6998\n",
            "Epoch 41/80\n",
            "156/156 [==============================] - 3s 21ms/step - loss: 0.3362 - accuracy: 0.8831 - val_loss: 1.0816 - val_accuracy: 0.6740\n",
            "Epoch 42/80\n",
            "156/156 [==============================] - 3s 22ms/step - loss: 0.3122 - accuracy: 0.8872 - val_loss: 1.1993 - val_accuracy: 0.6923\n",
            "Epoch 43/80\n",
            "156/156 [==============================] - 3s 22ms/step - loss: 0.2989 - accuracy: 0.8892 - val_loss: 1.1986 - val_accuracy: 0.6914\n",
            "Epoch 44/80\n",
            "156/156 [==============================] - 3s 21ms/step - loss: 0.3060 - accuracy: 0.8918 - val_loss: 1.3291 - val_accuracy: 0.6792\n",
            "Epoch 45/80\n",
            "156/156 [==============================] - 3s 22ms/step - loss: 0.3220 - accuracy: 0.8894 - val_loss: 1.1443 - val_accuracy: 0.7050\n",
            "Epoch 46/80\n",
            "156/156 [==============================] - 3s 21ms/step - loss: 0.3230 - accuracy: 0.8831 - val_loss: 1.2075 - val_accuracy: 0.6825\n",
            "Epoch 47/80\n",
            "156/156 [==============================] - 3s 22ms/step - loss: 0.3156 - accuracy: 0.8880 - val_loss: 1.1638 - val_accuracy: 0.6904\n",
            "Epoch 48/80\n",
            "156/156 [==============================] - 3s 21ms/step - loss: 0.3152 - accuracy: 0.8886 - val_loss: 1.2014 - val_accuracy: 0.6942\n",
            "Epoch 49/80\n",
            "156/156 [==============================] - 3s 21ms/step - loss: 0.3063 - accuracy: 0.8920 - val_loss: 1.1430 - val_accuracy: 0.6993\n",
            "Epoch 50/80\n",
            "156/156 [==============================] - 3s 22ms/step - loss: 0.3263 - accuracy: 0.8864 - val_loss: 1.1097 - val_accuracy: 0.7031\n",
            "Epoch 51/80\n",
            "156/156 [==============================] - 3s 21ms/step - loss: 0.3291 - accuracy: 0.8833 - val_loss: 1.1286 - val_accuracy: 0.7101\n",
            "Epoch 52/80\n",
            "156/156 [==============================] - 3s 21ms/step - loss: 0.3082 - accuracy: 0.8916 - val_loss: 1.0692 - val_accuracy: 0.7045\n",
            "Epoch 53/80\n",
            "156/156 [==============================] - 3s 21ms/step - loss: 0.3124 - accuracy: 0.8906 - val_loss: 1.2447 - val_accuracy: 0.6811\n",
            "Epoch 54/80\n",
            "156/156 [==============================] - 3s 21ms/step - loss: 0.3098 - accuracy: 0.8858 - val_loss: 1.3009 - val_accuracy: 0.6778\n",
            "Epoch 55/80\n",
            "156/156 [==============================] - 3s 22ms/step - loss: 0.3170 - accuracy: 0.8874 - val_loss: 1.1877 - val_accuracy: 0.6993\n",
            "Epoch 56/80\n",
            "156/156 [==============================] - 3s 21ms/step - loss: 0.3053 - accuracy: 0.8940 - val_loss: 1.3031 - val_accuracy: 0.6829\n",
            "Epoch 57/80\n",
            "156/156 [==============================] - 3s 22ms/step - loss: 0.3134 - accuracy: 0.8896 - val_loss: 1.1888 - val_accuracy: 0.6979\n",
            "Epoch 58/80\n",
            "156/156 [==============================] - 3s 21ms/step - loss: 0.3117 - accuracy: 0.8938 - val_loss: 1.1884 - val_accuracy: 0.6651\n",
            "Epoch 59/80\n",
            "156/156 [==============================] - 3s 22ms/step - loss: 0.3107 - accuracy: 0.8848 - val_loss: 1.1939 - val_accuracy: 0.6754\n",
            "Epoch 60/80\n",
            "156/156 [==============================] - 3s 22ms/step - loss: 0.3309 - accuracy: 0.8821 - val_loss: 1.1481 - val_accuracy: 0.6862\n",
            "Epoch 61/80\n",
            "156/156 [==============================] - 3s 22ms/step - loss: 0.3048 - accuracy: 0.8910 - val_loss: 1.3045 - val_accuracy: 0.6890\n",
            "Epoch 62/80\n",
            "156/156 [==============================] - 3s 22ms/step - loss: 0.3089 - accuracy: 0.8884 - val_loss: 1.2416 - val_accuracy: 0.6745\n",
            "Epoch 63/80\n",
            "156/156 [==============================] - 3s 22ms/step - loss: 0.2900 - accuracy: 0.8938 - val_loss: 1.1456 - val_accuracy: 0.7115\n",
            "Epoch 64/80\n",
            "156/156 [==============================] - 3s 22ms/step - loss: 0.3066 - accuracy: 0.8821 - val_loss: 1.2939 - val_accuracy: 0.6825\n",
            "Epoch 65/80\n",
            "156/156 [==============================] - 3s 22ms/step - loss: 0.3155 - accuracy: 0.8866 - val_loss: 1.1811 - val_accuracy: 0.6979\n",
            "Epoch 66/80\n",
            "156/156 [==============================] - 3s 22ms/step - loss: 0.3180 - accuracy: 0.8866 - val_loss: 1.3255 - val_accuracy: 0.6576\n",
            "Epoch 67/80\n",
            "156/156 [==============================] - 3s 22ms/step - loss: 0.3020 - accuracy: 0.8950 - val_loss: 1.2341 - val_accuracy: 0.7003\n",
            "Epoch 68/80\n",
            "156/156 [==============================] - 3s 22ms/step - loss: 0.2971 - accuracy: 0.8946 - val_loss: 1.2230 - val_accuracy: 0.6993\n",
            "Epoch 69/80\n",
            "156/156 [==============================] - 3s 22ms/step - loss: 0.3003 - accuracy: 0.8926 - val_loss: 1.0823 - val_accuracy: 0.7186\n",
            "Epoch 70/80\n",
            "156/156 [==============================] - 3s 22ms/step - loss: 0.3198 - accuracy: 0.8880 - val_loss: 1.1725 - val_accuracy: 0.6965\n",
            "Epoch 71/80\n",
            "156/156 [==============================] - 3s 22ms/step - loss: 0.2999 - accuracy: 0.8952 - val_loss: 1.1933 - val_accuracy: 0.6956\n",
            "Epoch 72/80\n",
            "156/156 [==============================] - 3s 22ms/step - loss: 0.2982 - accuracy: 0.8962 - val_loss: 1.2393 - val_accuracy: 0.6904\n",
            "Epoch 73/80\n",
            "156/156 [==============================] - 3s 21ms/step - loss: 0.2996 - accuracy: 0.8918 - val_loss: 1.2518 - val_accuracy: 0.6961\n",
            "Epoch 74/80\n",
            "156/156 [==============================] - 3s 22ms/step - loss: 0.3002 - accuracy: 0.8968 - val_loss: 1.1785 - val_accuracy: 0.6839\n",
            "Epoch 75/80\n",
            "156/156 [==============================] - 3s 22ms/step - loss: 0.2911 - accuracy: 0.8952 - val_loss: 1.3546 - val_accuracy: 0.6618\n",
            "Epoch 76/80\n",
            "156/156 [==============================] - 3s 22ms/step - loss: 0.3322 - accuracy: 0.8795 - val_loss: 1.2250 - val_accuracy: 0.6811\n",
            "Epoch 77/80\n",
            "156/156 [==============================] - 3s 21ms/step - loss: 0.3133 - accuracy: 0.8902 - val_loss: 1.2528 - val_accuracy: 0.6759\n",
            "Epoch 78/80\n",
            "156/156 [==============================] - 3s 22ms/step - loss: 0.2892 - accuracy: 0.8974 - val_loss: 1.1691 - val_accuracy: 0.7083\n",
            "Epoch 79/80\n",
            "156/156 [==============================] - 3s 21ms/step - loss: 0.3088 - accuracy: 0.8940 - val_loss: 1.2945 - val_accuracy: 0.6928\n",
            "Epoch 80/80\n",
            "156/156 [==============================] - 3s 22ms/step - loss: 0.2832 - accuracy: 0.9027 - val_loss: 1.2284 - val_accuracy: 0.6867\n"
          ]
        },
        {
          "output_type": "display_data",
          "data": {
            "image/png": "[encoded data removed]",
            "text/plain": [
              "<Figure size 1440x360 with 2 Axes>"
            ]
          },
          "metadata": {
            "needs_background": "light"
          }
        },
        {
          "output_type": "stream",
          "name": "stdout",
          "text": [
            "67/67 [==============================] - 1s 11ms/step - loss: 1.2284 - accuracy: 0.6867\n",
            "Validation Accuracy: 0.6866791844367981\n"
          ]
        }
      ]
    },
    {
      "cell_type": "code",
      "source": [
        "model.summary()"
      ],
      "metadata": {
        "id": "aEjUnYrJ6u2O",
        "colab": {
          "base_uri": "https://localhost:8080/"
        },
        "outputId": "476e3dae-93ee-4a30-befa-3f86eb78082a"
      },
      "execution_count": 69,
      "outputs": [
        {
          "output_type": "stream",
          "name": "stdout",
          "text": [
            "Model: \"sequential_5\"\n",
            "_________________________________________________________________\n",
            " Layer (type)                Output Shape              Param #   \n",
            "=================================================================\n",
            " conv2d_23 (Conv2D)          (None, 96, 96, 32)        896       \n",
            "                                                                 \n",
            " max_pooling2d_23 (MaxPoolin  (None, 48, 48, 32)       0         \n",
            " g2D)                                                            \n",
            "                                                                 \n",
            " dropout_28 (Dropout)        (None, 48, 48, 32)        0         \n",
            "                                                                 \n",
            " conv2d_24 (Conv2D)          (None, 48, 48, 64)        18496     \n",
            "                                                                 \n",
            " max_pooling2d_24 (MaxPoolin  (None, 24, 24, 64)       0         \n",
            " g2D)                                                            \n",
            "                                                                 \n",
            " batch_normalization_12 (Bat  (None, 24, 24, 64)       256       \n",
            " chNormalization)                                                \n",
            "                                                                 \n",
            " dropout_29 (Dropout)        (None, 24, 24, 64)        0         \n",
            "                                                                 \n",
            " conv2d_25 (Conv2D)          (None, 24, 24, 128)       73856     \n",
            "                                                                 \n",
            " max_pooling2d_25 (MaxPoolin  (None, 12, 12, 128)      0         \n",
            " g2D)                                                            \n",
            "                                                                 \n",
            " batch_normalization_13 (Bat  (None, 12, 12, 128)      512       \n",
            " chNormalization)                                                \n",
            "                                                                 \n",
            " dropout_30 (Dropout)        (None, 12, 12, 128)       0         \n",
            "                                                                 \n",
            " conv2d_26 (Conv2D)          (None, 12, 12, 256)       295168    \n",
            "                                                                 \n",
            " max_pooling2d_26 (MaxPoolin  (None, 6, 6, 256)        0         \n",
            " g2D)                                                            \n",
            "                                                                 \n",
            " dropout_31 (Dropout)        (None, 6, 6, 256)         0         \n",
            "                                                                 \n",
            " conv2d_27 (Conv2D)          (None, 6, 6, 32)          73760     \n",
            "                                                                 \n",
            " max_pooling2d_27 (MaxPoolin  (None, 3, 3, 32)         0         \n",
            " g2D)                                                            \n",
            "                                                                 \n",
            " flatten_5 (Flatten)         (None, 288)               0         \n",
            "                                                                 \n",
            " dropout_32 (Dropout)        (None, 288)               0         \n",
            "                                                                 \n",
            " dense_10 (Dense)            (None, 256)               73984     \n",
            "                                                                 \n",
            " dropout_33 (Dropout)        (None, 256)               0         \n",
            "                                                                 \n",
            " dense_11 (Dense)            (None, 6)                 1542      \n",
            "                                                                 \n",
            "=================================================================\n",
            "Total params: 538,470\n",
            "Trainable params: 538,086\n",
            "Non-trainable params: 384\n",
            "_________________________________________________________________\n"
          ]
        }
      ]
    },
    {
      "cell_type": "code",
      "source": [
        "# imports for confusion matrix\n",
        "import seaborn as sns\n",
        "import tensorflow as tf\n",
        "from tensorflow import math as tfmath"
      ],
      "metadata": {
        "id": "Ois7qdQlNIfR"
      },
      "execution_count": 60,
      "outputs": []
    },
    {
      "cell_type": "code",
      "source": [
        "# set classes to labels for use in confusion matrix\n",
        "classes = df['adjusted labels'].unique()\n",
        "display(classes)\n",
        "\n",
        "# set set validation and predicted classes for confusion matrix\n",
        "y_true = tf.argmax(y_val, axis=1)\n",
        "y_pred = tf.argmax(model(x_val), axis=1)\n",
        "\n",
        "\n",
        "\n",
        "# create confusion matrix\n",
        "conf_matrix = tf.math.confusion_matrix(y_true, y_pred, num_classes=6)\n",
        "ax = sns.heatmap(conf_matrix, xticklabels=classes, yticklabels=classes)\n",
        "ax.set(xlabel='Predicted Class', ylabel='Actual Class')\n",
        "plt.show()\n",
        "\n",
        "print(conf_matrix)"
      ],
      "metadata": {
        "id": "jcwt60b_Jtc_",
        "colab": {
          "base_uri": "https://localhost:8080/",
          "height": 518
        },
        "outputId": "623ea4e5-6275-498f-a22c-31580d9b0bb4"
      },
      "execution_count": 61,
      "outputs": [
        {
          "output_type": "display_data",
          "data": {
            "text/plain": [
              "array(['healthy', 'scab', 'complex', 'rust', 'frog_eye_leaf_spot',\n",
              "       'powdery_mildew'], dtype=object)"
            ]
          },
          "metadata": {}
        },
        {
          "output_type": "display_data",
          "data": {
            "image/png": "[encoded data removed]",
            "text/plain": [
              "<Figure size 432x288 with 2 Axes>"
            ]
          },
          "metadata": {
            "needs_background": "light"
          }
        },
        {
          "output_type": "stream",
          "name": "stdout",
          "text": [
            "tf.Tensor(\n",
            "[[  0 363   0   0   0   0]\n",
            " [  0 318   0   0   0   0]\n",
            " [  0 368   2   0   0   0]\n",
            " [  0 285   0  78   0   0]\n",
            " [  0 351   0   0   2   0]\n",
            " [  0 365   0   0   0   0]], shape=(6, 6), dtype=int32)\n"
          ]
        }
      ]
    },
    {
      "cell_type": "code",
      "source": [
        "# define data for in confusion matrix\n",
        "y_true = tf.argmax(y_val, axis=1)\n",
        "y_predmodel = model.predict(x_val)\n",
        "y_pred = tf.argmax(y_predmodel, axis = 1)\n",
        "\n",
        "# set labels for confusion matrix\n",
        "labels =  df['adjusted labels'].unique()\n",
        "display(labels)\n",
        "\n",
        "# create and plot matrix\n",
        "mtrx = confusion_matrix(y_true, y_pred)\n",
        "plot_confusion_matrix(conf_mat = mtrx, figsize=(8, 8), class_names=labels, colorbar=True, show_normed = True)"
      ],
      "metadata": {
        "id": "wRrn2C6vNU6q",
        "colab": {
          "base_uri": "https://localhost:8080/",
          "height": 595
        },
        "outputId": "b3a53027-7536-4e40-9326-e9f503ce7910"
      },
      "execution_count": 81,
      "outputs": [
        {
          "output_type": "display_data",
          "data": {
            "text/plain": [
              "array(['healthy', 'scab', 'complex', 'rust', 'frog_eye_leaf_spot',\n",
              "       'powdery_mildew'], dtype=object)"
            ]
          },
          "metadata": {}
        },
        {
          "output_type": "execute_result",
          "data": {
            "text/plain": [
              "(<Figure size 576x576 with 2 Axes>,\n",
              " <matplotlib.axes._subplots.AxesSubplot at 0x7f5f34b8ead0>)"
            ]
          },
          "metadata": {},
          "execution_count": 81
        },
        {
          "output_type": "display_data",
          "data": {
            "image/png": "[encoded data removed]",
            "text/plain": [
              "<Figure size 576x576 with 2 Axes>"
            ]
          },
          "metadata": {
            "needs_background": "light"
          }
        }
      ]
    },
    {
      "cell_type": "code",
      "source": [
        "# define data for in confusion matrix\n",
        "y_true = tf.argmax(y_val, axis =1)\n",
        "\n",
        "# y_predmodel = model.predict_classes(x_val)\n",
        "# y_predcat = tf.keras.utils.to_categorical(y_predmodel)\n",
        "# y_pred = tf.argmax(y_predcat, axis = 1)\n",
        "\n",
        "y_predmodel = model.predict(x_val)\n",
        "y_pred = np.round(y_predmodel).astype(int)\n",
        "\n",
        "display(y_true)\n",
        "display(y_pred)\n",
        "\n"
      ],
      "metadata": {
        "colab": {
          "base_uri": "https://localhost:8080/",
          "height": 156
        },
        "id": "wvynHpdKMsZa",
        "outputId": "2ceeaa1f-5ea4-4041-c888-444831a081ed"
      },
      "execution_count": 32,
      "outputs": [
        {
          "output_type": "display_data",
          "data": {
            "text/plain": [
              "<tf.Tensor: shape=(2132,), dtype=int64, numpy=array([1, 4, 4, ..., 0, 1, 2])>"
            ]
          },
          "metadata": {}
        },
        {
          "output_type": "display_data",
          "data": {
            "text/plain": [
              "array([[0, 1, 0, 0, 0, 0],\n",
              "       [0, 1, 0, 0, 0, 0],\n",
              "       [0, 1, 0, 0, 0, 0],\n",
              "       ...,\n",
              "       [0, 1, 0, 0, 0, 0],\n",
              "       [0, 1, 0, 0, 0, 0],\n",
              "       [0, 1, 0, 0, 0, 0]])"
            ]
          },
          "metadata": {}
        }
      ]
    },
    {
      "cell_type": "code",
      "source": [
        "\n",
        "# set labels for confusion matrix\n",
        "labels =  df['adjusted labels'].unique()\n",
        "display(labels)\n",
        "\n",
        "# create and plot matrix\n",
        "mtrx = confusion_matrix(y_true, y_pred)\n",
        "plot_confusion_matrix(conf_mat = mtrx, figsize=(8, 8), class_names=labels, colorbar=True, show_normed = True)"
      ],
      "metadata": {
        "colab": {
          "base_uri": "https://localhost:8080/",
          "height": 398
        },
        "id": "tuCkxqopNbp0",
        "outputId": "52d6a7d3-dc32-4ba3-f538-d5a7b3c98380"
      },
      "execution_count": 33,
      "outputs": [
        {
          "output_type": "display_data",
          "data": {
            "text/plain": [
              "array(['healthy', 'scab', 'complex', 'rust', 'frog_eye_leaf_spot',\n",
              "       'powdery_mildew'], dtype=object)"
            ]
          },
          "metadata": {}
        },
        {
          "output_type": "error",
          "ename": "ValueError",
          "evalue": "ignored",
          "traceback": [
            "\u001b[0;31m---------------------------------------------------------------------------\u001b[0m",
            "\u001b[0;31mValueError\u001b[0m                                Traceback (most recent call last)",
            "\u001b[0;32m<ipython-input-33-0b0adabb265b>\u001b[0m in \u001b[0;36m<module>\u001b[0;34m()\u001b[0m\n\u001b[1;32m      5\u001b[0m \u001b[0;34m\u001b[0m\u001b[0m\n\u001b[1;32m      6\u001b[0m \u001b[0;31m# create and plot matrix\u001b[0m\u001b[0;34m\u001b[0m\u001b[0;34m\u001b[0m\u001b[0;34m\u001b[0m\u001b[0m\n\u001b[0;32m----> 7\u001b[0;31m \u001b[0mmtrx\u001b[0m \u001b[0;34m=\u001b[0m \u001b[0mconfusion_matrix\u001b[0m\u001b[0;34m(\u001b[0m\u001b[0my_true\u001b[0m\u001b[0;34m,\u001b[0m \u001b[0my_pred\u001b[0m\u001b[0;34m)\u001b[0m\u001b[0;34m\u001b[0m\u001b[0;34m\u001b[0m\u001b[0m\n\u001b[0m\u001b[1;32m      8\u001b[0m \u001b[0mplot_confusion_matrix\u001b[0m\u001b[0;34m(\u001b[0m\u001b[0mconf_mat\u001b[0m \u001b[0;34m=\u001b[0m \u001b[0mmtrx\u001b[0m\u001b[0;34m,\u001b[0m \u001b[0mfigsize\u001b[0m\u001b[0;34m=\u001b[0m\u001b[0;34m(\u001b[0m\u001b[0;36m8\u001b[0m\u001b[0;34m,\u001b[0m \u001b[0;36m8\u001b[0m\u001b[0;34m)\u001b[0m\u001b[0;34m,\u001b[0m \u001b[0mclass_names\u001b[0m\u001b[0;34m=\u001b[0m\u001b[0mlabels\u001b[0m\u001b[0;34m,\u001b[0m \u001b[0mcolorbar\u001b[0m\u001b[0;34m=\u001b[0m\u001b[0;32mTrue\u001b[0m\u001b[0;34m,\u001b[0m \u001b[0mshow_normed\u001b[0m \u001b[0;34m=\u001b[0m \u001b[0;32mTrue\u001b[0m\u001b[0;34m)\u001b[0m\u001b[0;34m\u001b[0m\u001b[0;34m\u001b[0m\u001b[0m\n",
            "\u001b[0;32m/usr/local/lib/python3.7/dist-packages/sklearn/metrics/_classification.py\u001b[0m in \u001b[0;36mconfusion_matrix\u001b[0;34m(y_true, y_pred, labels, sample_weight, normalize)\u001b[0m\n\u001b[1;32m    305\u001b[0m     \u001b[0;34m(\u001b[0m\u001b[0;36m0\u001b[0m\u001b[0;34m,\u001b[0m \u001b[0;36m2\u001b[0m\u001b[0;34m,\u001b[0m \u001b[0;36m1\u001b[0m\u001b[0;34m,\u001b[0m \u001b[0;36m1\u001b[0m\u001b[0;34m)\u001b[0m\u001b[0;34m\u001b[0m\u001b[0;34m\u001b[0m\u001b[0m\n\u001b[1;32m    306\u001b[0m     \"\"\"\n\u001b[0;32m--> 307\u001b[0;31m     \u001b[0my_type\u001b[0m\u001b[0;34m,\u001b[0m \u001b[0my_true\u001b[0m\u001b[0;34m,\u001b[0m \u001b[0my_pred\u001b[0m \u001b[0;34m=\u001b[0m \u001b[0m_check_targets\u001b[0m\u001b[0;34m(\u001b[0m\u001b[0my_true\u001b[0m\u001b[0;34m,\u001b[0m \u001b[0my_pred\u001b[0m\u001b[0;34m)\u001b[0m\u001b[0;34m\u001b[0m\u001b[0;34m\u001b[0m\u001b[0m\n\u001b[0m\u001b[1;32m    308\u001b[0m     \u001b[0;32mif\u001b[0m \u001b[0my_type\u001b[0m \u001b[0;32mnot\u001b[0m \u001b[0;32min\u001b[0m \u001b[0;34m(\u001b[0m\u001b[0;34m\"binary\"\u001b[0m\u001b[0;34m,\u001b[0m \u001b[0;34m\"multiclass\"\u001b[0m\u001b[0;34m)\u001b[0m\u001b[0;34m:\u001b[0m\u001b[0;34m\u001b[0m\u001b[0;34m\u001b[0m\u001b[0m\n\u001b[1;32m    309\u001b[0m         \u001b[0;32mraise\u001b[0m \u001b[0mValueError\u001b[0m\u001b[0;34m(\u001b[0m\u001b[0;34m\"%s is not supported\"\u001b[0m \u001b[0;34m%\u001b[0m \u001b[0my_type\u001b[0m\u001b[0;34m)\u001b[0m\u001b[0;34m\u001b[0m\u001b[0;34m\u001b[0m\u001b[0m\n",
            "\u001b[0;32m/usr/local/lib/python3.7/dist-packages/sklearn/metrics/_classification.py\u001b[0m in \u001b[0;36m_check_targets\u001b[0;34m(y_true, y_pred)\u001b[0m\n\u001b[1;32m     93\u001b[0m         raise ValueError(\n\u001b[1;32m     94\u001b[0m             \"Classification metrics can't handle a mix of {0} and {1} targets\".format(\n\u001b[0;32m---> 95\u001b[0;31m                 \u001b[0mtype_true\u001b[0m\u001b[0;34m,\u001b[0m \u001b[0mtype_pred\u001b[0m\u001b[0;34m\u001b[0m\u001b[0;34m\u001b[0m\u001b[0m\n\u001b[0m\u001b[1;32m     96\u001b[0m             )\n\u001b[1;32m     97\u001b[0m         )\n",
            "\u001b[0;31mValueError\u001b[0m: Classification metrics can't handle a mix of multiclass and multilabel-indicator targets"
          ]
        }
      ]
    }
  ]
}