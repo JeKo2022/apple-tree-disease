{
  "nbformat": 4,
  "nbformat_minor": 0,
  "metadata": {
    "colab": {
      "name": "Milestone3_MLP.ipynb",
      "provenance": [],
      "collapsed_sections": [],
      "include_colab_link": true
    },
    "kernelspec": {
      "name": "python3",
      "display_name": "Python 3"
    },
    "language_info": {
      "name": "python"
    },
    "accelerator": "GPU"
  },
  "cells": [
    {
      "cell_type": "markdown",
      "metadata": {
        "id": "view-in-github",
        "colab_type": "text"
      },
      "source": [
        "<a href=\"https://colab.research.google.com/github/JeLaKo/apple-tree-disease/blob/main/Milestone4b_MLP.ipynb\" target=\"_parent\"><img src=\"https://colab.research.google.com/assets/colab-badge.svg\" alt=\"Open In Colab\"/></a>"
      ]
    },
    {
      "cell_type": "markdown",
      "source": [
        "Loading the data and importing the necessary libraries"
      ],
      "metadata": {
        "id": "TqzOGBFWtYKn"
      }
    },
    {
      "cell_type": "code",
      "execution_count": 1,
      "metadata": {
        "id": "NF6qQ5qUmQI_",
        "colab": {
          "base_uri": "https://localhost:8080/"
        },
        "outputId": "ec36220f-3e34-460f-9390-4bd77d70e4c7"
      },
      "outputs": [
        {
          "output_type": "stream",
          "name": "stdout",
          "text": [
            "Mounted at /content/gdrive\n"
          ]
        }
      ],
      "source": [
        "from google.colab import drive\n",
        "drive.mount(\"/content/gdrive\", force_remount=True)"
      ]
    },
    {
      "cell_type": "code",
      "source": [
        "import os\n",
        "import pandas as pd\n",
        "import cv2\n",
        "import numpy as np\n",
        "import tensorflow as tf\n",
        "from tensorflow import keras\n",
        "from tensorflow.keras import layers\n",
        "from tensorflow import math as tfmath\n",
        "from sklearn.model_selection import train_test_split\n",
        "from sklearn.utils import class_weight\n",
        "import seaborn as sns"
      ],
      "metadata": {
        "id": "ibOekLk5tlko"
      },
      "execution_count": 22,
      "outputs": []
    },
    {
      "cell_type": "code",
      "source": [
        "# import mlxtend package for confusion matrix\n",
        "import mlxtend\n",
        "                                                          \n",
        "print(mlxtend.__version__) \n",
        "\n",
        "! pip install mlxtend --upgrade --no-deps\n",
        "\n",
        "print(mlxtend.__version__) \n",
        "\n",
        "from mlxtend.plotting import plot_confusion_matrix\n",
        "from sklearn.metrics import confusion_matrix\n"
      ],
      "metadata": {
        "colab": {
          "base_uri": "https://localhost:8080/"
        },
        "id": "_dHkG28jM9N9",
        "outputId": "bc873996-1bb6-4eac-f2b1-a3d1e8dc184d"
      },
      "execution_count": 3,
      "outputs": [
        {
          "output_type": "stream",
          "name": "stdout",
          "text": [
            "0.19.0\n",
            "Requirement already satisfied: mlxtend in /usr/local/lib/python3.7/dist-packages (0.19.0)\n",
            "0.19.0\n"
          ]
        }
      ]
    },
    {
      "cell_type": "code",
      "source": [
        "'''\n",
        "Only run the following cells if data needs to be newly downloaded !\n",
        "'''\n",
        "# !pip install -U -q kaggle==1.5.8"
      ],
      "metadata": {
        "id": "ciuScTfXr0VL",
        "colab": {
          "base_uri": "https://localhost:8080/",
          "height": 35
        },
        "outputId": "3fda81dd-d22c-4338-dc43-45dfef7a44b7"
      },
      "execution_count": 4,
      "outputs": [
        {
          "output_type": "execute_result",
          "data": {
            "application/vnd.google.colaboratory.intrinsic+json": {
              "type": "string"
            },
            "text/plain": [
              "'\\nOnly run the following cells if data needs to be newly downloaded !\\n'"
            ]
          },
          "metadata": {},
          "execution_count": 4
        }
      ]
    },
    {
      "cell_type": "code",
      "source": [
        "# %cd /content/gdrive/MyDrive/MLP/"
      ],
      "metadata": {
        "id": "CFd-yrB9XWzT"
      },
      "execution_count": 5,
      "outputs": []
    },
    {
      "cell_type": "code",
      "source": [
        "# os.environ['KAGGLE_CONFIG_DIR'] = \"/content/gdrive/MyDrive/MLP/\"\n",
        "# ! kaggle competitions download -c plant-pathology-2021-fgvc8"
      ],
      "metadata": {
        "id": "XIrQYT90uv5m"
      },
      "execution_count": 6,
      "outputs": []
    },
    {
      "cell_type": "code",
      "source": [
        "# ! mkdir train"
      ],
      "metadata": {
        "id": "CnpAjve8XtVx"
      },
      "execution_count": 7,
      "outputs": []
    },
    {
      "cell_type": "code",
      "source": [
        "# ! unzip -q plant-pathology-2021-fgvc8.zip -d train"
      ],
      "metadata": {
        "id": "4w4s3qRQ3Z6X"
      },
      "execution_count": 8,
      "outputs": []
    },
    {
      "cell_type": "markdown",
      "source": [
        "Data processing\n"
      ],
      "metadata": {
        "id": "v192m162tVHj"
      }
    },
    {
      "cell_type": "code",
      "source": [
        "%cd /content/gdrive/MyDrive/MLP/train/"
      ],
      "metadata": {
        "id": "IesKjmS1cNkU",
        "colab": {
          "base_uri": "https://localhost:8080/"
        },
        "outputId": "1152085e-4600-420f-8669-e908a46058e7"
      },
      "execution_count": 9,
      "outputs": [
        {
          "output_type": "stream",
          "name": "stdout",
          "text": [
            "/content/gdrive/MyDrive/MLP/train\n"
          ]
        }
      ]
    },
    {
      "cell_type": "code",
      "source": [
        "# read training data\n",
        "df = pd.read_csv('train.csv')\n",
        "print(df.head(2))"
      ],
      "metadata": {
        "id": "4oGL6rPetoLs",
        "colab": {
          "base_uri": "https://localhost:8080/"
        },
        "outputId": "e885c781-cb3d-443f-8e9c-89c4138a1159"
      },
      "execution_count": 10,
      "outputs": [
        {
          "output_type": "stream",
          "name": "stdout",
          "text": [
            "                  image                           labels\n",
            "0  800113bb65efe69e.jpg                          healthy\n",
            "1  8002cb321f8bfcdf.jpg  scab frog_eye_leaf_spot complex\n"
          ]
        }
      ]
    },
    {
      "cell_type": "code",
      "source": [
        "# remove all combined classes from dataset\n",
        "df = df.set_index('labels')\n",
        "df = df.drop('scab frog_eye_leaf_spot complex', axis = 0)\n",
        "df = df.drop('scab frog_eye_leaf_spot', axis = 0)\n",
        "df = df.drop('frog_eye_leaf_spot complex', axis = 0)\n",
        "df = df.drop('powdery_mildew complex', axis = 0)\n",
        "df = df.drop('rust complex', axis = 0)\n",
        "df = df.drop('rust frog_eye_leaf_spot', axis = 0)\n",
        "df = df.drop('complex', axis = 0)\n",
        "df = df.reset_index()\n",
        "print(df.head())\n",
        "\n",
        "new_labels = df['labels'].to_list()\n",
        "df['adjusted labels'] = np.array(new_labels)\n",
        "df = df.drop('labels', axis = 1)"
      ],
      "metadata": {
        "id": "wG1eHin2j2Nu",
        "colab": {
          "base_uri": "https://localhost:8080/"
        },
        "outputId": "d0ae9b0c-9d93-4e7d-c04f-4b786704072a"
      },
      "execution_count": 11,
      "outputs": [
        {
          "output_type": "stream",
          "name": "stdout",
          "text": [
            "    labels                 image\n",
            "0  healthy  800113bb65efe69e.jpg\n",
            "1     scab  80070f7fb5e2ccaa.jpg\n",
            "2     scab  80077517781fb94f.jpg\n",
            "3  healthy  800edef467d27c15.jpg\n",
            "4     rust  800f85dc5f407aef.jpg\n"
          ]
        }
      ]
    },
    {
      "cell_type": "code",
      "source": [
        "def one_hot(df):\n",
        "  \"\"\"\n",
        "  This function returns all classes and combination of classes found in the input-dataframe, and returns\n",
        "  the one-hot encoded version\n",
        "  \"\"\"\n",
        "  one_hot = pd.get_dummies(df['adjusted labels'])\n",
        "  df = df.drop('adjusted labels', axis = 1)\n",
        "  df = df.join(one_hot)\n",
        "  return df\n",
        "\n",
        "def sample(df, sample_size):\n",
        "  \"\"\"\n",
        "  This function gets an equal sample inclusive of all classes from the input dataframe\n",
        "  \"\"\"\n",
        "  df_sampled = []\n",
        "  classes = df['adjusted labels'].unique()\n",
        "\n",
        "  for i in classes:\n",
        "      g = df[df['adjusted labels'] == i].sample(sample_size)\n",
        "      df_sampled.append(g)\n",
        "\n",
        "  df_sampled = pd.concat(df_sampled)\n",
        "  return df_sampled"
      ],
      "metadata": {
        "id": "6Wh0KDFsuTER"
      },
      "execution_count": 14,
      "outputs": []
    },
    {
      "cell_type": "code",
      "source": [
        "'''\n",
        "Run this cell if network is trained using all of the data !\n",
        "'''\n",
        "# df_onehot = one_hot(df)\n",
        "# print(df_onehot.head(2))"
      ],
      "metadata": {
        "id": "c2jRKcu2pXVU",
        "colab": {
          "base_uri": "https://localhost:8080/",
          "height": 35
        },
        "outputId": "d97660df-a111-4cb4-d874-b74bbf9195cc"
      },
      "execution_count": 15,
      "outputs": [
        {
          "output_type": "execute_result",
          "data": {
            "application/vnd.google.colaboratory.intrinsic+json": {
              "type": "string"
            },
            "text/plain": [
              "'\\nRun this cell if network is trained using all of the data !\\n'"
            ]
          },
          "metadata": {},
          "execution_count": 15
        }
      ]
    },
    {
      "cell_type": "code",
      "source": [
        "'''\n",
        "Run this cell if network is trained with only a sample !\n",
        "'''\n",
        "# select sample from dataframe\n",
        "df_sampled = sample(df, 1184)\n",
        "print(df_sampled.head(2))\n",
        "\n",
        "# convert labels within dataframe to one-hot encoded classes\n",
        "df_onehot = one_hot(df_sampled)\n",
        "print(df_onehot.head(2))"
      ],
      "metadata": {
        "id": "Zh7Rr6dNzlMN",
        "colab": {
          "base_uri": "https://localhost:8080/"
        },
        "outputId": "f1f55096-d4eb-4788-a393-9ad40b268117"
      },
      "execution_count": 16,
      "outputs": [
        {
          "output_type": "stream",
          "name": "stdout",
          "text": [
            "                      image adjusted labels\n",
            "12452  e871c3ced550aaaa.jpg         healthy\n",
            "3612   a1d196b94b8f6d60.jpg         healthy\n",
            "                      image  frog_eye_leaf_spot  ...  rust  scab\n",
            "12452  e871c3ced550aaaa.jpg                   0  ...     0     0\n",
            "3612   a1d196b94b8f6d60.jpg                   0  ...     0     0\n",
            "\n",
            "[2 rows x 6 columns]\n"
          ]
        }
      ]
    },
    {
      "cell_type": "markdown",
      "source": [
        "Image-data processing"
      ],
      "metadata": {
        "id": "R3ibsTmfcdxp"
      }
    },
    {
      "cell_type": "code",
      "source": [
        "'''\n",
        "Only run this cell if images need resizing !\n",
        "'''\n",
        "# # create new directory\n",
        "# ! mkdir resized_train_images\n",
        "\n",
        "# # gather names of all images in the image-directory\n",
        "# train_images = os.listdir('train_images/')\n",
        "\n",
        "# # resize all images and save it to a new directory \n",
        "# for image in train_images:\n",
        "#   img = cv2.imread('train_images/' + image)\n",
        "#   resized_img = cv2.resize(img, (96, 96)) \n",
        "#   cv2.imwrite('resized_train_images/' + image, resized_img)\n"
      ],
      "metadata": {
        "id": "4jts4lwY0YS9"
      },
      "execution_count": null,
      "outputs": []
    },
    {
      "cell_type": "code",
      "source": [
        "# convert dataframe to a hashable list; dictionary\n",
        "df_dict = df_onehot.set_index('image').T.to_dict('list')\n",
        "\n",
        "# gather names of all images in the resized directory\n",
        "resized_images = os.listdir('resized_train_images/')\n",
        "\n",
        "images = []\n",
        "# find corresponding image from the resized directory to the selected sample found\n",
        "# in dictionary and add that to a list\n",
        "for image in df_dict.keys():\n",
        "  if image in resized_images:\n",
        "    img_resized = cv2.imread('resized_train_images/' + image) \n",
        "    images.append(img_resized)"
      ],
      "metadata": {
        "id": "ksV1F9z-I7xn"
      },
      "execution_count": 17,
      "outputs": []
    },
    {
      "cell_type": "code",
      "source": [
        "# convert image list to array\n",
        "images = np.array(images)\n",
        "\n",
        "# convert dictionary values to array\n",
        "labels = np.array(list(df_dict.values()))\n",
        "\n",
        "# split data\n",
        "x_train, x_val, y_train, y_val = train_test_split(images, labels, test_size = 0.3, random_state=42)"
      ],
      "metadata": {
        "id": "o4A7xjIFAwyb"
      },
      "execution_count": 18,
      "outputs": []
    },
    {
      "cell_type": "markdown",
      "source": [
        "Building and training the network"
      ],
      "metadata": {
        "id": "2Zhu6lDvWjq5"
      }
    },
    {
      "cell_type": "code",
      "source": [
        "import matplotlib.pyplot as plt\n",
        "\n",
        "from tensorflow.keras import layers, models, preprocessing\n",
        "\n",
        "def train_and_evaluate(model, train_x, train_y, val_x, val_y, preprocess={}, epochs=20, augment={}, class_weight = {}):\n",
        "\n",
        "    # optimizer = keras.optimizers.Adam(lr = 0.01)\n",
        "    model.compile(loss='categorical_crossentropy', optimizer= 'adam', metrics=['accuracy'])\n",
        "\n",
        "    train_gen = preprocessing.image.ImageDataGenerator(**preprocess, **augment)\n",
        "    train_gen.fit(train_x) \n",
        "\n",
        "    val_gen = preprocessing.image.ImageDataGenerator(**preprocess)\n",
        "    val_gen.fit(train_x)\n",
        "\n",
        "    history = model.fit(train_gen.flow(train_x, train_y), epochs=epochs, \n",
        "                        validation_data=val_gen.flow(val_x, val_y), class_weight = class_weight)\n",
        "\n",
        "    fig, axs = plt.subplots(1,2,figsize=(20,5)) \n",
        "\n",
        "    for i, metric in enumerate(['loss', 'accuracy']):\n",
        "        axs[i].plot(history.history[metric])\n",
        "        axs[i].plot(history.history['val_'+metric])\n",
        "        axs[i].legend(['training', 'validation'], loc='best')\n",
        "\n",
        "        axs[i].set_title('Model '+metric)\n",
        "        axs[i].set_ylabel(metric)\n",
        "        axs[i].set_xlabel('epoch')\n",
        "\n",
        "    plt.show()\n",
        "\n",
        "    print(f\"Validation Accuracy: {model.evaluate(val_gen.flow(val_x, val_y))[1]}\")"
      ],
      "metadata": {
        "id": "2uvdJ8Yh3W7g"
      },
      "execution_count": 36,
      "outputs": []
    },
    {
      "cell_type": "code",
      "source": [
        "# compute class-weights for inbalanced data\n",
        "y_integers = np.argmax(y_train, axis=1)\n",
        "class_weights = class_weight.compute_class_weight(class_weight = 'balanced', classes = np.unique(y_integers), y = y_integers)\n",
        "class_weight = dict(enumerate(class_weights))"
      ],
      "metadata": {
        "id": "7O9g12ud2Yjh"
      },
      "execution_count": 48,
      "outputs": []
    },
    {
      "cell_type": "code",
      "source": [
        "# ML MODEL ARCHITECTURE\n",
        "# Define Sequential model\n",
        "model = models.Sequential()\n",
        "\n",
        "# create convolutional layer and max pooling layer\n",
        "model.add(layers.Conv2D(32, (3, 3), activation=tf.keras.layers.LeakyReLU(alpha=0.5), padding='same', input_shape=(96, 96, 3)))\n",
        "model.add(layers.MaxPooling2D((2, 2)))\n",
        "\n",
        "# create convolutional layer (larger) and max pooling layer\n",
        "model.add(tf.keras.layers.Dropout(0.5))\n",
        "model.add(layers.Conv2D(64, (3, 3), activation=tf.keras.layers.LeakyReLU(alpha=0.5), padding='same'))\n",
        "model.add(layers.MaxPooling2D((2, 2)))\n",
        "model.add(tf.keras.layers.BatchNormalization())\n",
        "\n",
        "# add Conv2D layer with 128 filters and max pooling layer\n",
        "model.add(tf.keras.layers.Dropout(0.5))\n",
        "model.add(layers.Conv2D(128, (3, 3), activation=tf.keras.layers.LeakyReLU(alpha=0.5), padding='same'))\n",
        "model.add(layers.MaxPooling2D((2, 2)))\n",
        "model.add(tf.keras.layers.BatchNormalization())\n",
        "\n",
        "# add Conv2D layer with 256 filters and max pooling layer\n",
        "model.add(tf.keras.layers.Dropout(0.5))\n",
        "model.add(layers.Conv2D(256, (3, 3), activation=tf.keras.layers.LeakyReLU(alpha=0.5), padding='same'))\n",
        "model.add(layers.MaxPooling2D((2, 2)))\n",
        "\n",
        "# add Conv2D layer with 32 filters and max pooling layer\n",
        "model.add(tf.keras.layers.Dropout(0.5))\n",
        "model.add(layers.Conv2D(32, (3, 3), activation=tf.keras.layers.LeakyReLU(alpha=0.5), padding='same'))\n",
        "model.add(layers.MaxPooling2D((2, 2)))\n",
        "\n",
        "# flatten layers\n",
        "model.add(layers.Flatten())\n",
        "model.add(tf.keras.layers.Dropout(0.2))\n",
        "model.add(layers.Dense(256, activation=tf.keras.layers.LeakyReLU(alpha=0.5)))\n",
        "\n",
        "# apply softmax activation for final layer classification\n",
        "model.add(tf.keras.layers.Dropout(0.2))\n",
        "model.add(layers.Dense(5, activation='softmax'))\n",
        "\n",
        "# normalize input data: set preprocesing dictionary\n",
        "preprocess = {'featurewise_center': True, 'featurewise_std_normalization' : True}\n",
        "\n",
        "# augment data: set augmentation dictionary\n",
        "augment = {'horizontal_flip': True, \n",
        "           'vertical_flip': True, \n",
        "           'rotation_range': 20, \n",
        "           'width_shift_range': 0.1, \n",
        "           'height_shift_range': 0.1, \n",
        "           'zoom_range': [0,1.5], \n",
        "           'brightness_range': [0,1.5],\n",
        "           'channel_shift_range' : 0.9,\n",
        "           'shear_range' : 0.9}\n",
        "\n",
        "# run training and evaluation function\n",
        "train_and_evaluate(model, x_train, y_train, x_val, y_val, preprocess, epochs = 80, augment = augment, class_weight = class_weight)\n"
      ],
      "metadata": {
        "id": "ULlZim8l2zKg",
        "colab": {
          "base_uri": "https://localhost:8080/"
        },
        "outputId": "fab063d4-f4b0-4656-d609-9e9e677c6101"
      },
      "execution_count": null,
      "outputs": [
        {
          "output_type": "stream",
          "name": "stdout",
          "text": [
            "Epoch 1/80\n",
            "130/130 [==============================] - 20s 134ms/step - loss: 2.2696 - accuracy: 0.2370 - val_loss: 1.4935 - val_accuracy: 0.3508\n",
            "Epoch 2/80\n",
            "130/130 [==============================] - 17s 133ms/step - loss: 1.8194 - accuracy: 0.2734 - val_loss: 1.4541 - val_accuracy: 0.3412\n",
            "Epoch 3/80\n",
            "130/130 [==============================] - 18s 135ms/step - loss: 1.7585 - accuracy: 0.2679 - val_loss: 1.4452 - val_accuracy: 0.3682\n",
            "Epoch 4/80\n",
            "130/130 [==============================] - 18s 140ms/step - loss: 1.6742 - accuracy: 0.2862 - val_loss: 1.4717 - val_accuracy: 0.2967\n",
            "Epoch 5/80\n",
            "130/130 [==============================] - 17s 132ms/step - loss: 1.6315 - accuracy: 0.2942 - val_loss: 1.5063 - val_accuracy: 0.3688\n",
            "Epoch 6/80\n",
            "130/130 [==============================] - 18s 135ms/step - loss: 1.5943 - accuracy: 0.3002 - val_loss: 1.4065 - val_accuracy: 0.4116\n",
            "Epoch 7/80\n",
            "130/130 [==============================] - 17s 133ms/step - loss: 1.5714 - accuracy: 0.3019 - val_loss: 1.3534 - val_accuracy: 0.4026\n",
            "Epoch 8/80\n",
            "130/130 [==============================] - 17s 134ms/step - loss: 1.5740 - accuracy: 0.3091 - val_loss: 1.3836 - val_accuracy: 0.3986\n",
            "Epoch 9/80\n",
            "130/130 [==============================] - 19s 147ms/step - loss: 1.5304 - accuracy: 0.3152 - val_loss: 1.3545 - val_accuracy: 0.4105\n",
            "Epoch 10/80\n",
            "130/130 [==============================] - 25s 191ms/step - loss: 1.5164 - accuracy: 0.3214 - val_loss: 1.4057 - val_accuracy: 0.3694\n",
            "Epoch 11/80\n",
            "130/130 [==============================] - 18s 135ms/step - loss: 1.5110 - accuracy: 0.3308 - val_loss: 1.5619 - val_accuracy: 0.3423\n",
            "Epoch 12/80\n",
            "130/130 [==============================] - 18s 135ms/step - loss: 1.4764 - accuracy: 0.3533 - val_loss: 1.4764 - val_accuracy: 0.3818\n",
            "Epoch 13/80\n",
            "130/130 [==============================] - 17s 133ms/step - loss: 1.4681 - accuracy: 0.3557 - val_loss: 1.3597 - val_accuracy: 0.4116\n",
            "Epoch 14/80\n",
            "130/130 [==============================] - 17s 132ms/step - loss: 1.4739 - accuracy: 0.3489 - val_loss: 1.2832 - val_accuracy: 0.4279\n",
            "Epoch 15/80\n",
            "130/130 [==============================] - 17s 132ms/step - loss: 1.4522 - accuracy: 0.3518 - val_loss: 1.3790 - val_accuracy: 0.4003\n",
            "Epoch 16/80\n",
            "130/130 [==============================] - 18s 139ms/step - loss: 1.4429 - accuracy: 0.3612 - val_loss: 1.2547 - val_accuracy: 0.4628\n",
            "Epoch 17/80\n",
            "130/130 [==============================] - 17s 134ms/step - loss: 1.4335 - accuracy: 0.3779 - val_loss: 1.3014 - val_accuracy: 0.4336\n",
            "Epoch 18/80\n",
            "130/130 [==============================] - 17s 132ms/step - loss: 1.4111 - accuracy: 0.3875 - val_loss: 1.6413 - val_accuracy: 0.3834\n",
            "Epoch 19/80\n",
            "130/130 [==============================] - 18s 137ms/step - loss: 1.4258 - accuracy: 0.3709 - val_loss: 1.4208 - val_accuracy: 0.3885\n",
            "Epoch 20/80\n",
            "130/130 [==============================] - 18s 135ms/step - loss: 1.4211 - accuracy: 0.3909 - val_loss: 1.3052 - val_accuracy: 0.4358\n",
            "Epoch 21/80\n",
            "130/130 [==============================] - 18s 139ms/step - loss: 1.3895 - accuracy: 0.4059 - val_loss: 1.1878 - val_accuracy: 0.4870\n",
            "Epoch 22/80\n",
            "130/130 [==============================] - 17s 134ms/step - loss: 1.3825 - accuracy: 0.4122 - val_loss: 1.2269 - val_accuracy: 0.4887\n",
            "Epoch 23/80\n",
            "130/130 [==============================] - 17s 133ms/step - loss: 1.3810 - accuracy: 0.4112 - val_loss: 1.2522 - val_accuracy: 0.4690\n",
            "Epoch 24/80\n",
            "130/130 [==============================] - 17s 131ms/step - loss: 1.3693 - accuracy: 0.4100 - val_loss: 1.3560 - val_accuracy: 0.4414\n",
            "Epoch 25/80\n",
            "130/130 [==============================] - 18s 138ms/step - loss: 1.3675 - accuracy: 0.4100 - val_loss: 1.1063 - val_accuracy: 0.5045\n",
            "Epoch 26/80\n",
            "130/130 [==============================] - 17s 133ms/step - loss: 1.3784 - accuracy: 0.4047 - val_loss: 1.1857 - val_accuracy: 0.5045\n",
            "Epoch 27/80\n",
            "130/130 [==============================] - 18s 136ms/step - loss: 1.3673 - accuracy: 0.4117 - val_loss: 1.2780 - val_accuracy: 0.4465\n",
            "Epoch 28/80\n",
            "130/130 [==============================] - 17s 132ms/step - loss: 1.3601 - accuracy: 0.4218 - val_loss: 1.0860 - val_accuracy: 0.5360\n",
            "Epoch 29/80\n",
            "130/130 [==============================] - 17s 134ms/step - loss: 1.3529 - accuracy: 0.4218 - val_loss: 1.1608 - val_accuracy: 0.4916\n",
            "Epoch 30/80\n",
            "130/130 [==============================] - 17s 132ms/step - loss: 1.3534 - accuracy: 0.4192 - val_loss: 1.1552 - val_accuracy: 0.5265\n",
            "Epoch 31/80\n",
            "130/130 [==============================] - 17s 134ms/step - loss: 1.3155 - accuracy: 0.4633 - val_loss: 1.1554 - val_accuracy: 0.5591\n",
            "Epoch 32/80\n",
            "130/130 [==============================] - 19s 144ms/step - loss: 1.3339 - accuracy: 0.4455 - val_loss: 1.0802 - val_accuracy: 0.5484\n",
            "Epoch 33/80\n",
            " 18/130 [===>..........................] - ETA: 22s - loss: 1.3234 - accuracy: 0.4393"
          ]
        }
      ]
    },
    {
      "cell_type": "code",
      "source": [
        "model.summary()"
      ],
      "metadata": {
        "id": "aEjUnYrJ6u2O"
      },
      "execution_count": null,
      "outputs": []
    },
    {
      "cell_type": "markdown",
      "source": [
        "Confusion Matrix"
      ],
      "metadata": {
        "id": "lvYNMVddWur6"
      }
    },
    {
      "cell_type": "code",
      "source": [
        "# select classes\n",
        "classes = df['adjusted labels'].unique()\n",
        "display(classes)\n",
        "\n",
        "# gather actual and predicted classes\n",
        "y_true = tf.argmax(y_val, axis=1)\n",
        "y_pred = tf.argmax(model.predict(x_val), axis = 1)\n",
        "\n",
        "# plot confusion matrix 1\n",
        "conf_matrix = tfmath.confusion_matrix(y_true, y_pred, num_classes = 5)\n",
        "\n",
        "ax = sns.heatmap(conf_matrix, xticklabels=classes, yticklabels=classes)\n",
        "ax.set(xlabel='Predicted Class', ylabel='Actual Class')\n",
        "plt.show()\n",
        "\n",
        "print(conf_matrix)"
      ],
      "metadata": {
        "id": "jcwt60b_Jtc_",
        "colab": {
          "base_uri": "https://localhost:8080/",
          "height": 501
        },
        "outputId": "e1144784-ee61-4c8b-b945-9365147da507"
      },
      "execution_count": 32,
      "outputs": [
        {
          "output_type": "display_data",
          "data": {
            "text/plain": [
              "array(['healthy', 'scab', 'rust', 'frog_eye_leaf_spot', 'powdery_mildew'],\n",
              "      dtype=object)"
            ]
          },
          "metadata": {}
        },
        {
          "output_type": "display_data",
          "data": {
            "image/png": "[encoded data removed]",
            "text/plain": [
              "<Figure size 432x288 with 2 Axes>"
            ]
          },
          "metadata": {
            "needs_background": "light"
          }
        },
        {
          "output_type": "stream",
          "name": "stdout",
          "text": [
            "tf.Tensor(\n",
            "[[  2   0   0   1 353]\n",
            " [  1   0   0   0 382]\n",
            " [  0   0   0   0 340]\n",
            " [  3   0   0   0 344]\n",
            " [  3   0   0   0 347]], shape=(5, 5), dtype=int32)\n"
          ]
        }
      ]
    },
    {
      "cell_type": "code",
      "source": [
        "# plot confusion matrix 2\n",
        "mtrx = confusion_matrix(y_true, y_pred)\n",
        "plot_confusion_matrix(conf_mat = mtrx, figsize=(8, 8), class_names=classes, colorbar=True, show_normed = True)"
      ],
      "metadata": {
        "id": "wRrn2C6vNU6q"
      },
      "execution_count": null,
      "outputs": []
    },
    {
      "cell_type": "code",
      "source": [
        "# # VGG-16 model\n",
        "\n",
        "# # Define Sequential model\n",
        "# modelVGG_16 = models.Sequential()\n",
        "\n",
        "# # create convolutional layers and max pooling layer\n",
        "# modelVGG_16.add(layers.Conv2D(filters=64, kernel_size=(3,3), padding=\"same\", activation=\"relu\",input_shape=(96, 96, 3)))\n",
        "# modelVGG_16.add(layers.Conv2D(filters=64, kernel_size=(3,3), padding=\"same\", activation=\"relu\"))\n",
        "# modelVGG_16.add(layers.MaxPooling2D((2, 2)))\n",
        "\n",
        "# # create convolutional layers and max pooling layer\n",
        "# modelVGG_16.add(layers.Conv2D(filters=128, kernel_size=(3,3), padding=\"same\", activation=\"relu\"))\n",
        "# modelVGG_16.add(layers.Conv2D(filters=128, kernel_size=(3,3), padding=\"same\", activation=\"relu\"))\n",
        "# modelVGG_16.add(layers.MaxPooling2D((2, 2)))\n",
        "\n",
        "# # create convolutional layers and max pooling layer\n",
        "# modelVGG_16.add(layers.Conv2D(filters=256, kernel_size=(3,3), padding=\"same\", activation=\"relu\"))\n",
        "# modelVGG_16.add(layers.Conv2D(filters=256, kernel_size=(3,3), padding=\"same\", activation=\"relu\"))\n",
        "# modelVGG_16.add(layers.MaxPooling2D((2, 2)))\n",
        "\n",
        "# # create convolutional layers and max pooling layer\n",
        "# modelVGG_16.add(layers.Conv2D(filters=512, kernel_size=(3,3), padding=\"same\", activation=\"relu\"))\n",
        "# modelVGG_16.add(layers.Conv2D(filters=512, kernel_size=(3,3), padding=\"same\", activation=\"relu\"))\n",
        "# modelVGG_16.add(layers.Conv2D(filters=512, kernel_size=(3,3), padding=\"same\", activation=\"relu\"))\n",
        "# modelVGG_16.add(layers.MaxPooling2D((2, 2)))\n",
        "\n",
        "# # # create convolutional layers and max pooling layer\n",
        "# # modelVGG_16.add(layers.Conv2D(filters=512, kernel_size=(3,3), padding=\"same\", activation=\"relu\"))\n",
        "# # modelVGG_16.add(layers.Conv2D(filters=512, kernel_size=(3,3), padding=\"same\", activation=\"relu\"))\n",
        "# # modelVGG_16.add(layers.Conv2D(filters=512, kernel_size=(3,3), padding=\"same\", activation=\"relu\"))\n",
        "# # modelVGG_16.add(layers.MaxPooling2D((2, 2)))\n",
        "\n",
        "# # flatten layer\n",
        "# modelVGG_16.add(layers.Flatten())\n",
        "# modelVGG_16.add(layers.Dense(4096, activation=\"relu\"))\n",
        "# modelVGG_16.add(tf.keras.layers.Dropout(0.5))\n",
        "# modelVGG_16.add(layers.Dense(4096, activation=\"relu\"))\n",
        "# modelVGG_16.add(tf.keras.layers.Dropout(0.5))\n",
        "\n",
        "# # predict\n",
        "# modelVGG_16.add(layers.Dense(6, activation='softmax'))\n",
        "\n",
        "# # normalize input data: set preprocesing dictionary\n",
        "# preprocess = {'featurewise_center': True, 'featurewise_std_normalization' : True}\n",
        "\n",
        "# # augment data: set augmentation dictionary\n",
        "# augment = {'horizontal_flip': True, \n",
        "#            'vertical_flip': True, \n",
        "#            'rotation_range': 20, \n",
        "#            'width_shift_range': 0.1, \n",
        "#            'height_shift_range': 0.1, \n",
        "#            'zoom_range': [0,1.5], \n",
        "#            'brightness_range': [0,1.5],\n",
        "#            'channel_shift_range' : 0.9,\n",
        "#            'shear_range' : 0.9}\n",
        "\n",
        "# # run training and evaluation function\n",
        "# train_and_evaluate(modelVGG_16, x_train, y_train, x_val, y_val, preprocess, epochs = 80, augment = augment)"
      ],
      "metadata": {
        "id": "Bdg6-4hpLkIu"
      },
      "execution_count": null,
      "outputs": []
    },
    {
      "cell_type": "code",
      "source": [
        "# modelVGG_16.summary()"
      ],
      "metadata": {
        "id": "guoUhcmEVwvp"
      },
      "execution_count": null,
      "outputs": []
    }
  ]
}