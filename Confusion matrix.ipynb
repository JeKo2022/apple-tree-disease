{
 "cells": [
  {
   "cell_type": "code",
   "execution_count": null,
   "id": "2398544e",
   "metadata": {},
   "outputs": [],
   "source": [
    "import tensorflow as tf\n",
    "import seaborn as sns\n",
    "from tensorflow import math as tfmath\n",
    "\n",
    "x_test_flat = x_test.reshape(val_x.shape[0], image_size)\n",
    "\n",
    "y_true = tf.argmax(val_y, axis=1)\n",
    "y_pred = tf.argmax(model(x_test_flat), axis=1)\n",
    "\n",
    "conf_matrix = tfmath.confusion_matrix(y_true, y_pred, num_classes = num_classes)\n",
    "\n",
    "ax = sns.heatmap(conf_matrix, xticklabels = classes, yticklabels = classes)\n",
    "ax.set(xlabel='Predicted Class', ylabel='Actual Class')\n",
    "plt.show()\n",
    "\n",
    "print(conf_matrix)\n"
   ]
  }
 ],
 "metadata": {
  "kernelspec": {
   "display_name": "Python 3 (ipykernel)",
   "language": "python",
   "name": "python3"
  },
  "language_info": {
   "codemirror_mode": {
    "name": "ipython",
    "version": 3
   },
   "file_extension": ".py",
   "mimetype": "text/x-python",
   "name": "python",
   "nbconvert_exporter": "python",
   "pygments_lexer": "ipython3",
   "version": "3.7.11"
  }
 },
 "nbformat": 4,
 "nbformat_minor": 5
}
