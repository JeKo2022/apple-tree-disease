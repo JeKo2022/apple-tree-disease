{
  "nbformat": 4,
  "nbformat_minor": 0,
  "metadata": {
    "colab": {
      "name": "MLP.ipynb",
      "provenance": [],
      "collapsed_sections": [],
      "include_colab_link": true
    },
    "kernelspec": {
      "name": "python3",
      "display_name": "Python 3"
    },
    "language_info": {
      "name": "python"
    },
    "accelerator": "GPU"
  },
  "cells": [
    {
      "cell_type": "markdown",
      "metadata": {
        "id": "view-in-github",
        "colab_type": "text"
      },
      "source": [
        "<a href=\"https://colab.research.google.com/github/JeLaKo/apple-tree-disease/blob/main/MLP.ipynb\" target=\"_parent\"><img src=\"https://colab.research.google.com/assets/colab-badge.svg\" alt=\"Open In Colab\"/></a>"
      ]
    },
    {
      "cell_type": "markdown",
      "source": [
        "Loading the data directly through Kaggle's API"
      ],
      "metadata": {
        "id": "TqzOGBFWtYKn"
      }
    },
    {
      "cell_type": "code",
      "execution_count": 134,
      "metadata": {
        "id": "NF6qQ5qUmQI_",
        "colab": {
          "base_uri": "https://localhost:8080/"
        },
        "outputId": "bddcb3e8-f620-424f-f535-e10990f6c8cd"
      },
      "outputs": [
        {
          "output_type": "stream",
          "name": "stdout",
          "text": [
            "Mounted at /content/gdrive\n"
          ]
        }
      ],
      "source": [
        "from google.colab import drive\n",
        "drive.mount(\"/content/gdrive\", force_remount=True)"
      ]
    },
    {
      "cell_type": "code",
      "source": [
        "!pip install -U -q kaggle==1.5.8"
      ],
      "metadata": {
        "id": "ciuScTfXr0VL",
        "colab": {
          "base_uri": "https://localhost:8080/"
        },
        "outputId": "9a1dd9ec-d847-4ea2-cf41-3780730f5d09"
      },
      "execution_count": 136,
      "outputs": [
        {
          "output_type": "stream",
          "name": "stdout",
          "text": [
            "shell-init: error retrieving current directory: getcwd: cannot access parent directories: Transport endpoint is not connected\n",
            "shell-init: error retrieving current directory: getcwd: cannot access parent directories: Transport endpoint is not connected\n",
            "The folder you are executing pip from can no longer be found.\n"
          ]
        }
      ]
    },
    {
      "cell_type": "code",
      "source": [
        "%cd /content/gdrive/MyDrive/MLP/"
      ],
      "metadata": {
        "colab": {
          "base_uri": "https://localhost:8080/"
        },
        "id": "Lm1ktmfxsmpm",
        "outputId": "ac6c1340-5fc9-4c3d-94e2-a1c013a8f0e2"
      },
      "execution_count": 2,
      "outputs": [
        {
          "output_type": "stream",
          "name": "stdout",
          "text": [
            "/content/gdrive/MyDrive/MLP\n"
          ]
        }
      ]
    },
    {
      "cell_type": "code",
      "source": [
        "import os\n",
        "os.environ['KAGGLE_CONFIG_DIR'] = \"/content/gdrive/MyDrive/MLP/\"\n",
        "! kaggle competitions download -c plant-pathology-2021-fgvc8"
      ],
      "metadata": {
        "colab": {
          "base_uri": "https://localhost:8080/"
        },
        "id": "O-H80pCbsuzS",
        "outputId": "c8e54759-bf02-44b7-8f2f-94e808595c3a"
      },
      "execution_count": 3,
      "outputs": [
        {
          "output_type": "stream",
          "name": "stdout",
          "text": [
            "Warning: Looks like you're using an outdated API Version, please consider updating (server 1.5.12 / client 1.5.4)\n",
            "Downloading 802291cee9fec9f4.jpg to /content/gdrive/My Drive/MLP\n",
            "  0% 0.00/888k [00:00<?, ?B/s]\n",
            "100% 888k/888k [00:00<00:00, 29.4MB/s]\n",
            "Downloading 80230a9a3f7a9f6b.jpg to /content/gdrive/My Drive/MLP\n",
            "  0% 0.00/964k [00:00<?, ?B/s]\n",
            "100% 964k/964k [00:00<00:00, 63.7MB/s]\n",
            "Downloading 80261f473eafb92c.jpg to /content/gdrive/My Drive/MLP\n",
            "  0% 0.00/991k [00:00<?, ?B/s]\n",
            "100% 991k/991k [00:00<00:00, 64.4MB/s]\n",
            "Downloading 8021b94d437eb7d3.jpg.zip to /content/gdrive/My Drive/MLP\n",
            "  0% 0.00/1.18M [00:00<?, ?B/s]\n",
            "100% 1.18M/1.18M [00:00<00:00, 65.0MB/s]\n",
            "Downloading 802b34badefa2ed0.jpg.zip to /content/gdrive/My Drive/MLP\n",
            "  0% 0.00/1.15M [00:00<?, ?B/s]\n",
            "100% 1.15M/1.15M [00:00<00:00, 64.1MB/s]\n",
            "Downloading 802f4bbd295063fe.jpg to /content/gdrive/My Drive/MLP\n",
            "  0% 0.00/846k [00:00<?, ?B/s]\n",
            "100% 846k/846k [00:00<00:00, 56.6MB/s]\n",
            "Downloading 802b59956a7aa5e7.jpg.zip to /content/gdrive/My Drive/MLP\n",
            "  0% 0.00/1.14M [00:00<?, ?B/s]\n",
            "100% 1.14M/1.14M [00:00<00:00, 77.7MB/s]\n",
            "Downloading 801d6dcd96e48ebc.jpg to /content/gdrive/My Drive/MLP\n",
            "  0% 0.00/685k [00:00<?, ?B/s]\n",
            "100% 685k/685k [00:00<00:00, 93.6MB/s]\n",
            "Downloading 800edef467d27c15.jpg.zip to /content/gdrive/My Drive/MLP\n",
            "  0% 0.00/1.04M [00:00<?, ?B/s]\n",
            "100% 1.04M/1.04M [00:00<00:00, 70.7MB/s]\n",
            "Downloading 800f85dc5f407aef.jpg to /content/gdrive/My Drive/MLP\n",
            "  0% 0.00/238k [00:00<?, ?B/s]\n",
            "100% 238k/238k [00:00<00:00, 33.8MB/s]\n",
            "Downloading 800cbf0ff87721f8.jpg to /content/gdrive/My Drive/MLP\n",
            "  0% 0.00/924k [00:00<?, ?B/s]\n",
            "100% 924k/924k [00:00<00:00, 61.6MB/s]\n",
            "Downloading 8002cb321f8bfcdf.jpg to /content/gdrive/My Drive/MLP\n",
            "  0% 0.00/890k [00:00<?, ?B/s]\n",
            "100% 890k/890k [00:00<00:00, 59.2MB/s]\n",
            "Downloading 801f78399a44e7af.jpg to /content/gdrive/My Drive/MLP\n",
            "  0% 0.00/749k [00:00<?, ?B/s]\n",
            "100% 749k/749k [00:00<00:00, 49.8MB/s]\n",
            "Downloading 802969daaddbbc8c.jpg to /content/gdrive/My Drive/MLP\n",
            "  0% 0.00/938k [00:00<?, ?B/s]\n",
            "100% 938k/938k [00:00<00:00, 62.0MB/s]\n",
            "Downloading 800113bb65efe69e.jpg to /content/gdrive/My Drive/MLP\n",
            "  0% 0.00/688k [00:00<?, ?B/s]\n",
            "100% 688k/688k [00:00<00:00, 57.5MB/s]\n",
            "Downloading 802962dc3ecdbb8d.jpg.zip to /content/gdrive/My Drive/MLP\n",
            "  0% 0.00/1.21M [00:00<?, ?B/s]\n",
            "100% 1.21M/1.21M [00:00<00:00, 81.1MB/s]\n",
            "Downloading 8023c3f31f875b6c.jpg to /content/gdrive/My Drive/MLP\n",
            "  0% 0.00/761k [00:00<?, ?B/s]\n",
            "100% 761k/761k [00:00<00:00, 51.0MB/s]\n",
            "Downloading 80273091d9e9bddb.jpg.zip to /content/gdrive/My Drive/MLP\n",
            "  0% 0.00/1.00M [00:00<?, ?B/s]\n",
            "100% 1.00M/1.00M [00:00<00:00, 68.2MB/s]\n",
            "Downloading 80077517781fb94f.jpg to /content/gdrive/My Drive/MLP\n",
            "  0% 0.00/976k [00:00<?, ?B/s]\n",
            "100% 976k/976k [00:00<00:00, 64.5MB/s]\n",
            "Downloading 80070f7fb5e2ccaa.jpg.zip to /content/gdrive/My Drive/MLP\n",
            "  0% 0.00/1.00M [00:00<?, ?B/s]\n",
            "100% 1.00M/1.00M [00:00<00:00, 67.9MB/s]\n",
            "Downloading c7b03e718489f3ca.jpg to /content/gdrive/My Drive/MLP\n",
            "  0% 0.00/990k [00:00<?, ?B/s]\n",
            "100% 990k/990k [00:00<00:00, 66.6MB/s]\n",
            "Downloading ad8770db05586b59.jpg.zip to /content/gdrive/My Drive/MLP\n",
            "  0% 0.00/1.12M [00:00<?, ?B/s]\n",
            "100% 1.12M/1.12M [00:00<00:00, 17.7MB/s]\n",
            "Downloading 85f8cb619c66b863.jpg to /content/gdrive/My Drive/MLP\n",
            "  0% 0.00/951k [00:00<?, ?B/s]\n",
            "100% 951k/951k [00:00<00:00, 62.9MB/s]\n",
            "Downloading train.csv to /content/gdrive/My Drive/MLP\n",
            "  0% 0.00/572k [00:00<?, ?B/s]\n",
            "100% 572k/572k [00:00<00:00, 80.1MB/s]\n",
            "Downloading sample_submission.csv to /content/gdrive/My Drive/MLP\n",
            "  0% 0.00/100 [00:00<?, ?B/s]\n",
            "100% 100/100 [00:00<00:00, 13.1kB/s]\n"
          ]
        }
      ]
    },
    {
      "cell_type": "code",
      "source": [
        "! unzip plant-pathology-2021-fgvc8.zip -d train"
      ],
      "metadata": {
        "colab": {
          "base_uri": "https://localhost:8080/"
        },
        "id": "4w4s3qRQ3Z6X",
        "outputId": "dc2c6285-c011-4090-8f5b-d6cfce51ce12"
      },
      "execution_count": null,
      "outputs": [
        {
          "output_type": "stream",
          "name": "stdout",
          "text": [
            "Archive:  plant-pathology-2021-fgvc8.zip\n",
            "replace train/sample_submission.csv? [y]es, [n]o, [A]ll, [N]one, [r]ename: n\n",
            "replace train/test_images/85f8cb619c66b863.jpg? [y]es, [n]o, [A]ll, [N]one, [r]ename: "
          ]
        }
      ]
    },
    {
      "cell_type": "markdown",
      "source": [
        "Data processing\n"
      ],
      "metadata": {
        "id": "v192m162tVHj"
      }
    },
    {
      "cell_type": "code",
      "source": [
        "import pandas as pd\n",
        "import cv2\n",
        "\n",
        "%cd /content/gdrive/MyDrive/MLP/train/"
      ],
      "metadata": {
        "id": "ibOekLk5tlko",
        "colab": {
          "base_uri": "https://localhost:8080/"
        },
        "outputId": "0d90755f-b6d4-4651-d430-df9f9e7472d0"
      },
      "execution_count": 116,
      "outputs": [
        {
          "output_type": "stream",
          "name": "stdout",
          "text": [
            "/content/gdrive/MyDrive/MLP/train\n"
          ]
        }
      ]
    },
    {
      "cell_type": "code",
      "source": [
        "df = pd.read_csv('train.csv')\n",
        "print(df.head())\n",
        "\n",
        "# df_test = pd.read_csv('sample_submission.csv')\n",
        "# print(df_test.head())"
      ],
      "metadata": {
        "colab": {
          "base_uri": "https://localhost:8080/"
        },
        "id": "4oGL6rPetoLs",
        "outputId": "cf3aedf2-0291-4c2d-83dc-b00e9ea753d9"
      },
      "execution_count": 117,
      "outputs": [
        {
          "output_type": "stream",
          "name": "stdout",
          "text": [
            "                  image                           labels\n",
            "0  800113bb65efe69e.jpg                          healthy\n",
            "1  8002cb321f8bfcdf.jpg  scab frog_eye_leaf_spot complex\n",
            "2  80070f7fb5e2ccaa.jpg                             scab\n",
            "3  80077517781fb94f.jpg                             scab\n",
            "4  800cbf0ff87721f8.jpg                          complex\n"
          ]
        }
      ]
    },
    {
      "cell_type": "code",
      "source": [
        "def sample(df, sample_size):\n",
        "  \"\"\"\n",
        "  This function gets an equal sample inclusive of all classes from the input dataframe\n",
        "  \"\"\"\n",
        "  df_sampled = []\n",
        "  classes = df['labels'].unique()\n",
        "\n",
        "  for i in classes:\n",
        "      g = df[df['labels'] == i].sample(sample_size)\n",
        "      df_sampled.append(g)\n",
        "\n",
        "  df_sampled = pd.concat(df_sampled)\n",
        "  return df_sampled\n",
        "\n",
        "df_sampled = sample(df, 80)\n",
        "print(df_sampled)"
      ],
      "metadata": {
        "colab": {
          "base_uri": "https://localhost:8080/"
        },
        "id": "Zh7Rr6dNzlMN",
        "outputId": "59d84684-2a9b-4a49-d68d-641d9043bdc2"
      },
      "execution_count": 118,
      "outputs": [
        {
          "output_type": "stream",
          "name": "stdout",
          "text": [
            "                      image        labels\n",
            "15773  eff2de8b21a83142.jpg       healthy\n",
            "1169   88a9b090d7dcdbd8.jpg       healthy\n",
            "13514  df38618b63c0c375.jpg       healthy\n",
            "3818   9fd8a0ed6cc0b352.jpg       healthy\n",
            "5723   aac590c782c7dada.jpg       healthy\n",
            "...                     ...           ...\n",
            "7639   b5c087bf8bb04d31.jpg  rust complex\n",
            "7900   b78dc1d9dda30350.jpg  rust complex\n",
            "11934  d2fb7286221e969c.jpg  rust complex\n",
            "5796   aaf693d63e786009.jpg  rust complex\n",
            "18454  ff331233da9091ca.jpg  rust complex\n",
            "\n",
            "[960 rows x 2 columns]\n"
          ]
        }
      ]
    },
    {
      "cell_type": "code",
      "source": [
        "def one_hot(df):\n",
        "  \"\"\"\n",
        "  This function returns all classes and combination of classes found in the input-dataframe, and returns\n",
        "  the one-hot encoded version\n",
        "  \"\"\"\n",
        "  one_hot = pd.get_dummies(df['labels'])\n",
        "  df = df.drop('labels', axis = 1)\n",
        "  df = df.join(one_hot)\n",
        "  return df\n",
        "\n",
        "df_onehot = one_hot(df_sampled)\n",
        "print(df_onehot)\n",
        "\n",
        "# df_test = one_hot(df_test)\n",
        "# print(df_test.head())"
      ],
      "metadata": {
        "colab": {
          "base_uri": "https://localhost:8080/"
        },
        "id": "GdWniTfft-GO",
        "outputId": "89c6bd4a-8441-460b-fe9e-0f94e3c05cc9"
      },
      "execution_count": 119,
      "outputs": [
        {
          "output_type": "stream",
          "name": "stdout",
          "text": [
            "                      image  ...  scab frog_eye_leaf_spot complex\n",
            "15773  eff2de8b21a83142.jpg  ...                                0\n",
            "1169   88a9b090d7dcdbd8.jpg  ...                                0\n",
            "13514  df38618b63c0c375.jpg  ...                                0\n",
            "3818   9fd8a0ed6cc0b352.jpg  ...                                0\n",
            "5723   aac590c782c7dada.jpg  ...                                0\n",
            "...                     ...  ...                              ...\n",
            "7639   b5c087bf8bb04d31.jpg  ...                                0\n",
            "7900   b78dc1d9dda30350.jpg  ...                                0\n",
            "11934  d2fb7286221e969c.jpg  ...                                0\n",
            "5796   aaf693d63e786009.jpg  ...                                0\n",
            "18454  ff331233da9091ca.jpg  ...                                0\n",
            "\n",
            "[960 rows x 13 columns]\n"
          ]
        }
      ]
    },
    {
      "cell_type": "code",
      "source": [
        "# convert dictionary into a hashable type\n",
        "df_dict = df_onehot.set_index('image').T.to_dict('list')\n",
        "# print(df_dict)\n",
        "\n",
        "# gather names of all images in the image-directory\n",
        "train_images = os.listdir('train_images/')\n",
        "\n",
        "images = []\n",
        "# find corresponding key to image from directory, and add that image to a list\n",
        "for image in train_images:\n",
        "  if image in df_dict.keys():\n",
        "    img = cv2.imread('train_images/' + train_image)\n",
        "    img = cv2.resize(img, (96, 96)) \n",
        "    images.append((image, img))\n",
        "\n",
        "# sort both the list and the data equally\n",
        "df_onehot = df_onehot.sort_values(by=['image'], ascending = True)\n",
        "images = sorted(images)"
      ],
      "metadata": {
        "id": "4jts4lwY0YS9"
      },
      "execution_count": 130,
      "outputs": []
    },
    {
      "cell_type": "code",
      "source": [
        "print(len(train_images))\n",
        "print(len(images))"
      ],
      "metadata": {
        "colab": {
          "base_uri": "https://localhost:8080/"
        },
        "id": "-R7ax6BQGA88",
        "outputId": "13383f22-2254-41d5-d265-788c95201938"
      },
      "execution_count": 133,
      "outputs": [
        {
          "output_type": "stream",
          "name": "stdout",
          "text": [
            "6794\n",
            "337\n"
          ]
        }
      ]
    },
    {
      "cell_type": "code",
      "source": [
        "# replace image-name column with the corresponding images\n",
        "# df_onehot.drop('image', axis = 1, inplace = True)\n",
        "df_onehot['images'] = images\n",
        "print(df_onehot)"
      ],
      "metadata": {
        "colab": {
          "base_uri": "https://localhost:8080/",
          "height": 364
        },
        "id": "aRXiJlseEhUj",
        "outputId": "2d513bab-e55f-4b8e-f6f0-760b4db1a9df"
      },
      "execution_count": 129,
      "outputs": [
        {
          "output_type": "error",
          "ename": "ValueError",
          "evalue": "ignored",
          "traceback": [
            "\u001b[0;31m---------------------------------------------------------------------------\u001b[0m",
            "\u001b[0;31mValueError\u001b[0m                                Traceback (most recent call last)",
            "\u001b[0;32m<ipython-input-129-f371ebdc9cdc>\u001b[0m in \u001b[0;36m<module>\u001b[0;34m()\u001b[0m\n\u001b[1;32m      1\u001b[0m \u001b[0;31m# replace image-name column with the corresponding images\u001b[0m\u001b[0;34m\u001b[0m\u001b[0;34m\u001b[0m\u001b[0;34m\u001b[0m\u001b[0m\n\u001b[1;32m      2\u001b[0m \u001b[0;31m# df_onehot.drop('image', axis = 1, inplace = True)\u001b[0m\u001b[0;34m\u001b[0m\u001b[0;34m\u001b[0m\u001b[0;34m\u001b[0m\u001b[0m\n\u001b[0;32m----> 3\u001b[0;31m \u001b[0mdf_onehot\u001b[0m\u001b[0;34m[\u001b[0m\u001b[0;34m'images'\u001b[0m\u001b[0;34m]\u001b[0m \u001b[0;34m=\u001b[0m \u001b[0mimages\u001b[0m\u001b[0;34m\u001b[0m\u001b[0;34m\u001b[0m\u001b[0m\n\u001b[0m\u001b[1;32m      4\u001b[0m \u001b[0mprint\u001b[0m\u001b[0;34m(\u001b[0m\u001b[0mdf_onehot\u001b[0m\u001b[0;34m)\u001b[0m\u001b[0;34m\u001b[0m\u001b[0;34m\u001b[0m\u001b[0m\n",
            "\u001b[0;32m/usr/local/lib/python3.7/dist-packages/pandas/core/frame.py\u001b[0m in \u001b[0;36m__setitem__\u001b[0;34m(self, key, value)\u001b[0m\n\u001b[1;32m   3042\u001b[0m         \u001b[0;32melse\u001b[0m\u001b[0;34m:\u001b[0m\u001b[0;34m\u001b[0m\u001b[0;34m\u001b[0m\u001b[0m\n\u001b[1;32m   3043\u001b[0m             \u001b[0;31m# set column\u001b[0m\u001b[0;34m\u001b[0m\u001b[0;34m\u001b[0m\u001b[0;34m\u001b[0m\u001b[0m\n\u001b[0;32m-> 3044\u001b[0;31m             \u001b[0mself\u001b[0m\u001b[0;34m.\u001b[0m\u001b[0m_set_item\u001b[0m\u001b[0;34m(\u001b[0m\u001b[0mkey\u001b[0m\u001b[0;34m,\u001b[0m \u001b[0mvalue\u001b[0m\u001b[0;34m)\u001b[0m\u001b[0;34m\u001b[0m\u001b[0;34m\u001b[0m\u001b[0m\n\u001b[0m\u001b[1;32m   3045\u001b[0m \u001b[0;34m\u001b[0m\u001b[0m\n\u001b[1;32m   3046\u001b[0m     \u001b[0;32mdef\u001b[0m \u001b[0m_setitem_slice\u001b[0m\u001b[0;34m(\u001b[0m\u001b[0mself\u001b[0m\u001b[0;34m,\u001b[0m \u001b[0mkey\u001b[0m\u001b[0;34m:\u001b[0m \u001b[0mslice\u001b[0m\u001b[0;34m,\u001b[0m \u001b[0mvalue\u001b[0m\u001b[0;34m)\u001b[0m\u001b[0;34m:\u001b[0m\u001b[0;34m\u001b[0m\u001b[0;34m\u001b[0m\u001b[0m\n",
            "\u001b[0;32m/usr/local/lib/python3.7/dist-packages/pandas/core/frame.py\u001b[0m in \u001b[0;36m_set_item\u001b[0;34m(self, key, value)\u001b[0m\n\u001b[1;32m   3118\u001b[0m         \"\"\"\n\u001b[1;32m   3119\u001b[0m         \u001b[0mself\u001b[0m\u001b[0;34m.\u001b[0m\u001b[0m_ensure_valid_index\u001b[0m\u001b[0;34m(\u001b[0m\u001b[0mvalue\u001b[0m\u001b[0;34m)\u001b[0m\u001b[0;34m\u001b[0m\u001b[0;34m\u001b[0m\u001b[0m\n\u001b[0;32m-> 3120\u001b[0;31m         \u001b[0mvalue\u001b[0m \u001b[0;34m=\u001b[0m \u001b[0mself\u001b[0m\u001b[0;34m.\u001b[0m\u001b[0m_sanitize_column\u001b[0m\u001b[0;34m(\u001b[0m\u001b[0mkey\u001b[0m\u001b[0;34m,\u001b[0m \u001b[0mvalue\u001b[0m\u001b[0;34m)\u001b[0m\u001b[0;34m\u001b[0m\u001b[0;34m\u001b[0m\u001b[0m\n\u001b[0m\u001b[1;32m   3121\u001b[0m         \u001b[0mNDFrame\u001b[0m\u001b[0;34m.\u001b[0m\u001b[0m_set_item\u001b[0m\u001b[0;34m(\u001b[0m\u001b[0mself\u001b[0m\u001b[0;34m,\u001b[0m \u001b[0mkey\u001b[0m\u001b[0;34m,\u001b[0m \u001b[0mvalue\u001b[0m\u001b[0;34m)\u001b[0m\u001b[0;34m\u001b[0m\u001b[0;34m\u001b[0m\u001b[0m\n\u001b[1;32m   3122\u001b[0m \u001b[0;34m\u001b[0m\u001b[0m\n",
            "\u001b[0;32m/usr/local/lib/python3.7/dist-packages/pandas/core/frame.py\u001b[0m in \u001b[0;36m_sanitize_column\u001b[0;34m(self, key, value, broadcast)\u001b[0m\n\u001b[1;32m   3766\u001b[0m \u001b[0;34m\u001b[0m\u001b[0m\n\u001b[1;32m   3767\u001b[0m             \u001b[0;31m# turn me into an ndarray\u001b[0m\u001b[0;34m\u001b[0m\u001b[0;34m\u001b[0m\u001b[0;34m\u001b[0m\u001b[0m\n\u001b[0;32m-> 3768\u001b[0;31m             \u001b[0mvalue\u001b[0m \u001b[0;34m=\u001b[0m \u001b[0msanitize_index\u001b[0m\u001b[0;34m(\u001b[0m\u001b[0mvalue\u001b[0m\u001b[0;34m,\u001b[0m \u001b[0mself\u001b[0m\u001b[0;34m.\u001b[0m\u001b[0mindex\u001b[0m\u001b[0;34m)\u001b[0m\u001b[0;34m\u001b[0m\u001b[0;34m\u001b[0m\u001b[0m\n\u001b[0m\u001b[1;32m   3769\u001b[0m             \u001b[0;32mif\u001b[0m \u001b[0;32mnot\u001b[0m \u001b[0misinstance\u001b[0m\u001b[0;34m(\u001b[0m\u001b[0mvalue\u001b[0m\u001b[0;34m,\u001b[0m \u001b[0;34m(\u001b[0m\u001b[0mnp\u001b[0m\u001b[0;34m.\u001b[0m\u001b[0mndarray\u001b[0m\u001b[0;34m,\u001b[0m \u001b[0mIndex\u001b[0m\u001b[0;34m)\u001b[0m\u001b[0;34m)\u001b[0m\u001b[0;34m:\u001b[0m\u001b[0;34m\u001b[0m\u001b[0;34m\u001b[0m\u001b[0m\n\u001b[1;32m   3770\u001b[0m                 \u001b[0;32mif\u001b[0m \u001b[0misinstance\u001b[0m\u001b[0;34m(\u001b[0m\u001b[0mvalue\u001b[0m\u001b[0;34m,\u001b[0m \u001b[0mlist\u001b[0m\u001b[0;34m)\u001b[0m \u001b[0;32mand\u001b[0m \u001b[0mlen\u001b[0m\u001b[0;34m(\u001b[0m\u001b[0mvalue\u001b[0m\u001b[0;34m)\u001b[0m \u001b[0;34m>\u001b[0m \u001b[0;36m0\u001b[0m\u001b[0;34m:\u001b[0m\u001b[0;34m\u001b[0m\u001b[0;34m\u001b[0m\u001b[0m\n",
            "\u001b[0;32m/usr/local/lib/python3.7/dist-packages/pandas/core/internals/construction.py\u001b[0m in \u001b[0;36msanitize_index\u001b[0;34m(data, index)\u001b[0m\n\u001b[1;32m    746\u001b[0m     \u001b[0;32mif\u001b[0m \u001b[0mlen\u001b[0m\u001b[0;34m(\u001b[0m\u001b[0mdata\u001b[0m\u001b[0;34m)\u001b[0m \u001b[0;34m!=\u001b[0m \u001b[0mlen\u001b[0m\u001b[0;34m(\u001b[0m\u001b[0mindex\u001b[0m\u001b[0;34m)\u001b[0m\u001b[0;34m:\u001b[0m\u001b[0;34m\u001b[0m\u001b[0;34m\u001b[0m\u001b[0m\n\u001b[1;32m    747\u001b[0m         raise ValueError(\n\u001b[0;32m--> 748\u001b[0;31m             \u001b[0;34m\"Length of values \"\u001b[0m\u001b[0;34m\u001b[0m\u001b[0;34m\u001b[0m\u001b[0m\n\u001b[0m\u001b[1;32m    749\u001b[0m             \u001b[0;34mf\"({len(data)}) \"\u001b[0m\u001b[0;34m\u001b[0m\u001b[0;34m\u001b[0m\u001b[0m\n\u001b[1;32m    750\u001b[0m             \u001b[0;34m\"does not match length of index \"\u001b[0m\u001b[0;34m\u001b[0m\u001b[0;34m\u001b[0m\u001b[0m\n",
            "\u001b[0;31mValueError\u001b[0m: Length of values (337) does not match length of index (960)"
          ]
        }
      ]
    }
  ]
}